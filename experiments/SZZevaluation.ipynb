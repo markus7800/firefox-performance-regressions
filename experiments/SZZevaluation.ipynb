{
 "cells": [
  {
   "cell_type": "code",
   "execution_count": 1,
   "metadata": {},
   "outputs": [
    {
     "name": "stdout",
     "output_type": "stream",
     "text": [
      "/home/markus/Documents/regression-prediction\n"
     ]
    },
    {
     "data": {
      "text/plain": [
       "'/home/markus/Documents/regression-prediction'"
      ]
     },
     "execution_count": 1,
     "metadata": {},
     "output_type": "execute_result"
    }
   ],
   "source": [
    "%cd ..\n",
    "%pwd"
   ]
  },
  {
   "cell_type": "code",
   "execution_count": 2,
   "metadata": {},
   "outputs": [],
   "source": [
    "%load_ext autoreload\n",
    "%autoreload 2"
   ]
  },
  {
   "cell_type": "code",
   "execution_count": null,
   "metadata": {},
   "outputs": [],
   "source": [
    "import requests\n",
    "import time\n",
    "url = \"https://treeherder.mozilla.org/api/performance/alertsummary/\"\n",
    "alertsummaries = []\n",
    "i = 0\n",
    "while True:\n",
    "    i += 1\n",
    "    print(f\"{i}. GET {url}\", end=\"\\r\")\n",
    "    r = requests.get(url, headers={'User-Agent': 'basic'})\n",
    "    j = r.json()\n",
    "    alertsummaries += j['results']\n",
    "    url = j['next']\n",
    "    if url is None:\n",
    "        break\n",
    "    time.sleep(0.5)"
   ]
  },
  {
   "cell_type": "code",
   "execution_count": null,
   "metadata": {},
   "outputs": [],
   "source": [
    "import datetime\n",
    "date = datetime.datetime.now().strftime('%Y-%m-%d')\n",
    "write_json_to_file(alertsummaries, f'data/labeling/alerts_{date}.json')"
   ]
  },
  {
   "cell_type": "code",
   "execution_count": 64,
   "metadata": {},
   "outputs": [],
   "source": [
    "from src.utils import *\n",
    "from src.labeling import *\n",
    "from src.repo_miner import get_commit_log"
   ]
  },
  {
   "cell_type": "code",
   "execution_count": 89,
   "metadata": {},
   "outputs": [
    {
     "name": "stderr",
     "output_type": "stream",
     "text": [
      "Get commits: 581679it [01:27, 6612.35it/s] \n"
     ]
    },
    {
     "data": {
      "text/plain": [
       "99705"
      ]
     },
     "execution_count": 89,
     "metadata": {},
     "output_type": "execute_result"
    }
   ],
   "source": [
    "selected_commits = get_selected_commits()\n",
    "len(selected_commits) # 92188"
   ]
  },
  {
   "cell_type": "code",
   "execution_count": 4,
   "metadata": {},
   "outputs": [],
   "source": [
    "alertsummaries = read_data_from_json('data/labeling/alerts_2022-03-01.json')\n",
    "alertsummaries2 = read_data_from_json('data/labeling/alerts_2021-09-13.json')"
   ]
  },
  {
   "cell_type": "code",
   "execution_count": 5,
   "metadata": {},
   "outputs": [],
   "source": [
    "alert_ids = {alert['id'] for alert in alertsummaries}\n",
    "alert_ids2 = {alert['id'] for alert in alertsummaries2}"
   ]
  },
  {
   "cell_type": "code",
   "execution_count": 6,
   "metadata": {},
   "outputs": [
    {
     "data": {
      "text/plain": [
       "(4592, 4460, 2516)"
      ]
     },
     "execution_count": 6,
     "metadata": {},
     "output_type": "execute_result"
    }
   ],
   "source": [
    "len(alert_ids), len(alert_ids2), len(alert_ids.intersection(alert_ids2))"
   ]
  },
  {
   "cell_type": "code",
   "execution_count": 7,
   "metadata": {},
   "outputs": [],
   "source": [
    "for alert in alertsummaries2:\n",
    "    if alert['id'] not in alert_ids:\n",
    "        alertsummaries.append(alert)"
   ]
  },
  {
   "cell_type": "code",
   "execution_count": 65,
   "metadata": {},
   "outputs": [
    {
     "name": "stderr",
     "output_type": "stream",
     "text": [
      "Get selected commits: 581679it [01:32, 6315.15it/s] \n"
     ]
    },
    {
     "name": "stdout",
     "output_type": "stream",
     "text": [
      "Get hg to git mapping ... Done.\n"
     ]
    }
   ],
   "source": [
    "all_commits = get_all_commits()\n",
    "hg_to_git, git_to_hg = get_hg_git_mapping()\n",
    "commit_log = get_commit_log('data/repo_miner/commit_log.csv')"
   ]
  },
  {
   "cell_type": "code",
   "execution_count": 9,
   "metadata": {},
   "outputs": [
    {
     "name": "stderr",
     "output_type": "stream",
     "text": [
      "Get defects and fixes: 206038it [00:31, 6533.75it/s] "
     ]
    },
    {
     "name": "stdout",
     "output_type": "stream",
     "text": [
      "Found\n",
      "46417 regression\n",
      "1337 security\n",
      "961 performance\n",
      "122 memory\n",
      "3348 crash\n",
      "39 power\n",
      "fix bug ids.\n"
     ]
    },
    {
     "name": "stderr",
     "output_type": "stream",
     "text": [
      "\n"
     ]
    }
   ],
   "source": [
    "szz_labeling = pd.read_csv(f'data/labeling/fixed_defect_szz.csv')\n",
    "fix_bug_ids_by_kind, _ = get_defects_and_fixes()\n",
    "fix_and_introducers = read_data_from_json(f'data/labeling/fixed_defect_szz/results/fix_and_introducers_pairs.json')"
   ]
  },
  {
   "cell_type": "code",
   "execution_count": 24,
   "metadata": {},
   "outputs": [],
   "source": [
    "for pair in fix_and_introducers:\n",
    "    pair[0] = git_to_hg[pair[0]]\n",
    "    pair[1] = git_to_hg[pair[1]]"
   ]
  },
  {
   "cell_type": "code",
   "execution_count": 26,
   "metadata": {},
   "outputs": [
    {
     "data": {
      "text/plain": [
       "2495"
      ]
     },
     "execution_count": 26,
     "metadata": {},
     "output_type": "execute_result"
    }
   ],
   "source": [
    "len(fix_and_introducers)"
   ]
  },
  {
   "cell_type": "code",
   "execution_count": 66,
   "metadata": {},
   "outputs": [
    {
     "data": {
      "text/html": [
       "<div>\n",
       "<style scoped>\n",
       "    .dataframe tbody tr th:only-of-type {\n",
       "        vertical-align: middle;\n",
       "    }\n",
       "\n",
       "    .dataframe tbody tr th {\n",
       "        vertical-align: top;\n",
       "    }\n",
       "\n",
       "    .dataframe thead th {\n",
       "        text-align: right;\n",
       "    }\n",
       "</style>\n",
       "<table border=\"1\" class=\"dataframe\">\n",
       "  <thead>\n",
       "    <tr style=\"text-align: right;\">\n",
       "      <th></th>\n",
       "      <th>fix</th>\n",
       "      <th>introducer</th>\n",
       "    </tr>\n",
       "  </thead>\n",
       "  <tbody>\n",
       "    <tr>\n",
       "      <th>0</th>\n",
       "      <td>b6113f461cb8bc50be357b7e84793c11f7a5c179</td>\n",
       "      <td>a6da1179a589e207da62749f5966f30024f7f0c9</td>\n",
       "    </tr>\n",
       "    <tr>\n",
       "      <th>1</th>\n",
       "      <td>714d667c7f120e7218ca08fb0f29508f4c81cc92</td>\n",
       "      <td>21ce1e95d697cbc1bdaa45d124e55642ff5b2fd3</td>\n",
       "    </tr>\n",
       "    <tr>\n",
       "      <th>2</th>\n",
       "      <td>714d667c7f120e7218ca08fb0f29508f4c81cc92</td>\n",
       "      <td>6daa67c0cae427dc8e514d5f1beea9f71ee4d8ef</td>\n",
       "    </tr>\n",
       "    <tr>\n",
       "      <th>3</th>\n",
       "      <td>714d667c7f120e7218ca08fb0f29508f4c81cc92</td>\n",
       "      <td>e53cd28c6cf360d7d9aa3a35051582112e608df1</td>\n",
       "    </tr>\n",
       "    <tr>\n",
       "      <th>4</th>\n",
       "      <td>714d667c7f120e7218ca08fb0f29508f4c81cc92</td>\n",
       "      <td>be7a5a989cb3dbabce6a1bb78aad2d05baa3589a</td>\n",
       "    </tr>\n",
       "    <tr>\n",
       "      <th>...</th>\n",
       "      <td>...</td>\n",
       "      <td>...</td>\n",
       "    </tr>\n",
       "    <tr>\n",
       "      <th>2490</th>\n",
       "      <td>8a0c0ad101aba2f397fa58932315004aa33de2d9</td>\n",
       "      <td>1ddc47f7370187b3a07d61a65f9f0fd19e7e20a5</td>\n",
       "    </tr>\n",
       "    <tr>\n",
       "      <th>2491</th>\n",
       "      <td>8a0c0ad101aba2f397fa58932315004aa33de2d9</td>\n",
       "      <td>1ddc47f7370187b3a07d61a65f9f0fd19e7e20a5</td>\n",
       "    </tr>\n",
       "    <tr>\n",
       "      <th>2492</th>\n",
       "      <td>e3d87330819774902687ba23d1a76b5f46daf26d</td>\n",
       "      <td>1ddc47f7370187b3a07d61a65f9f0fd19e7e20a5</td>\n",
       "    </tr>\n",
       "    <tr>\n",
       "      <th>2493</th>\n",
       "      <td>40b67d5f6d17f1e206d283d20bc35da5272fee38</td>\n",
       "      <td>1ddc47f7370187b3a07d61a65f9f0fd19e7e20a5</td>\n",
       "    </tr>\n",
       "    <tr>\n",
       "      <th>2494</th>\n",
       "      <td>70ccd0e80f8a960a3ad91eeddb35c5db73a367a4</td>\n",
       "      <td>f40f0ac8c4e83eef889430799aa8f699f6c0dfed</td>\n",
       "    </tr>\n",
       "  </tbody>\n",
       "</table>\n",
       "<p>2495 rows × 2 columns</p>\n",
       "</div>"
      ],
      "text/plain": [
       "                                           fix  \\\n",
       "0     b6113f461cb8bc50be357b7e84793c11f7a5c179   \n",
       "1     714d667c7f120e7218ca08fb0f29508f4c81cc92   \n",
       "2     714d667c7f120e7218ca08fb0f29508f4c81cc92   \n",
       "3     714d667c7f120e7218ca08fb0f29508f4c81cc92   \n",
       "4     714d667c7f120e7218ca08fb0f29508f4c81cc92   \n",
       "...                                        ...   \n",
       "2490  8a0c0ad101aba2f397fa58932315004aa33de2d9   \n",
       "2491  8a0c0ad101aba2f397fa58932315004aa33de2d9   \n",
       "2492  e3d87330819774902687ba23d1a76b5f46daf26d   \n",
       "2493  40b67d5f6d17f1e206d283d20bc35da5272fee38   \n",
       "2494  70ccd0e80f8a960a3ad91eeddb35c5db73a367a4   \n",
       "\n",
       "                                    introducer  \n",
       "0     a6da1179a589e207da62749f5966f30024f7f0c9  \n",
       "1     21ce1e95d697cbc1bdaa45d124e55642ff5b2fd3  \n",
       "2     6daa67c0cae427dc8e514d5f1beea9f71ee4d8ef  \n",
       "3     e53cd28c6cf360d7d9aa3a35051582112e608df1  \n",
       "4     be7a5a989cb3dbabce6a1bb78aad2d05baa3589a  \n",
       "...                                        ...  \n",
       "2490  1ddc47f7370187b3a07d61a65f9f0fd19e7e20a5  \n",
       "2491  1ddc47f7370187b3a07d61a65f9f0fd19e7e20a5  \n",
       "2492  1ddc47f7370187b3a07d61a65f9f0fd19e7e20a5  \n",
       "2493  1ddc47f7370187b3a07d61a65f9f0fd19e7e20a5  \n",
       "2494  f40f0ac8c4e83eef889430799aa8f699f6c0dfed  \n",
       "\n",
       "[2495 rows x 2 columns]"
      ]
     },
     "execution_count": 66,
     "metadata": {},
     "output_type": "execute_result"
    }
   ],
   "source": [
    "fix_and_introducers_df = pd.DataFrame(fix_and_introducers, columns=['fix', 'introducer'])\n",
    "fix_and_introducers_df"
   ]
  },
  {
   "cell_type": "code",
   "execution_count": 67,
   "metadata": {},
   "outputs": [
    {
     "data": {
      "text/html": [
       "<div>\n",
       "<style scoped>\n",
       "    .dataframe tbody tr th:only-of-type {\n",
       "        vertical-align: middle;\n",
       "    }\n",
       "\n",
       "    .dataframe tbody tr th {\n",
       "        vertical-align: top;\n",
       "    }\n",
       "\n",
       "    .dataframe thead th {\n",
       "        text-align: right;\n",
       "    }\n",
       "</style>\n",
       "<table border=\"1\" class=\"dataframe\">\n",
       "  <thead>\n",
       "    <tr style=\"text-align: right;\">\n",
       "      <th></th>\n",
       "      <th>fix</th>\n",
       "      <th>introducer</th>\n",
       "      <th>bug_id</th>\n",
       "    </tr>\n",
       "  </thead>\n",
       "  <tbody>\n",
       "    <tr>\n",
       "      <th>0</th>\n",
       "      <td>b6113f461cb8bc50be357b7e84793c11f7a5c179</td>\n",
       "      <td>a6da1179a589e207da62749f5966f30024f7f0c9</td>\n",
       "      <td>1693027</td>\n",
       "    </tr>\n",
       "    <tr>\n",
       "      <th>1</th>\n",
       "      <td>714d667c7f120e7218ca08fb0f29508f4c81cc92</td>\n",
       "      <td>21ce1e95d697cbc1bdaa45d124e55642ff5b2fd3</td>\n",
       "      <td>1582797</td>\n",
       "    </tr>\n",
       "    <tr>\n",
       "      <th>2</th>\n",
       "      <td>714d667c7f120e7218ca08fb0f29508f4c81cc92</td>\n",
       "      <td>6daa67c0cae427dc8e514d5f1beea9f71ee4d8ef</td>\n",
       "      <td>1582797</td>\n",
       "    </tr>\n",
       "    <tr>\n",
       "      <th>3</th>\n",
       "      <td>714d667c7f120e7218ca08fb0f29508f4c81cc92</td>\n",
       "      <td>e53cd28c6cf360d7d9aa3a35051582112e608df1</td>\n",
       "      <td>1582797</td>\n",
       "    </tr>\n",
       "    <tr>\n",
       "      <th>4</th>\n",
       "      <td>714d667c7f120e7218ca08fb0f29508f4c81cc92</td>\n",
       "      <td>be7a5a989cb3dbabce6a1bb78aad2d05baa3589a</td>\n",
       "      <td>1582797</td>\n",
       "    </tr>\n",
       "    <tr>\n",
       "      <th>...</th>\n",
       "      <td>...</td>\n",
       "      <td>...</td>\n",
       "      <td>...</td>\n",
       "    </tr>\n",
       "    <tr>\n",
       "      <th>2490</th>\n",
       "      <td>59a0ddad5c28302d22089be78e59f2a058898842</td>\n",
       "      <td>17190bff616b3cbaca692825c64e6650a1de9562</td>\n",
       "      <td>1681030</td>\n",
       "    </tr>\n",
       "    <tr>\n",
       "      <th>2491</th>\n",
       "      <td>a5e88ddf8867e24f09fbb0bf0491d107cf68028d</td>\n",
       "      <td>b4197fcbd41190d40e4eec3ab4c2e270d80c7424</td>\n",
       "      <td>1665196</td>\n",
       "    </tr>\n",
       "    <tr>\n",
       "      <th>2492</th>\n",
       "      <td>e3d87330819774902687ba23d1a76b5f46daf26d</td>\n",
       "      <td>1ddc47f7370187b3a07d61a65f9f0fd19e7e20a5</td>\n",
       "      <td>1596709</td>\n",
       "    </tr>\n",
       "    <tr>\n",
       "      <th>2493</th>\n",
       "      <td>40b67d5f6d17f1e206d283d20bc35da5272fee38</td>\n",
       "      <td>1ddc47f7370187b3a07d61a65f9f0fd19e7e20a5</td>\n",
       "      <td>1596709</td>\n",
       "    </tr>\n",
       "    <tr>\n",
       "      <th>2494</th>\n",
       "      <td>70ccd0e80f8a960a3ad91eeddb35c5db73a367a4</td>\n",
       "      <td>f40f0ac8c4e83eef889430799aa8f699f6c0dfed</td>\n",
       "      <td>1730682</td>\n",
       "    </tr>\n",
       "  </tbody>\n",
       "</table>\n",
       "<p>2495 rows × 3 columns</p>\n",
       "</div>"
      ],
      "text/plain": [
       "                                           fix  \\\n",
       "0     b6113f461cb8bc50be357b7e84793c11f7a5c179   \n",
       "1     714d667c7f120e7218ca08fb0f29508f4c81cc92   \n",
       "2     714d667c7f120e7218ca08fb0f29508f4c81cc92   \n",
       "3     714d667c7f120e7218ca08fb0f29508f4c81cc92   \n",
       "4     714d667c7f120e7218ca08fb0f29508f4c81cc92   \n",
       "...                                        ...   \n",
       "2490  59a0ddad5c28302d22089be78e59f2a058898842   \n",
       "2491  a5e88ddf8867e24f09fbb0bf0491d107cf68028d   \n",
       "2492  e3d87330819774902687ba23d1a76b5f46daf26d   \n",
       "2493  40b67d5f6d17f1e206d283d20bc35da5272fee38   \n",
       "2494  70ccd0e80f8a960a3ad91eeddb35c5db73a367a4   \n",
       "\n",
       "                                    introducer   bug_id  \n",
       "0     a6da1179a589e207da62749f5966f30024f7f0c9  1693027  \n",
       "1     21ce1e95d697cbc1bdaa45d124e55642ff5b2fd3  1582797  \n",
       "2     6daa67c0cae427dc8e514d5f1beea9f71ee4d8ef  1582797  \n",
       "3     e53cd28c6cf360d7d9aa3a35051582112e608df1  1582797  \n",
       "4     be7a5a989cb3dbabce6a1bb78aad2d05baa3589a  1582797  \n",
       "...                                        ...      ...  \n",
       "2490  17190bff616b3cbaca692825c64e6650a1de9562  1681030  \n",
       "2491  b4197fcbd41190d40e4eec3ab4c2e270d80c7424  1665196  \n",
       "2492  1ddc47f7370187b3a07d61a65f9f0fd19e7e20a5  1596709  \n",
       "2493  1ddc47f7370187b3a07d61a65f9f0fd19e7e20a5  1596709  \n",
       "2494  f40f0ac8c4e83eef889430799aa8f699f6c0dfed  1730682  \n",
       "\n",
       "[2495 rows x 3 columns]"
      ]
     },
     "execution_count": 67,
     "metadata": {},
     "output_type": "execute_result"
    }
   ],
   "source": [
    "fix_and_introducers_df = fix_and_introducers_df.merge(all_commits[['revision', 'bug_id']], left_on='fix', right_on='revision').drop('revision', axis=1)\n",
    "fix_and_introducers_df"
   ]
  },
  {
   "cell_type": "code",
   "execution_count": 68,
   "metadata": {},
   "outputs": [
    {
     "data": {
      "text/plain": [
       "(297, 192)"
      ]
     },
     "execution_count": 68,
     "metadata": {},
     "output_type": "execute_result"
    }
   ],
   "source": [
    "# fix_bug_ids_by_kind['performance'] are bug numbers for which we tried to find an introducer\n",
    "alertsummaries_considered = [alert for alert in alertsummaries if alert['bug_number'] in fix_bug_ids_by_kind['performance']]\n",
    "\n",
    "# total number of bug ids for which an alert exists and for which we tried to find an introducer\n",
    "N = len({alert['bug_number'] for alert in alertsummaries_considered})\n",
    "\n",
    "len(alertsummaries_considered), N"
   ]
  },
  {
   "cell_type": "code",
   "execution_count": 69,
   "metadata": {},
   "outputs": [
    {
     "data": {
      "text/plain": [
       "(144, 87)"
      ]
     },
     "execution_count": 69,
     "metadata": {},
     "output_type": "execute_result"
    }
   ],
   "source": [
    "# bug ids for which we actually found an introducer\n",
    "bug_ids_found = set(fix_and_introducers_df['bug_id'])\n",
    "assert len(bug_ids_found.difference(set(fix_bug_ids_by_kind['performance']))) == 0\n",
    "\n",
    "# corresponding alerts\n",
    "alertsummaries_found = [alert for alert in alertsummaries_considered if alert['bug_number'] in bug_ids_found]\n",
    "\n",
    "# all bug ids for which an alert exists and for which we found an introducer\n",
    "alert_bug_ids = {alert['bug_number'] for alert in alertsummaries_found}\n",
    "\n",
    "TP_plus_FP = len(alert_bug_ids)\n",
    "\n",
    "len(alertsummaries_found), TP_plus_FP"
   ]
  },
  {
   "cell_type": "code",
   "execution_count": 70,
   "metadata": {},
   "outputs": [
    {
     "data": {
      "text/plain": [
       "105"
      ]
     },
     "execution_count": 70,
     "metadata": {},
     "output_type": "execute_result"
    }
   ],
   "source": [
    "# number of bug ids for which we tried to find an introducer but did not\n",
    "# lower bound on false negative *commits*\n",
    "N - TP_plus_FP"
   ]
  },
  {
   "cell_type": "code",
   "execution_count": 78,
   "metadata": {},
   "outputs": [
    {
     "data": {
      "text/plain": [
       "(38, 691, 729)"
      ]
     },
     "execution_count": 78,
     "metadata": {},
     "output_type": "execute_result"
    }
   ],
   "source": [
    "TP = 0\n",
    "FP = 0\n",
    "\n",
    "for bug_id in alert_bug_ids:\n",
    "    introducers_for_bug = fix_and_introducers_df.loc[fix_and_introducers_df['bug_id'] == bug_id, 'introducer']\n",
    "    introducers_for_bug = set(introducers_for_bug)\n",
    "    assert len(introducers_for_bug) > 0\n",
    "    \n",
    "    all_candidate_revisions = set()\n",
    "    for alert in alertsummaries_considered:\n",
    "        if alert['bug_number'] == bug_id:\n",
    "            try:\n",
    "                if alert['prev_push_revision'] == alert['revision']:\n",
    "                    # this is sometimes the case, we just take single commit\n",
    "                    candidate_revisions = set(commit_log.loc[alert['prev_push_revision']:alert['revision'], 'revision'])\n",
    "                else:\n",
    "                    # performance change detected in interval (alert['prev_push_revision'], alert['revision']]\n",
    "                    candidate_revisions = set(commit_log.loc[alert['prev_push_revision']:alert['revision'], 'revision'].iloc[1:])\n",
    "            except KeyError:\n",
    "                pass\n",
    "            all_candidate_revisions = all_candidate_revisions.union(candidate_revisions)\n",
    "\n",
    "    TP += len(introducers_for_bug.intersection(candidate_revisions))\n",
    "    FP += len(introducers_for_bug.difference(candidate_revisions))\n",
    "\n",
    "TP, FP, TP + FP\n",
    "            "
   ]
  },
  {
   "cell_type": "code",
   "execution_count": 10,
   "metadata": {},
   "outputs": [
    {
     "name": "stderr",
     "output_type": "stream",
     "text": [
      "Get regressors and fixes: 206038it [00:29, 6899.19it/s] \n"
     ]
    },
    {
     "name": "stdout",
     "output_type": "stream",
     "text": [
      "Found\n",
      "9562 regression\n",
      "874 performance\n",
      "1214 crash\n",
      "281 security\n",
      "32 memory\n",
      "9 power\n",
      "regressor bug ids,\n",
      "\n",
      "and\n",
      "\n",
      "15334 regression\n",
      "965 performance\n",
      "1577 crash\n",
      "299 security\n",
      "31 memory\n",
      "9 power\n",
      "fix bug ids.\n"
     ]
    }
   ],
   "source": [
    "_, _, _, bugbug_fix_to_regressor = get_bugbug_regressors_and_fixes()\n"
   ]
  },
  {
   "cell_type": "code",
   "execution_count": 59,
   "metadata": {},
   "outputs": [
    {
     "data": {
      "text/plain": [
       "15334"
      ]
     },
     "execution_count": 59,
     "metadata": {},
     "output_type": "execute_result"
    }
   ],
   "source": [
    "bugbug_fixes = set(bugbug_fix_to_regressor.keys())\n",
    "len(bugbug_fixes)"
   ]
  },
  {
   "cell_type": "code",
   "execution_count": 60,
   "metadata": {},
   "outputs": [
    {
     "data": {
      "text/plain": [
       "371"
      ]
     },
     "execution_count": 60,
     "metadata": {},
     "output_type": "execute_result"
    }
   ],
   "source": [
    "bug_ids_considered = bugbug_fixes.intersection(set(fix_bug_ids_by_kind['performance']))\n",
    "N = len(bug_ids_considered)\n",
    "N"
   ]
  },
  {
   "cell_type": "code",
   "execution_count": 63,
   "metadata": {},
   "outputs": [
    {
     "data": {
      "text/plain": [
       "164"
      ]
     },
     "execution_count": 63,
     "metadata": {},
     "output_type": "execute_result"
    }
   ],
   "source": [
    "# bug ids for which we actually found an introducer\n",
    "bug_ids_found = set(fix_and_introducers_df['bug_id'])\n",
    "assert len(bug_ids_found.difference(set(fix_bug_ids_by_kind['performance']))) == 0\n",
    "\n",
    "regressed_by_bug_ids = bug_ids_considered.intersection(bug_ids_found)\n",
    "TP_plus_FP = len(regressed_by_bug_ids)\n",
    "TP_plus_FP"
   ]
  },
  {
   "cell_type": "code",
   "execution_count": 62,
   "metadata": {},
   "outputs": [
    {
     "data": {
      "text/plain": [
       "207"
      ]
     },
     "execution_count": 62,
     "metadata": {},
     "output_type": "execute_result"
    }
   ],
   "source": [
    "# number of bug ids for which we tried to find an introducer but did not\n",
    "# lower bound on false negative *commits*\n",
    "N - TP_plus_FP"
   ]
  },
  {
   "cell_type": "code",
   "execution_count": 77,
   "metadata": {},
   "outputs": [
    {
     "data": {
      "text/plain": [
       "(134, 576, 710)"
      ]
     },
     "execution_count": 77,
     "metadata": {},
     "output_type": "execute_result"
    }
   ],
   "source": [
    "TP = 0\n",
    "FP = 0\n",
    "\n",
    "for bug_id in regressed_by_bug_ids:\n",
    "    introducers_for_bug = fix_and_introducers_df.loc[fix_and_introducers_df['bug_id'] == bug_id, 'introducer']\n",
    "    introducers_for_bug = set(introducers_for_bug)\n",
    "    assert len(introducers_for_bug) > 0\n",
    "    \n",
    "    all_candidate_revisions = set()\n",
    "    for regressors_bug_id in bugbug_fix_to_regressor[bug_id]:\n",
    "        candidate_revisions = set(all_commits.loc[all_commits['bug_id'] == regressors_bug_id, 'revision'])\n",
    "        all_candidate_revisions = all_candidate_revisions.union(candidate_revisions)\n",
    "\n",
    "\n",
    "    TP += len(introducers_for_bug.intersection(candidate_revisions))\n",
    "    FP += len(introducers_for_bug.difference(candidate_revisions))\n",
    "\n",
    "TP, FP, TP + FP"
   ]
  },
  {
   "cell_type": "code",
   "execution_count": 83,
   "metadata": {},
   "outputs": [
    {
     "name": "stderr",
     "output_type": "stream",
     "text": [
      "Get defects and fixes: 206038it [00:24, 8383.67it/s] \n"
     ]
    }
   ],
   "source": [
    "resolutions = set()\n",
    "status = set()\n",
    "types = set()\n",
    "my_bug = None\n",
    "with open('data/bugbug/bugs.json', encoding=\"utf-8\") as f:\n",
    "    for line in tqdm(f, desc='Get defects and fixes'):\n",
    "        bug = json.loads(line)\n",
    "        if bug['id'] == 1717171:\n",
    "            my_bug = bug\n",
    "        resolutions.add(bug['resolution'])\n",
    "        status.add(bug['status'])\n",
    "        types.add(bug['type'])"
   ]
  },
  {
   "cell_type": "code",
   "execution_count": 84,
   "metadata": {},
   "outputs": [
    {
     "data": {
      "text/plain": [
       "{'',\n",
       " 'DUPLICATE',\n",
       " 'EXPIRED',\n",
       " 'FIXED',\n",
       " 'INACTIVE',\n",
       " 'INCOMPLETE',\n",
       " 'INVALID',\n",
       " 'MOVED',\n",
       " 'WONTFIX',\n",
       " 'WORKSFORME'}"
      ]
     },
     "execution_count": 84,
     "metadata": {},
     "output_type": "execute_result"
    }
   ],
   "source": [
    "resolutions"
   ]
  },
  {
   "cell_type": "code",
   "execution_count": 85,
   "metadata": {},
   "outputs": [
    {
     "data": {
      "text/plain": [
       "{'ASSIGNED',\n",
       " 'CLOSED',\n",
       " 'NEW',\n",
       " 'REOPENED',\n",
       " 'RESOLVED',\n",
       " 'UNCONFIRMED',\n",
       " 'VERIFIED'}"
      ]
     },
     "execution_count": 85,
     "metadata": {},
     "output_type": "execute_result"
    }
   ],
   "source": [
    "status"
   ]
  },
  {
   "cell_type": "code",
   "execution_count": 86,
   "metadata": {},
   "outputs": [
    {
     "data": {
      "text/plain": [
       "{'--', 'defect', 'enhancement', 'task'}"
      ]
     },
     "execution_count": 86,
     "metadata": {},
     "output_type": "execute_result"
    }
   ],
   "source": [
    "types"
   ]
  },
  {
   "cell_type": "code",
   "execution_count": null,
   "metadata": {},
   "outputs": [],
   "source": []
  },
  {
   "cell_type": "code",
   "execution_count": null,
   "metadata": {},
   "outputs": [],
   "source": [
    "#labeling = 'fixed_defect_szz'\n",
    "\n",
    "bugbug_szz_labeling = pd.read_csv(f'data/labeling/bugbug_szz.csv')\n",
    "fixed_defect_szz_labeling = pd.read_csv(f'data/labeling/fixed_defect_szz.csv')\n",
    "# fix_and_introducers = read_data_from_json(f'data/labeling/{labeling}/results/fix_and_introducers_pairs.json')\n",
    "\n",
    "_, bugbug_fix_bug_ids_by_kind, _ = get_bugbug_regressors_and_fixes()\n",
    "\n",
    "fixed_defect_fix_bug_ids_by_kind, _ = get_defects_and_fixes()\n"
   ]
  },
  {
   "cell_type": "code",
   "execution_count": null,
   "metadata": {},
   "outputs": [],
   "source": [
    "bugbug_szz_labeling['performance'].sum()"
   ]
  },
  {
   "cell_type": "code",
   "execution_count": null,
   "metadata": {},
   "outputs": [],
   "source": [
    "fixed_defect_szz_labeling['performance'].sum()"
   ]
  },
  {
   "cell_type": "code",
   "execution_count": null,
   "metadata": {},
   "outputs": [],
   "source": [
    "import numpy as np\n",
    "np.maximum(fixed_defect_szz_labeling['performance'], bugbug_szz_labeling['performance']).sum()"
   ]
  },
  {
   "cell_type": "code",
   "execution_count": null,
   "metadata": {},
   "outputs": [],
   "source": [
    "len(fix_bug_ids_by_kind['performance'])"
   ]
  },
  {
   "cell_type": "code",
   "execution_count": null,
   "metadata": {},
   "outputs": [],
   "source": [
    "import pandas as pd\n"
   ]
  },
  {
   "cell_type": "code",
   "execution_count": null,
   "metadata": {},
   "outputs": [],
   "source": [
    "fixes = set(fix for fix, introducer in fix_and_introducers)\n",
    "len(fixes)"
   ]
  },
  {
   "cell_type": "code",
   "execution_count": null,
   "metadata": {},
   "outputs": [],
   "source": [
    "A = set(fixed_defect_fix_bug_ids_by_kind['performance'])\n",
    "B = set(bugbug_fix_bug_ids_by_kind['performance'])\n",
    "I = A.intersection(B)\n",
    "len(I)"
   ]
  },
  {
   "cell_type": "code",
   "execution_count": null,
   "metadata": {},
   "outputs": [],
   "source": [
    "len(A.difference(I)), len(B.difference(I))"
   ]
  },
  {
   "cell_type": "code",
   "execution_count": null,
   "metadata": {},
   "outputs": [],
   "source": [
    "alertsummaries_filtered = [a for a in alertsummaries if a['bug_number'] in fixed_defect_fix_bug_ids_by_kind['performance']]\n",
    "len(alertsummaries_filtered)"
   ]
  },
  {
   "cell_type": "code",
   "execution_count": null,
   "metadata": {},
   "outputs": [],
   "source": [
    "alertsummaries_filtered = [a for a in alertsummaries if a['bug_number'] in bugbug_fix_bug_ids_by_kind['performance']]\n",
    "len(alertsummaries_filtered)"
   ]
  },
  {
   "cell_type": "code",
   "execution_count": null,
   "metadata": {},
   "outputs": [],
   "source": [
    "alert_bug_ids = set(a['bug_number'] for a in alertsummaries)\n",
    "len(alert_bug_ids.intersection(fixed_defect_fix_bug_ids_by_kind['performance']))"
   ]
  },
  {
   "cell_type": "code",
   "execution_count": null,
   "metadata": {},
   "outputs": [],
   "source": [
    "alert_bug_ids = set(a['bug_number'] for a in alertsummaries)\n",
    "len(alert_bug_ids.intersection(bugbug_fix_bug_ids_by_kind['performance']))"
   ]
  },
  {
   "cell_type": "code",
   "execution_count": null,
   "metadata": {},
   "outputs": [],
   "source": []
  }
 ],
 "metadata": {
  "interpreter": {
   "hash": "aee8b7b246df8f9039afb4144a1f6fd8d2ca17a180786b69acc140d282b71a49"
  },
  "kernelspec": {
   "display_name": "Python 3.9.7 64-bit",
   "language": "python",
   "name": "python3"
  },
  "language_info": {
   "codemirror_mode": {
    "name": "ipython",
    "version": 3
   },
   "file_extension": ".py",
   "mimetype": "text/x-python",
   "name": "python",
   "nbconvert_exporter": "python",
   "pygments_lexer": "ipython3",
   "version": "3.8.10"
  },
  "orig_nbformat": 4
 },
 "nbformat": 4,
 "nbformat_minor": 2
}
