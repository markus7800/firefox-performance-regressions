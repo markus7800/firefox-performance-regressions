{
 "cells": [
  {
   "cell_type": "code",
   "execution_count": 1,
   "metadata": {},
   "outputs": [
    {
     "name": "stdout",
     "output_type": "stream",
     "text": [
      "/home/markus/Documents/regression-prediction\n"
     ]
    },
    {
     "data": {
      "text/plain": [
       "'/home/markus/Documents/regression-prediction'"
      ]
     },
     "execution_count": 1,
     "metadata": {},
     "output_type": "execute_result"
    }
   ],
   "source": [
    "%cd ..\n",
    "%pwd"
   ]
  },
  {
   "cell_type": "code",
   "execution_count": 2,
   "metadata": {},
   "outputs": [],
   "source": [
    "%load_ext autoreload\n",
    "%autoreload 2"
   ]
  },
  {
   "cell_type": "code",
   "execution_count": null,
   "metadata": {},
   "outputs": [],
   "source": [
    "import requests\n",
    "import time\n",
    "url = \"https://treeherder.mozilla.org/api/performance/alertsummary/\"\n",
    "alertsummaries = []\n",
    "i = 0\n",
    "while True:\n",
    "    i += 1\n",
    "    print(f\"{i}. GET {url}\", end=\"\\r\")\n",
    "    r = requests.get(url, headers={'User-Agent': 'basic'})\n",
    "    j = r.json()\n",
    "    alertsummaries += j['results']\n",
    "    url = j['next']\n",
    "    if url is None:\n",
    "        break\n",
    "    time.sleep(0.5)"
   ]
  },
  {
   "cell_type": "code",
   "execution_count": null,
   "metadata": {},
   "outputs": [],
   "source": [
    "import datetime\n",
    "date = datetime.datetime.now().strftime('%Y-%m-%d')\n",
    "write_json_to_file(alertsummaries, f'data/labeling/alerts_{date}.json')"
   ]
  },
  {
   "cell_type": "code",
   "execution_count": 4,
   "metadata": {},
   "outputs": [],
   "source": [
    "from src.utils import *\n",
    "from src.labeling import *\n",
    "from src.repo_miner import get_commit_log"
   ]
  },
  {
   "cell_type": "code",
   "execution_count": 5,
   "metadata": {},
   "outputs": [],
   "source": [
    "alertsummaries = read_data_from_json('data/labeling/alerts_2022-03-01.json')\n",
    "alertsummaries2 = read_data_from_json('data/labeling/alerts_2021-09-13.json')"
   ]
  },
  {
   "cell_type": "code",
   "execution_count": 6,
   "metadata": {},
   "outputs": [],
   "source": [
    "alert_ids = {alert['id'] for alert in alertsummaries}\n",
    "alert_ids2 = {alert['id'] for alert in alertsummaries2}"
   ]
  },
  {
   "cell_type": "code",
   "execution_count": 7,
   "metadata": {},
   "outputs": [
    {
     "data": {
      "text/plain": [
       "(4592, 4460, 2516)"
      ]
     },
     "execution_count": 7,
     "metadata": {},
     "output_type": "execute_result"
    }
   ],
   "source": [
    "len(alert_ids), len(alert_ids2), len(alert_ids.intersection(alert_ids2))"
   ]
  },
  {
   "cell_type": "code",
   "execution_count": 8,
   "metadata": {},
   "outputs": [],
   "source": [
    "for alert in alertsummaries2:\n",
    "    if alert['id'] not in alert_ids:\n",
    "        alertsummaries.append(alert)"
   ]
  },
  {
   "cell_type": "code",
   "execution_count": 9,
   "metadata": {},
   "outputs": [
    {
     "name": "stderr",
     "output_type": "stream",
     "text": [
      "Get commits: 581679it [01:37, 5966.38it/s] \n"
     ]
    },
    {
     "name": "stdout",
     "output_type": "stream",
     "text": [
      "Get hg to git mapping ... Done.\n"
     ]
    }
   ],
   "source": [
    "all_commits = get_all_commits()\n",
    "hg_to_git, git_to_hg = get_hg_git_mapping()\n",
    "commit_log = get_commit_log('data/repo_miner/commit_log.csv')"
   ]
  },
  {
   "cell_type": "code",
   "execution_count": 10,
   "metadata": {},
   "outputs": [
    {
     "name": "stderr",
     "output_type": "stream",
     "text": [
      "Get defects and fixes: 206038it [00:32, 6263.54it/s] "
     ]
    },
    {
     "name": "stdout",
     "output_type": "stream",
     "text": [
      "Found\n",
      "46417 regression\n",
      "1337 security\n",
      "961 performance\n",
      "122 memory\n",
      "3348 crash\n",
      "39 power\n",
      "fix bug ids.\n"
     ]
    },
    {
     "name": "stderr",
     "output_type": "stream",
     "text": [
      "\n"
     ]
    }
   ],
   "source": [
    "szz_labeling = pd.read_csv(f'data/labeling/fixed_defect_szz.csv')\n",
    "fix_bug_ids_by_kind, _ = get_defects_and_fixes() # TODO: rerun and compare (fix invalid bugs)\n",
    "fix_and_introducers = read_data_from_json(f'data/labeling/fixed_defect_szz/results/fix_and_introducers_pairs.json')"
   ]
  },
  {
   "cell_type": "code",
   "execution_count": 11,
   "metadata": {},
   "outputs": [],
   "source": [
    "for pair in fix_and_introducers:\n",
    "    pair[0] = git_to_hg[pair[0]]\n",
    "    pair[1] = git_to_hg[pair[1]]"
   ]
  },
  {
   "cell_type": "code",
   "execution_count": 12,
   "metadata": {},
   "outputs": [
    {
     "data": {
      "text/plain": [
       "2495"
      ]
     },
     "execution_count": 12,
     "metadata": {},
     "output_type": "execute_result"
    }
   ],
   "source": [
    "len(fix_and_introducers)"
   ]
  },
  {
   "cell_type": "code",
   "execution_count": 13,
   "metadata": {},
   "outputs": [
    {
     "data": {
      "text/html": [
       "<div>\n",
       "<style scoped>\n",
       "    .dataframe tbody tr th:only-of-type {\n",
       "        vertical-align: middle;\n",
       "    }\n",
       "\n",
       "    .dataframe tbody tr th {\n",
       "        vertical-align: top;\n",
       "    }\n",
       "\n",
       "    .dataframe thead th {\n",
       "        text-align: right;\n",
       "    }\n",
       "</style>\n",
       "<table border=\"1\" class=\"dataframe\">\n",
       "  <thead>\n",
       "    <tr style=\"text-align: right;\">\n",
       "      <th></th>\n",
       "      <th>fix</th>\n",
       "      <th>introducer</th>\n",
       "    </tr>\n",
       "  </thead>\n",
       "  <tbody>\n",
       "    <tr>\n",
       "      <th>0</th>\n",
       "      <td>b6113f461cb8bc50be357b7e84793c11f7a5c179</td>\n",
       "      <td>a6da1179a589e207da62749f5966f30024f7f0c9</td>\n",
       "    </tr>\n",
       "    <tr>\n",
       "      <th>1</th>\n",
       "      <td>714d667c7f120e7218ca08fb0f29508f4c81cc92</td>\n",
       "      <td>21ce1e95d697cbc1bdaa45d124e55642ff5b2fd3</td>\n",
       "    </tr>\n",
       "    <tr>\n",
       "      <th>2</th>\n",
       "      <td>714d667c7f120e7218ca08fb0f29508f4c81cc92</td>\n",
       "      <td>6daa67c0cae427dc8e514d5f1beea9f71ee4d8ef</td>\n",
       "    </tr>\n",
       "    <tr>\n",
       "      <th>3</th>\n",
       "      <td>714d667c7f120e7218ca08fb0f29508f4c81cc92</td>\n",
       "      <td>e53cd28c6cf360d7d9aa3a35051582112e608df1</td>\n",
       "    </tr>\n",
       "    <tr>\n",
       "      <th>4</th>\n",
       "      <td>714d667c7f120e7218ca08fb0f29508f4c81cc92</td>\n",
       "      <td>be7a5a989cb3dbabce6a1bb78aad2d05baa3589a</td>\n",
       "    </tr>\n",
       "    <tr>\n",
       "      <th>...</th>\n",
       "      <td>...</td>\n",
       "      <td>...</td>\n",
       "    </tr>\n",
       "    <tr>\n",
       "      <th>2490</th>\n",
       "      <td>8a0c0ad101aba2f397fa58932315004aa33de2d9</td>\n",
       "      <td>1ddc47f7370187b3a07d61a65f9f0fd19e7e20a5</td>\n",
       "    </tr>\n",
       "    <tr>\n",
       "      <th>2491</th>\n",
       "      <td>8a0c0ad101aba2f397fa58932315004aa33de2d9</td>\n",
       "      <td>1ddc47f7370187b3a07d61a65f9f0fd19e7e20a5</td>\n",
       "    </tr>\n",
       "    <tr>\n",
       "      <th>2492</th>\n",
       "      <td>e3d87330819774902687ba23d1a76b5f46daf26d</td>\n",
       "      <td>1ddc47f7370187b3a07d61a65f9f0fd19e7e20a5</td>\n",
       "    </tr>\n",
       "    <tr>\n",
       "      <th>2493</th>\n",
       "      <td>40b67d5f6d17f1e206d283d20bc35da5272fee38</td>\n",
       "      <td>1ddc47f7370187b3a07d61a65f9f0fd19e7e20a5</td>\n",
       "    </tr>\n",
       "    <tr>\n",
       "      <th>2494</th>\n",
       "      <td>70ccd0e80f8a960a3ad91eeddb35c5db73a367a4</td>\n",
       "      <td>f40f0ac8c4e83eef889430799aa8f699f6c0dfed</td>\n",
       "    </tr>\n",
       "  </tbody>\n",
       "</table>\n",
       "<p>2495 rows × 2 columns</p>\n",
       "</div>"
      ],
      "text/plain": [
       "                                           fix  \\\n",
       "0     b6113f461cb8bc50be357b7e84793c11f7a5c179   \n",
       "1     714d667c7f120e7218ca08fb0f29508f4c81cc92   \n",
       "2     714d667c7f120e7218ca08fb0f29508f4c81cc92   \n",
       "3     714d667c7f120e7218ca08fb0f29508f4c81cc92   \n",
       "4     714d667c7f120e7218ca08fb0f29508f4c81cc92   \n",
       "...                                        ...   \n",
       "2490  8a0c0ad101aba2f397fa58932315004aa33de2d9   \n",
       "2491  8a0c0ad101aba2f397fa58932315004aa33de2d9   \n",
       "2492  e3d87330819774902687ba23d1a76b5f46daf26d   \n",
       "2493  40b67d5f6d17f1e206d283d20bc35da5272fee38   \n",
       "2494  70ccd0e80f8a960a3ad91eeddb35c5db73a367a4   \n",
       "\n",
       "                                    introducer  \n",
       "0     a6da1179a589e207da62749f5966f30024f7f0c9  \n",
       "1     21ce1e95d697cbc1bdaa45d124e55642ff5b2fd3  \n",
       "2     6daa67c0cae427dc8e514d5f1beea9f71ee4d8ef  \n",
       "3     e53cd28c6cf360d7d9aa3a35051582112e608df1  \n",
       "4     be7a5a989cb3dbabce6a1bb78aad2d05baa3589a  \n",
       "...                                        ...  \n",
       "2490  1ddc47f7370187b3a07d61a65f9f0fd19e7e20a5  \n",
       "2491  1ddc47f7370187b3a07d61a65f9f0fd19e7e20a5  \n",
       "2492  1ddc47f7370187b3a07d61a65f9f0fd19e7e20a5  \n",
       "2493  1ddc47f7370187b3a07d61a65f9f0fd19e7e20a5  \n",
       "2494  f40f0ac8c4e83eef889430799aa8f699f6c0dfed  \n",
       "\n",
       "[2495 rows x 2 columns]"
      ]
     },
     "execution_count": 13,
     "metadata": {},
     "output_type": "execute_result"
    }
   ],
   "source": [
    "fix_and_introducers_df = pd.DataFrame(fix_and_introducers, columns=['fix', 'introducer'])\n",
    "fix_and_introducers_df"
   ]
  },
  {
   "cell_type": "code",
   "execution_count": 14,
   "metadata": {},
   "outputs": [
    {
     "data": {
      "text/html": [
       "<div>\n",
       "<style scoped>\n",
       "    .dataframe tbody tr th:only-of-type {\n",
       "        vertical-align: middle;\n",
       "    }\n",
       "\n",
       "    .dataframe tbody tr th {\n",
       "        vertical-align: top;\n",
       "    }\n",
       "\n",
       "    .dataframe thead th {\n",
       "        text-align: right;\n",
       "    }\n",
       "</style>\n",
       "<table border=\"1\" class=\"dataframe\">\n",
       "  <thead>\n",
       "    <tr style=\"text-align: right;\">\n",
       "      <th></th>\n",
       "      <th>fix</th>\n",
       "      <th>introducer</th>\n",
       "      <th>bug_id</th>\n",
       "    </tr>\n",
       "  </thead>\n",
       "  <tbody>\n",
       "    <tr>\n",
       "      <th>0</th>\n",
       "      <td>b6113f461cb8bc50be357b7e84793c11f7a5c179</td>\n",
       "      <td>a6da1179a589e207da62749f5966f30024f7f0c9</td>\n",
       "      <td>1693027</td>\n",
       "    </tr>\n",
       "    <tr>\n",
       "      <th>1</th>\n",
       "      <td>714d667c7f120e7218ca08fb0f29508f4c81cc92</td>\n",
       "      <td>21ce1e95d697cbc1bdaa45d124e55642ff5b2fd3</td>\n",
       "      <td>1582797</td>\n",
       "    </tr>\n",
       "    <tr>\n",
       "      <th>2</th>\n",
       "      <td>714d667c7f120e7218ca08fb0f29508f4c81cc92</td>\n",
       "      <td>6daa67c0cae427dc8e514d5f1beea9f71ee4d8ef</td>\n",
       "      <td>1582797</td>\n",
       "    </tr>\n",
       "    <tr>\n",
       "      <th>3</th>\n",
       "      <td>714d667c7f120e7218ca08fb0f29508f4c81cc92</td>\n",
       "      <td>e53cd28c6cf360d7d9aa3a35051582112e608df1</td>\n",
       "      <td>1582797</td>\n",
       "    </tr>\n",
       "    <tr>\n",
       "      <th>4</th>\n",
       "      <td>714d667c7f120e7218ca08fb0f29508f4c81cc92</td>\n",
       "      <td>be7a5a989cb3dbabce6a1bb78aad2d05baa3589a</td>\n",
       "      <td>1582797</td>\n",
       "    </tr>\n",
       "    <tr>\n",
       "      <th>...</th>\n",
       "      <td>...</td>\n",
       "      <td>...</td>\n",
       "      <td>...</td>\n",
       "    </tr>\n",
       "    <tr>\n",
       "      <th>2490</th>\n",
       "      <td>59a0ddad5c28302d22089be78e59f2a058898842</td>\n",
       "      <td>17190bff616b3cbaca692825c64e6650a1de9562</td>\n",
       "      <td>1681030</td>\n",
       "    </tr>\n",
       "    <tr>\n",
       "      <th>2491</th>\n",
       "      <td>a5e88ddf8867e24f09fbb0bf0491d107cf68028d</td>\n",
       "      <td>b4197fcbd41190d40e4eec3ab4c2e270d80c7424</td>\n",
       "      <td>1665196</td>\n",
       "    </tr>\n",
       "    <tr>\n",
       "      <th>2492</th>\n",
       "      <td>e3d87330819774902687ba23d1a76b5f46daf26d</td>\n",
       "      <td>1ddc47f7370187b3a07d61a65f9f0fd19e7e20a5</td>\n",
       "      <td>1596709</td>\n",
       "    </tr>\n",
       "    <tr>\n",
       "      <th>2493</th>\n",
       "      <td>40b67d5f6d17f1e206d283d20bc35da5272fee38</td>\n",
       "      <td>1ddc47f7370187b3a07d61a65f9f0fd19e7e20a5</td>\n",
       "      <td>1596709</td>\n",
       "    </tr>\n",
       "    <tr>\n",
       "      <th>2494</th>\n",
       "      <td>70ccd0e80f8a960a3ad91eeddb35c5db73a367a4</td>\n",
       "      <td>f40f0ac8c4e83eef889430799aa8f699f6c0dfed</td>\n",
       "      <td>1730682</td>\n",
       "    </tr>\n",
       "  </tbody>\n",
       "</table>\n",
       "<p>2495 rows × 3 columns</p>\n",
       "</div>"
      ],
      "text/plain": [
       "                                           fix  \\\n",
       "0     b6113f461cb8bc50be357b7e84793c11f7a5c179   \n",
       "1     714d667c7f120e7218ca08fb0f29508f4c81cc92   \n",
       "2     714d667c7f120e7218ca08fb0f29508f4c81cc92   \n",
       "3     714d667c7f120e7218ca08fb0f29508f4c81cc92   \n",
       "4     714d667c7f120e7218ca08fb0f29508f4c81cc92   \n",
       "...                                        ...   \n",
       "2490  59a0ddad5c28302d22089be78e59f2a058898842   \n",
       "2491  a5e88ddf8867e24f09fbb0bf0491d107cf68028d   \n",
       "2492  e3d87330819774902687ba23d1a76b5f46daf26d   \n",
       "2493  40b67d5f6d17f1e206d283d20bc35da5272fee38   \n",
       "2494  70ccd0e80f8a960a3ad91eeddb35c5db73a367a4   \n",
       "\n",
       "                                    introducer   bug_id  \n",
       "0     a6da1179a589e207da62749f5966f30024f7f0c9  1693027  \n",
       "1     21ce1e95d697cbc1bdaa45d124e55642ff5b2fd3  1582797  \n",
       "2     6daa67c0cae427dc8e514d5f1beea9f71ee4d8ef  1582797  \n",
       "3     e53cd28c6cf360d7d9aa3a35051582112e608df1  1582797  \n",
       "4     be7a5a989cb3dbabce6a1bb78aad2d05baa3589a  1582797  \n",
       "...                                        ...      ...  \n",
       "2490  17190bff616b3cbaca692825c64e6650a1de9562  1681030  \n",
       "2491  b4197fcbd41190d40e4eec3ab4c2e270d80c7424  1665196  \n",
       "2492  1ddc47f7370187b3a07d61a65f9f0fd19e7e20a5  1596709  \n",
       "2493  1ddc47f7370187b3a07d61a65f9f0fd19e7e20a5  1596709  \n",
       "2494  f40f0ac8c4e83eef889430799aa8f699f6c0dfed  1730682  \n",
       "\n",
       "[2495 rows x 3 columns]"
      ]
     },
     "execution_count": 14,
     "metadata": {},
     "output_type": "execute_result"
    }
   ],
   "source": [
    "# add bug id of fix\n",
    "fix_and_introducers_df = fix_and_introducers_df.merge(all_commits[['revision', 'bug_id']], left_on='fix', right_on='revision').drop('revision', axis=1)\n",
    "fix_and_introducers_df"
   ]
  },
  {
   "cell_type": "code",
   "execution_count": 15,
   "metadata": {},
   "outputs": [
    {
     "data": {
      "text/html": [
       "<div>\n",
       "<style scoped>\n",
       "    .dataframe tbody tr th:only-of-type {\n",
       "        vertical-align: middle;\n",
       "    }\n",
       "\n",
       "    .dataframe tbody tr th {\n",
       "        vertical-align: top;\n",
       "    }\n",
       "\n",
       "    .dataframe thead th {\n",
       "        text-align: right;\n",
       "    }\n",
       "</style>\n",
       "<table border=\"1\" class=\"dataframe\">\n",
       "  <thead>\n",
       "    <tr style=\"text-align: right;\">\n",
       "      <th></th>\n",
       "      <th>fix</th>\n",
       "      <th>introducer</th>\n",
       "      <th>bug_id</th>\n",
       "    </tr>\n",
       "  </thead>\n",
       "  <tbody>\n",
       "    <tr>\n",
       "      <th>2108</th>\n",
       "      <td>5235f051d95235e351d59f61d5ce19cf0cb9d3f7</td>\n",
       "      <td>9ac290ec5884fd52bb6c16e9794da5b42f211cbb</td>\n",
       "      <td>1722487</td>\n",
       "    </tr>\n",
       "  </tbody>\n",
       "</table>\n",
       "</div>"
      ],
      "text/plain": [
       "                                           fix  \\\n",
       "2108  5235f051d95235e351d59f61d5ce19cf0cb9d3f7   \n",
       "\n",
       "                                    introducer   bug_id  \n",
       "2108  9ac290ec5884fd52bb6c16e9794da5b42f211cbb  1722487  "
      ]
     },
     "execution_count": 15,
     "metadata": {},
     "output_type": "execute_result"
    }
   ],
   "source": [
    "fix_and_introducers_df[fix_and_introducers_df['introducer'] == '9ac290ec5884fd52bb6c16e9794da5b42f211cbb']"
   ]
  },
  {
   "cell_type": "code",
   "execution_count": null,
   "metadata": {},
   "outputs": [],
   "source": []
  },
  {
   "cell_type": "code",
   "execution_count": 14,
   "metadata": {},
   "outputs": [
    {
     "data": {
      "text/plain": [
       "(431, 1544)"
      ]
     },
     "execution_count": 14,
     "metadata": {},
     "output_type": "execute_result"
    }
   ],
   "source": [
    "introducers = set(fix_and_introducers_df['introducer'])\n",
    "len(set(fix_and_introducers_df['fix'])), len(introducers)"
   ]
  },
  {
   "cell_type": "code",
   "execution_count": 15,
   "metadata": {},
   "outputs": [
    {
     "name": "stdout",
     "output_type": "stream",
     "text": [
      "positive labels: 589 0.59%, negative labels: 99105 99.41%\n"
     ]
    }
   ],
   "source": [
    "print_labeling_stats(szz_labeling, 'performance')"
   ]
  },
  {
   "cell_type": "code",
   "execution_count": 16,
   "metadata": {},
   "outputs": [
    {
     "data": {
      "text/plain": [
       "589"
      ]
     },
     "execution_count": 16,
     "metadata": {},
     "output_type": "execute_result"
    }
   ],
   "source": [
    "selected_introducers = set(szz_labeling.loc[szz_labeling['performance']==1, 'revision'])\n",
    "len(selected_introducers)"
   ]
  },
  {
   "cell_type": "code",
   "execution_count": 17,
   "metadata": {},
   "outputs": [
    {
     "data": {
      "text/html": [
       "<div>\n",
       "<style scoped>\n",
       "    .dataframe tbody tr th:only-of-type {\n",
       "        vertical-align: middle;\n",
       "    }\n",
       "\n",
       "    .dataframe tbody tr th {\n",
       "        vertical-align: top;\n",
       "    }\n",
       "\n",
       "    .dataframe thead th {\n",
       "        text-align: right;\n",
       "    }\n",
       "</style>\n",
       "<table border=\"1\" class=\"dataframe\">\n",
       "  <thead>\n",
       "    <tr style=\"text-align: right;\">\n",
       "      <th></th>\n",
       "      <th>id</th>\n",
       "      <th>revision</th>\n",
       "      <th>date</th>\n",
       "      <th>author</th>\n",
       "      <th>description</th>\n",
       "      <th>main</th>\n",
       "      <th>short</th>\n",
       "    </tr>\n",
       "    <tr>\n",
       "      <th>index</th>\n",
       "      <th></th>\n",
       "      <th></th>\n",
       "      <th></th>\n",
       "      <th></th>\n",
       "      <th></th>\n",
       "      <th></th>\n",
       "      <th></th>\n",
       "    </tr>\n",
       "  </thead>\n",
       "  <tbody>\n",
       "    <tr>\n",
       "      <th>29d310d368efef7ae997f69dc979e7fcb6f6bfa9</th>\n",
       "      <td>480492</td>\n",
       "      <td>29d310d368efef7ae997f69dc979e7fcb6f6bfa9</td>\n",
       "      <td>2019-06-28 07:08:00+00:00</td>\n",
       "      <td>Matt Woodrow &lt;mwoodrow@mozilla.com&gt;</td>\n",
       "      <td>Bug 1561178 - Initialize gfxVars in the RDD pr...</td>\n",
       "      <td>True</td>\n",
       "      <td>29d310d368ef</td>\n",
       "    </tr>\n",
       "    <tr>\n",
       "      <th>133ac0d11428079ceaeceab4dda050b4ba240e3b</th>\n",
       "      <td>480620</td>\n",
       "      <td>133ac0d11428079ceaeceab4dda050b4ba240e3b</td>\n",
       "      <td>2019-06-28 21:19:00+00:00</td>\n",
       "      <td>Kearwood \"Kip\" Gilbert &lt;kgilbert@mozilla.com&gt;</td>\n",
       "      <td>Bug 1466702 - Refactor / reimplement gfxVRPupp...</td>\n",
       "      <td>True</td>\n",
       "      <td>133ac0d11428</td>\n",
       "    </tr>\n",
       "    <tr>\n",
       "      <th>1ddc47f7370187b3a07d61a65f9f0fd19e7e20a5</th>\n",
       "      <td>480624</td>\n",
       "      <td>1ddc47f7370187b3a07d61a65f9f0fd19e7e20a5</td>\n",
       "      <td>2019-06-28 23:39:00+00:00</td>\n",
       "      <td>Narcis Beleuzu &lt;nbeleuzu@mozilla.com&gt;</td>\n",
       "      <td>Backed out 2 changesets (bug 1553705) for caus...</td>\n",
       "      <td>True</td>\n",
       "      <td>1ddc47f73701</td>\n",
       "    </tr>\n",
       "    <tr>\n",
       "      <th>aa12d9e8a4f1cad6b8057ef69fa4b3273c3c3fab</th>\n",
       "      <td>481366</td>\n",
       "      <td>aa12d9e8a4f1cad6b8057ef69fa4b3273c3c3fab</td>\n",
       "      <td>2019-07-05 07:48:00+00:00</td>\n",
       "      <td>Victor Porof &lt;vporof@mozilla.com&gt;</td>\n",
       "      <td>Bug 1561435 - Format browser/base/, a=automati...</td>\n",
       "      <td>True</td>\n",
       "      <td>aa12d9e8a4f1</td>\n",
       "    </tr>\n",
       "    <tr>\n",
       "      <th>4381f16ec9948a70802d7cc28cd021b094c7ba74</th>\n",
       "      <td>481367</td>\n",
       "      <td>4381f16ec9948a70802d7cc28cd021b094c7ba74</td>\n",
       "      <td>2019-07-05 07:53:00+00:00</td>\n",
       "      <td>Victor Porof &lt;vporof@mozilla.com&gt;</td>\n",
       "      <td>Bug 1561435 - Format browser/components/, a=au...</td>\n",
       "      <td>True</td>\n",
       "      <td>4381f16ec994</td>\n",
       "    </tr>\n",
       "    <tr>\n",
       "      <th>e8225f3e114bf1fc01f9e574cc41eb2df4e314c6</th>\n",
       "      <td>481369</td>\n",
       "      <td>e8225f3e114bf1fc01f9e574cc41eb2df4e314c6</td>\n",
       "      <td>2019-07-05 07:55:00+00:00</td>\n",
       "      <td>Victor Porof &lt;vporof@mozilla.com&gt;</td>\n",
       "      <td>Bug 1561435 - Format browser/modules/, a=autom...</td>\n",
       "      <td>True</td>\n",
       "      <td>e8225f3e114b</td>\n",
       "    </tr>\n",
       "    <tr>\n",
       "      <th>f3b422727b92f4933ca41fa7a4013d829a98240d</th>\n",
       "      <td>481377</td>\n",
       "      <td>f3b422727b92f4933ca41fa7a4013d829a98240d</td>\n",
       "      <td>2019-07-05 08:44:00+00:00</td>\n",
       "      <td>Victor Porof &lt;vporof@mozilla.com&gt;</td>\n",
       "      <td>Bug 1561435 - Format dom/, a=automatic-formatt...</td>\n",
       "      <td>True</td>\n",
       "      <td>f3b422727b92</td>\n",
       "    </tr>\n",
       "    <tr>\n",
       "      <th>599bcfdc8eee2a5c6df4bfebdf5dd94c31d6b501</th>\n",
       "      <td>481382</td>\n",
       "      <td>599bcfdc8eee2a5c6df4bfebdf5dd94c31d6b501</td>\n",
       "      <td>2019-07-05 08:46:00+00:00</td>\n",
       "      <td>Victor Porof &lt;vporof@mozilla.com&gt;</td>\n",
       "      <td>Bug 1561435 - Format extensions/, a=automatic-...</td>\n",
       "      <td>True</td>\n",
       "      <td>599bcfdc8eee</td>\n",
       "    </tr>\n",
       "    <tr>\n",
       "      <th>a85aec1aa92d1e067a5813a662175d4a76ce50a8</th>\n",
       "      <td>481392</td>\n",
       "      <td>a85aec1aa92d1e067a5813a662175d4a76ce50a8</td>\n",
       "      <td>2019-07-05 08:50:00+00:00</td>\n",
       "      <td>Victor Porof &lt;vporof@mozilla.com&gt;</td>\n",
       "      <td>Bug 1561435 - Format layout/, a=automatic-form...</td>\n",
       "      <td>True</td>\n",
       "      <td>a85aec1aa92d</td>\n",
       "    </tr>\n",
       "    <tr>\n",
       "      <th>8062fdb434272ca7620c9caae8d3b8a5096c9f46</th>\n",
       "      <td>481408</td>\n",
       "      <td>8062fdb434272ca7620c9caae8d3b8a5096c9f46</td>\n",
       "      <td>2019-07-05 08:57:00+00:00</td>\n",
       "      <td>Victor Porof &lt;vporof@mozilla.com&gt;</td>\n",
       "      <td>Bug 1561435 - Format security/, a=automatic-fo...</td>\n",
       "      <td>True</td>\n",
       "      <td>8062fdb43427</td>\n",
       "    </tr>\n",
       "    <tr>\n",
       "      <th>becae3f8f590d3e913f106aea634e86f84c80b3e</th>\n",
       "      <td>481422</td>\n",
       "      <td>becae3f8f590d3e913f106aea634e86f84c80b3e</td>\n",
       "      <td>2019-07-05 09:14:00+00:00</td>\n",
       "      <td>Victor Porof &lt;vporof@mozilla.com&gt;</td>\n",
       "      <td>Bug 1561435 - Format toolkit/components/, a=au...</td>\n",
       "      <td>True</td>\n",
       "      <td>becae3f8f590</td>\n",
       "    </tr>\n",
       "    <tr>\n",
       "      <th>e8bd1069715d19b1a80cff5d61fbe804b396de59</th>\n",
       "      <td>481423</td>\n",
       "      <td>e8bd1069715d19b1a80cff5d61fbe804b396de59</td>\n",
       "      <td>2019-07-05 09:14:00+00:00</td>\n",
       "      <td>Victor Porof &lt;vporof@mozilla.com&gt;</td>\n",
       "      <td>Bug 1561435 - Format toolkit/content/, a=autom...</td>\n",
       "      <td>True</td>\n",
       "      <td>e8bd1069715d</td>\n",
       "    </tr>\n",
       "    <tr>\n",
       "      <th>e5be4c59b7f15f98fabb32a68fc64050ddb62bcb</th>\n",
       "      <td>481426</td>\n",
       "      <td>e5be4c59b7f15f98fabb32a68fc64050ddb62bcb</td>\n",
       "      <td>2019-07-05 09:15:00+00:00</td>\n",
       "      <td>Victor Porof &lt;vporof@mozilla.com&gt;</td>\n",
       "      <td>Bug 1561435 - Format toolkit/modules/, a=autom...</td>\n",
       "      <td>True</td>\n",
       "      <td>e5be4c59b7f1</td>\n",
       "    </tr>\n",
       "    <tr>\n",
       "      <th>58fd5776802aa7dd7e6d3fddd7d433da5ef30426</th>\n",
       "      <td>481427</td>\n",
       "      <td>58fd5776802aa7dd7e6d3fddd7d433da5ef30426</td>\n",
       "      <td>2019-07-05 09:17:00+00:00</td>\n",
       "      <td>Victor Porof &lt;vporof@mozilla.com&gt;</td>\n",
       "      <td>Bug 1561435 - Format toolkit/mozapps/, a=autom...</td>\n",
       "      <td>True</td>\n",
       "      <td>58fd5776802a</td>\n",
       "    </tr>\n",
       "    <tr>\n",
       "      <th>c7a227149b8fa85074c9442467c81d77081faa4e</th>\n",
       "      <td>481439</td>\n",
       "      <td>c7a227149b8fa85074c9442467c81d77081faa4e</td>\n",
       "      <td>2019-07-05 09:24:00+00:00</td>\n",
       "      <td>Victor Porof &lt;vporof@mozilla.com&gt;</td>\n",
       "      <td>Bug 1561435 - Format devtools/client/, a=autom...</td>\n",
       "      <td>True</td>\n",
       "      <td>c7a227149b8f</td>\n",
       "    </tr>\n",
       "    <tr>\n",
       "      <th>7434139de6062722110472a91f6718e7d380fcbe</th>\n",
       "      <td>487400</td>\n",
       "      <td>7434139de6062722110472a91f6718e7d380fcbe</td>\n",
       "      <td>2019-08-12 03:27:00+00:00</td>\n",
       "      <td>Paul Bone &lt;pbone@mozilla.com&gt;</td>\n",
       "      <td>Bug 1569924 - Run ./mach clang-format -p js/sr...</td>\n",
       "      <td>True</td>\n",
       "      <td>7434139de606</td>\n",
       "    </tr>\n",
       "    <tr>\n",
       "      <th>f6c88246bdace2243884cf136d954fd42ce65b2b</th>\n",
       "      <td>502948</td>\n",
       "      <td>f6c88246bdace2243884cf136d954fd42ce65b2b</td>\n",
       "      <td>2019-11-04 11:44:00+00:00</td>\n",
       "      <td>Chris Harrelson &lt;chrishtr@chromium.org&gt;</td>\n",
       "      <td>Bug 1592889 [wpt PR 20013] - Don't look for pr...</td>\n",
       "      <td>True</td>\n",
       "      <td>f6c88246bdac</td>\n",
       "    </tr>\n",
       "    <tr>\n",
       "      <th>7973420a5f0df6075162e8638eab426a541cee36</th>\n",
       "      <td>508170</td>\n",
       "      <td>7973420a5f0df6075162e8638eab426a541cee36</td>\n",
       "      <td>2019-12-20 11:32:00+00:00</td>\n",
       "      <td>Dominic Farolino &lt;domfarolino@gmail.com&gt;</td>\n",
       "      <td>Bug 1604070 [wpt PR 20783] - [Lazyload] Refact...</td>\n",
       "      <td>True</td>\n",
       "      <td>7973420a5f0d</td>\n",
       "    </tr>\n",
       "    <tr>\n",
       "      <th>ad8bd78754b2f7b7f6a4598a70d00669f0bef62c</th>\n",
       "      <td>526067</td>\n",
       "      <td>ad8bd78754b2f7b7f6a4598a70d00669f0bef62c</td>\n",
       "      <td>2020-04-25 09:40:00+00:00</td>\n",
       "      <td>Sylvestre Ledru &lt;sledru@mozilla.com&gt;</td>\n",
       "      <td>Bug 1619165 - Reformat recent changes to the G...</td>\n",
       "      <td>True</td>\n",
       "      <td>ad8bd78754b2</td>\n",
       "    </tr>\n",
       "    <tr>\n",
       "      <th>569f193885b1d510bee64603d85995cb404039f5</th>\n",
       "      <td>527471</td>\n",
       "      <td>569f193885b1d510bee64603d85995cb404039f5</td>\n",
       "      <td>2020-04-28 11:29:00+00:00</td>\n",
       "      <td>Dominic Farolino &lt;dom@chromium.org&gt;</td>\n",
       "      <td>Bug 1631126 [wpt PR 23080] - Add a WPT for ima...</td>\n",
       "      <td>True</td>\n",
       "      <td>569f193885b1</td>\n",
       "    </tr>\n",
       "    <tr>\n",
       "      <th>a28c769f913feba31a662ac57f09c37a86814a22</th>\n",
       "      <td>532371</td>\n",
       "      <td>a28c769f913feba31a662ac57f09c37a86814a22</td>\n",
       "      <td>2020-05-26 11:15:00+00:00</td>\n",
       "      <td>Blink WPT Bot &lt;blink-w3c-test-autoroller@chrom...</td>\n",
       "      <td>Bug 1638116 [wpt PR 23612] - [Lazyload]: Split...</td>\n",
       "      <td>True</td>\n",
       "      <td>a28c769f913f</td>\n",
       "    </tr>\n",
       "    <tr>\n",
       "      <th>3f8100fb74318f9e0b3b6351ade737994d13bcf8</th>\n",
       "      <td>538158</td>\n",
       "      <td>3f8100fb74318f9e0b3b6351ade737994d13bcf8</td>\n",
       "      <td>2020-07-01 08:29:00+00:00</td>\n",
       "      <td>Simon Giesecke &lt;sgiesecke@mozilla.com&gt;</td>\n",
       "      <td>Bug 1648010 - Replace uses of NS_LITERAL_STRIN...</td>\n",
       "      <td>True</td>\n",
       "      <td>3f8100fb7431</td>\n",
       "    </tr>\n",
       "    <tr>\n",
       "      <th>2977d4891ceeed019dc906dff3feb6c9f530213c</th>\n",
       "      <td>555888</td>\n",
       "      <td>2977d4891ceeed019dc906dff3feb6c9f530213c</td>\n",
       "      <td>2020-11-04 18:46:00+00:00</td>\n",
       "      <td>Sylvestre Ledru &lt;sledru@mozilla.com&gt;</td>\n",
       "      <td>Bug 1519636 - Reformat recent changes to the G...</td>\n",
       "      <td>True</td>\n",
       "      <td>2977d4891cee</td>\n",
       "    </tr>\n",
       "    <tr>\n",
       "      <th>3c07e6f1f530e778a2dfcdfd097dce3ea7f56189</th>\n",
       "      <td>557774</td>\n",
       "      <td>3c07e6f1f530e778a2dfcdfd097dce3ea7f56189</td>\n",
       "      <td>2020-11-18 09:05:00+00:00</td>\n",
       "      <td>Sylvestre Ledru &lt;sledru@mozilla.com&gt;</td>\n",
       "      <td>Bug 1519636 - Reformat with clang-format-11 to...</td>\n",
       "      <td>True</td>\n",
       "      <td>3c07e6f1f530</td>\n",
       "    </tr>\n",
       "    <tr>\n",
       "      <th>38345c699f68b7cf69ec49898e5b6c05e283ffec</th>\n",
       "      <td>567477</td>\n",
       "      <td>38345c699f68b7cf69ec49898e5b6c05e283ffec</td>\n",
       "      <td>2021-02-15 08:49:00+00:00</td>\n",
       "      <td>Sylvestre Ledru &lt;sledru@mozilla.com&gt;</td>\n",
       "      <td>Bug 1519636 - Reformat recent changes to the G...</td>\n",
       "      <td>True</td>\n",
       "      <td>38345c699f68</td>\n",
       "    </tr>\n",
       "  </tbody>\n",
       "</table>\n",
       "</div>"
      ],
      "text/plain": [
       "                                              id  \\\n",
       "index                                              \n",
       "29d310d368efef7ae997f69dc979e7fcb6f6bfa9  480492   \n",
       "133ac0d11428079ceaeceab4dda050b4ba240e3b  480620   \n",
       "1ddc47f7370187b3a07d61a65f9f0fd19e7e20a5  480624   \n",
       "aa12d9e8a4f1cad6b8057ef69fa4b3273c3c3fab  481366   \n",
       "4381f16ec9948a70802d7cc28cd021b094c7ba74  481367   \n",
       "e8225f3e114bf1fc01f9e574cc41eb2df4e314c6  481369   \n",
       "f3b422727b92f4933ca41fa7a4013d829a98240d  481377   \n",
       "599bcfdc8eee2a5c6df4bfebdf5dd94c31d6b501  481382   \n",
       "a85aec1aa92d1e067a5813a662175d4a76ce50a8  481392   \n",
       "8062fdb434272ca7620c9caae8d3b8a5096c9f46  481408   \n",
       "becae3f8f590d3e913f106aea634e86f84c80b3e  481422   \n",
       "e8bd1069715d19b1a80cff5d61fbe804b396de59  481423   \n",
       "e5be4c59b7f15f98fabb32a68fc64050ddb62bcb  481426   \n",
       "58fd5776802aa7dd7e6d3fddd7d433da5ef30426  481427   \n",
       "c7a227149b8fa85074c9442467c81d77081faa4e  481439   \n",
       "7434139de6062722110472a91f6718e7d380fcbe  487400   \n",
       "f6c88246bdace2243884cf136d954fd42ce65b2b  502948   \n",
       "7973420a5f0df6075162e8638eab426a541cee36  508170   \n",
       "ad8bd78754b2f7b7f6a4598a70d00669f0bef62c  526067   \n",
       "569f193885b1d510bee64603d85995cb404039f5  527471   \n",
       "a28c769f913feba31a662ac57f09c37a86814a22  532371   \n",
       "3f8100fb74318f9e0b3b6351ade737994d13bcf8  538158   \n",
       "2977d4891ceeed019dc906dff3feb6c9f530213c  555888   \n",
       "3c07e6f1f530e778a2dfcdfd097dce3ea7f56189  557774   \n",
       "38345c699f68b7cf69ec49898e5b6c05e283ffec  567477   \n",
       "\n",
       "                                                                          revision  \\\n",
       "index                                                                                \n",
       "29d310d368efef7ae997f69dc979e7fcb6f6bfa9  29d310d368efef7ae997f69dc979e7fcb6f6bfa9   \n",
       "133ac0d11428079ceaeceab4dda050b4ba240e3b  133ac0d11428079ceaeceab4dda050b4ba240e3b   \n",
       "1ddc47f7370187b3a07d61a65f9f0fd19e7e20a5  1ddc47f7370187b3a07d61a65f9f0fd19e7e20a5   \n",
       "aa12d9e8a4f1cad6b8057ef69fa4b3273c3c3fab  aa12d9e8a4f1cad6b8057ef69fa4b3273c3c3fab   \n",
       "4381f16ec9948a70802d7cc28cd021b094c7ba74  4381f16ec9948a70802d7cc28cd021b094c7ba74   \n",
       "e8225f3e114bf1fc01f9e574cc41eb2df4e314c6  e8225f3e114bf1fc01f9e574cc41eb2df4e314c6   \n",
       "f3b422727b92f4933ca41fa7a4013d829a98240d  f3b422727b92f4933ca41fa7a4013d829a98240d   \n",
       "599bcfdc8eee2a5c6df4bfebdf5dd94c31d6b501  599bcfdc8eee2a5c6df4bfebdf5dd94c31d6b501   \n",
       "a85aec1aa92d1e067a5813a662175d4a76ce50a8  a85aec1aa92d1e067a5813a662175d4a76ce50a8   \n",
       "8062fdb434272ca7620c9caae8d3b8a5096c9f46  8062fdb434272ca7620c9caae8d3b8a5096c9f46   \n",
       "becae3f8f590d3e913f106aea634e86f84c80b3e  becae3f8f590d3e913f106aea634e86f84c80b3e   \n",
       "e8bd1069715d19b1a80cff5d61fbe804b396de59  e8bd1069715d19b1a80cff5d61fbe804b396de59   \n",
       "e5be4c59b7f15f98fabb32a68fc64050ddb62bcb  e5be4c59b7f15f98fabb32a68fc64050ddb62bcb   \n",
       "58fd5776802aa7dd7e6d3fddd7d433da5ef30426  58fd5776802aa7dd7e6d3fddd7d433da5ef30426   \n",
       "c7a227149b8fa85074c9442467c81d77081faa4e  c7a227149b8fa85074c9442467c81d77081faa4e   \n",
       "7434139de6062722110472a91f6718e7d380fcbe  7434139de6062722110472a91f6718e7d380fcbe   \n",
       "f6c88246bdace2243884cf136d954fd42ce65b2b  f6c88246bdace2243884cf136d954fd42ce65b2b   \n",
       "7973420a5f0df6075162e8638eab426a541cee36  7973420a5f0df6075162e8638eab426a541cee36   \n",
       "ad8bd78754b2f7b7f6a4598a70d00669f0bef62c  ad8bd78754b2f7b7f6a4598a70d00669f0bef62c   \n",
       "569f193885b1d510bee64603d85995cb404039f5  569f193885b1d510bee64603d85995cb404039f5   \n",
       "a28c769f913feba31a662ac57f09c37a86814a22  a28c769f913feba31a662ac57f09c37a86814a22   \n",
       "3f8100fb74318f9e0b3b6351ade737994d13bcf8  3f8100fb74318f9e0b3b6351ade737994d13bcf8   \n",
       "2977d4891ceeed019dc906dff3feb6c9f530213c  2977d4891ceeed019dc906dff3feb6c9f530213c   \n",
       "3c07e6f1f530e778a2dfcdfd097dce3ea7f56189  3c07e6f1f530e778a2dfcdfd097dce3ea7f56189   \n",
       "38345c699f68b7cf69ec49898e5b6c05e283ffec  38345c699f68b7cf69ec49898e5b6c05e283ffec   \n",
       "\n",
       "                                                              date  \\\n",
       "index                                                                \n",
       "29d310d368efef7ae997f69dc979e7fcb6f6bfa9 2019-06-28 07:08:00+00:00   \n",
       "133ac0d11428079ceaeceab4dda050b4ba240e3b 2019-06-28 21:19:00+00:00   \n",
       "1ddc47f7370187b3a07d61a65f9f0fd19e7e20a5 2019-06-28 23:39:00+00:00   \n",
       "aa12d9e8a4f1cad6b8057ef69fa4b3273c3c3fab 2019-07-05 07:48:00+00:00   \n",
       "4381f16ec9948a70802d7cc28cd021b094c7ba74 2019-07-05 07:53:00+00:00   \n",
       "e8225f3e114bf1fc01f9e574cc41eb2df4e314c6 2019-07-05 07:55:00+00:00   \n",
       "f3b422727b92f4933ca41fa7a4013d829a98240d 2019-07-05 08:44:00+00:00   \n",
       "599bcfdc8eee2a5c6df4bfebdf5dd94c31d6b501 2019-07-05 08:46:00+00:00   \n",
       "a85aec1aa92d1e067a5813a662175d4a76ce50a8 2019-07-05 08:50:00+00:00   \n",
       "8062fdb434272ca7620c9caae8d3b8a5096c9f46 2019-07-05 08:57:00+00:00   \n",
       "becae3f8f590d3e913f106aea634e86f84c80b3e 2019-07-05 09:14:00+00:00   \n",
       "e8bd1069715d19b1a80cff5d61fbe804b396de59 2019-07-05 09:14:00+00:00   \n",
       "e5be4c59b7f15f98fabb32a68fc64050ddb62bcb 2019-07-05 09:15:00+00:00   \n",
       "58fd5776802aa7dd7e6d3fddd7d433da5ef30426 2019-07-05 09:17:00+00:00   \n",
       "c7a227149b8fa85074c9442467c81d77081faa4e 2019-07-05 09:24:00+00:00   \n",
       "7434139de6062722110472a91f6718e7d380fcbe 2019-08-12 03:27:00+00:00   \n",
       "f6c88246bdace2243884cf136d954fd42ce65b2b 2019-11-04 11:44:00+00:00   \n",
       "7973420a5f0df6075162e8638eab426a541cee36 2019-12-20 11:32:00+00:00   \n",
       "ad8bd78754b2f7b7f6a4598a70d00669f0bef62c 2020-04-25 09:40:00+00:00   \n",
       "569f193885b1d510bee64603d85995cb404039f5 2020-04-28 11:29:00+00:00   \n",
       "a28c769f913feba31a662ac57f09c37a86814a22 2020-05-26 11:15:00+00:00   \n",
       "3f8100fb74318f9e0b3b6351ade737994d13bcf8 2020-07-01 08:29:00+00:00   \n",
       "2977d4891ceeed019dc906dff3feb6c9f530213c 2020-11-04 18:46:00+00:00   \n",
       "3c07e6f1f530e778a2dfcdfd097dce3ea7f56189 2020-11-18 09:05:00+00:00   \n",
       "38345c699f68b7cf69ec49898e5b6c05e283ffec 2021-02-15 08:49:00+00:00   \n",
       "\n",
       "                                                                                     author  \\\n",
       "index                                                                                         \n",
       "29d310d368efef7ae997f69dc979e7fcb6f6bfa9                Matt Woodrow <mwoodrow@mozilla.com>   \n",
       "133ac0d11428079ceaeceab4dda050b4ba240e3b      Kearwood \"Kip\" Gilbert <kgilbert@mozilla.com>   \n",
       "1ddc47f7370187b3a07d61a65f9f0fd19e7e20a5              Narcis Beleuzu <nbeleuzu@mozilla.com>   \n",
       "aa12d9e8a4f1cad6b8057ef69fa4b3273c3c3fab                  Victor Porof <vporof@mozilla.com>   \n",
       "4381f16ec9948a70802d7cc28cd021b094c7ba74                  Victor Porof <vporof@mozilla.com>   \n",
       "e8225f3e114bf1fc01f9e574cc41eb2df4e314c6                  Victor Porof <vporof@mozilla.com>   \n",
       "f3b422727b92f4933ca41fa7a4013d829a98240d                  Victor Porof <vporof@mozilla.com>   \n",
       "599bcfdc8eee2a5c6df4bfebdf5dd94c31d6b501                  Victor Porof <vporof@mozilla.com>   \n",
       "a85aec1aa92d1e067a5813a662175d4a76ce50a8                  Victor Porof <vporof@mozilla.com>   \n",
       "8062fdb434272ca7620c9caae8d3b8a5096c9f46                  Victor Porof <vporof@mozilla.com>   \n",
       "becae3f8f590d3e913f106aea634e86f84c80b3e                  Victor Porof <vporof@mozilla.com>   \n",
       "e8bd1069715d19b1a80cff5d61fbe804b396de59                  Victor Porof <vporof@mozilla.com>   \n",
       "e5be4c59b7f15f98fabb32a68fc64050ddb62bcb                  Victor Porof <vporof@mozilla.com>   \n",
       "58fd5776802aa7dd7e6d3fddd7d433da5ef30426                  Victor Porof <vporof@mozilla.com>   \n",
       "c7a227149b8fa85074c9442467c81d77081faa4e                  Victor Porof <vporof@mozilla.com>   \n",
       "7434139de6062722110472a91f6718e7d380fcbe                      Paul Bone <pbone@mozilla.com>   \n",
       "f6c88246bdace2243884cf136d954fd42ce65b2b            Chris Harrelson <chrishtr@chromium.org>   \n",
       "7973420a5f0df6075162e8638eab426a541cee36           Dominic Farolino <domfarolino@gmail.com>   \n",
       "ad8bd78754b2f7b7f6a4598a70d00669f0bef62c               Sylvestre Ledru <sledru@mozilla.com>   \n",
       "569f193885b1d510bee64603d85995cb404039f5                Dominic Farolino <dom@chromium.org>   \n",
       "a28c769f913feba31a662ac57f09c37a86814a22  Blink WPT Bot <blink-w3c-test-autoroller@chrom...   \n",
       "3f8100fb74318f9e0b3b6351ade737994d13bcf8             Simon Giesecke <sgiesecke@mozilla.com>   \n",
       "2977d4891ceeed019dc906dff3feb6c9f530213c               Sylvestre Ledru <sledru@mozilla.com>   \n",
       "3c07e6f1f530e778a2dfcdfd097dce3ea7f56189               Sylvestre Ledru <sledru@mozilla.com>   \n",
       "38345c699f68b7cf69ec49898e5b6c05e283ffec               Sylvestre Ledru <sledru@mozilla.com>   \n",
       "\n",
       "                                                                                description  \\\n",
       "index                                                                                         \n",
       "29d310d368efef7ae997f69dc979e7fcb6f6bfa9  Bug 1561178 - Initialize gfxVars in the RDD pr...   \n",
       "133ac0d11428079ceaeceab4dda050b4ba240e3b  Bug 1466702 - Refactor / reimplement gfxVRPupp...   \n",
       "1ddc47f7370187b3a07d61a65f9f0fd19e7e20a5  Backed out 2 changesets (bug 1553705) for caus...   \n",
       "aa12d9e8a4f1cad6b8057ef69fa4b3273c3c3fab  Bug 1561435 - Format browser/base/, a=automati...   \n",
       "4381f16ec9948a70802d7cc28cd021b094c7ba74  Bug 1561435 - Format browser/components/, a=au...   \n",
       "e8225f3e114bf1fc01f9e574cc41eb2df4e314c6  Bug 1561435 - Format browser/modules/, a=autom...   \n",
       "f3b422727b92f4933ca41fa7a4013d829a98240d  Bug 1561435 - Format dom/, a=automatic-formatt...   \n",
       "599bcfdc8eee2a5c6df4bfebdf5dd94c31d6b501  Bug 1561435 - Format extensions/, a=automatic-...   \n",
       "a85aec1aa92d1e067a5813a662175d4a76ce50a8  Bug 1561435 - Format layout/, a=automatic-form...   \n",
       "8062fdb434272ca7620c9caae8d3b8a5096c9f46  Bug 1561435 - Format security/, a=automatic-fo...   \n",
       "becae3f8f590d3e913f106aea634e86f84c80b3e  Bug 1561435 - Format toolkit/components/, a=au...   \n",
       "e8bd1069715d19b1a80cff5d61fbe804b396de59  Bug 1561435 - Format toolkit/content/, a=autom...   \n",
       "e5be4c59b7f15f98fabb32a68fc64050ddb62bcb  Bug 1561435 - Format toolkit/modules/, a=autom...   \n",
       "58fd5776802aa7dd7e6d3fddd7d433da5ef30426  Bug 1561435 - Format toolkit/mozapps/, a=autom...   \n",
       "c7a227149b8fa85074c9442467c81d77081faa4e  Bug 1561435 - Format devtools/client/, a=autom...   \n",
       "7434139de6062722110472a91f6718e7d380fcbe  Bug 1569924 - Run ./mach clang-format -p js/sr...   \n",
       "f6c88246bdace2243884cf136d954fd42ce65b2b  Bug 1592889 [wpt PR 20013] - Don't look for pr...   \n",
       "7973420a5f0df6075162e8638eab426a541cee36  Bug 1604070 [wpt PR 20783] - [Lazyload] Refact...   \n",
       "ad8bd78754b2f7b7f6a4598a70d00669f0bef62c  Bug 1619165 - Reformat recent changes to the G...   \n",
       "569f193885b1d510bee64603d85995cb404039f5  Bug 1631126 [wpt PR 23080] - Add a WPT for ima...   \n",
       "a28c769f913feba31a662ac57f09c37a86814a22  Bug 1638116 [wpt PR 23612] - [Lazyload]: Split...   \n",
       "3f8100fb74318f9e0b3b6351ade737994d13bcf8  Bug 1648010 - Replace uses of NS_LITERAL_STRIN...   \n",
       "2977d4891ceeed019dc906dff3feb6c9f530213c  Bug 1519636 - Reformat recent changes to the G...   \n",
       "3c07e6f1f530e778a2dfcdfd097dce3ea7f56189  Bug 1519636 - Reformat with clang-format-11 to...   \n",
       "38345c699f68b7cf69ec49898e5b6c05e283ffec  Bug 1519636 - Reformat recent changes to the G...   \n",
       "\n",
       "                                          main         short  \n",
       "index                                                         \n",
       "29d310d368efef7ae997f69dc979e7fcb6f6bfa9  True  29d310d368ef  \n",
       "133ac0d11428079ceaeceab4dda050b4ba240e3b  True  133ac0d11428  \n",
       "1ddc47f7370187b3a07d61a65f9f0fd19e7e20a5  True  1ddc47f73701  \n",
       "aa12d9e8a4f1cad6b8057ef69fa4b3273c3c3fab  True  aa12d9e8a4f1  \n",
       "4381f16ec9948a70802d7cc28cd021b094c7ba74  True  4381f16ec994  \n",
       "e8225f3e114bf1fc01f9e574cc41eb2df4e314c6  True  e8225f3e114b  \n",
       "f3b422727b92f4933ca41fa7a4013d829a98240d  True  f3b422727b92  \n",
       "599bcfdc8eee2a5c6df4bfebdf5dd94c31d6b501  True  599bcfdc8eee  \n",
       "a85aec1aa92d1e067a5813a662175d4a76ce50a8  True  a85aec1aa92d  \n",
       "8062fdb434272ca7620c9caae8d3b8a5096c9f46  True  8062fdb43427  \n",
       "becae3f8f590d3e913f106aea634e86f84c80b3e  True  becae3f8f590  \n",
       "e8bd1069715d19b1a80cff5d61fbe804b396de59  True  e8bd1069715d  \n",
       "e5be4c59b7f15f98fabb32a68fc64050ddb62bcb  True  e5be4c59b7f1  \n",
       "58fd5776802aa7dd7e6d3fddd7d433da5ef30426  True  58fd5776802a  \n",
       "c7a227149b8fa85074c9442467c81d77081faa4e  True  c7a227149b8f  \n",
       "7434139de6062722110472a91f6718e7d380fcbe  True  7434139de606  \n",
       "f6c88246bdace2243884cf136d954fd42ce65b2b  True  f6c88246bdac  \n",
       "7973420a5f0df6075162e8638eab426a541cee36  True  7973420a5f0d  \n",
       "ad8bd78754b2f7b7f6a4598a70d00669f0bef62c  True  ad8bd78754b2  \n",
       "569f193885b1d510bee64603d85995cb404039f5  True  569f193885b1  \n",
       "a28c769f913feba31a662ac57f09c37a86814a22  True  a28c769f913f  \n",
       "3f8100fb74318f9e0b3b6351ade737994d13bcf8  True  3f8100fb7431  \n",
       "2977d4891ceeed019dc906dff3feb6c9f530213c  True  2977d4891cee  \n",
       "3c07e6f1f530e778a2dfcdfd097dce3ea7f56189  True  3c07e6f1f530  \n",
       "38345c699f68b7cf69ec49898e5b6c05e283ffec  True  38345c699f68  "
      ]
     },
     "execution_count": 17,
     "metadata": {},
     "output_type": "execute_result"
    }
   ],
   "source": [
    "not_selected_introducers = list(introducers.difference(selected_introducers))\n",
    "commit_log.loc[not_selected_introducers].sort_values('id').tail(25)"
   ]
  },
  {
   "cell_type": "code",
   "execution_count": 18,
   "metadata": {},
   "outputs": [
    {
     "data": {
      "text/plain": [
       "(297, 192)"
      ]
     },
     "execution_count": 18,
     "metadata": {},
     "output_type": "execute_result"
    }
   ],
   "source": [
    "# fix_bug_ids_by_kind['performance'] are bug numbers for which we tried to find an introducer\n",
    "alertsummaries_considered = [alert for alert in alertsummaries if alert['bug_number'] in fix_bug_ids_by_kind['performance']]\n",
    "\n",
    "# total number of bug ids for which an alert exists and for which we tried to find an introducer\n",
    "N = len({alert['bug_number'] for alert in alertsummaries_considered})\n",
    "\n",
    "len(alertsummaries_considered), N"
   ]
  },
  {
   "cell_type": "code",
   "execution_count": 19,
   "metadata": {},
   "outputs": [
    {
     "data": {
      "text/plain": [
       "(144, 87)"
      ]
     },
     "execution_count": 19,
     "metadata": {},
     "output_type": "execute_result"
    }
   ],
   "source": [
    "# bug ids of fixes for which we actually found an introducer\n",
    "bug_ids_found = set(fix_and_introducers_df['bug_id'])\n",
    "assert len(bug_ids_found.difference(set(fix_bug_ids_by_kind['performance']))) == 0\n",
    "\n",
    "# corresponding alerts\n",
    "alertsummaries_found = [alert for alert in alertsummaries_considered if alert['bug_number'] in bug_ids_found]\n",
    "\n",
    "# all bug ids for which an alert exists and for which we found an introducer\n",
    "alert_bug_ids = {alert['bug_number'] for alert in alertsummaries_found}\n",
    "\n",
    "TP_plus_FP = len(alert_bug_ids)\n",
    "\n",
    "len(alertsummaries_found), TP_plus_FP # *bug numbers*"
   ]
  },
  {
   "cell_type": "code",
   "execution_count": 20,
   "metadata": {},
   "outputs": [
    {
     "data": {
      "text/plain": [
       "105"
      ]
     },
     "execution_count": 20,
     "metadata": {},
     "output_type": "execute_result"
    }
   ],
   "source": [
    "# number of bug ids for which we tried to find an introducer but did not\n",
    "# lower bound on false negative *commits*\n",
    "N - TP_plus_FP"
   ]
  },
  {
   "cell_type": "code",
   "execution_count": 21,
   "metadata": {},
   "outputs": [
    {
     "name": "stdout",
     "output_type": "stream",
     "text": [
      "TP=38, FP=691, TP+FP=729\n"
     ]
    }
   ],
   "source": [
    "TP = 0\n",
    "FP = 0\n",
    "\n",
    "for bug_id in alert_bug_ids:\n",
    "    introducers_for_bug = fix_and_introducers_df.loc[fix_and_introducers_df['bug_id'] == bug_id, 'introducer']\n",
    "    introducers_for_bug = set(introducers_for_bug) # found introducers by SZZ \n",
    "    assert len(introducers_for_bug) > 0\n",
    "    \n",
    "    all_candidate_revisions = set()\n",
    "    for alert in alertsummaries_considered: # can use all alertsummaries here TODO: check\n",
    "        if alert['bug_number'] == bug_id:\n",
    "            try:\n",
    "                if alert['prev_push_revision'] == alert['revision']:\n",
    "                    # this is sometimes the case, we just take the single commit\n",
    "                    candidate_revisions = set(commit_log.loc[alert['prev_push_revision']:alert['revision'], 'revision'])\n",
    "                else:\n",
    "                    # performance change detected in interval (alert['prev_push_revision'], alert['revision']]\n",
    "                    # exclude prev_push_revision commit TODO: check\n",
    "                    candidate_revisions = set(commit_log.loc[alert['prev_push_revision']:alert['revision'], 'revision'].iloc[1:])\n",
    "            except KeyError:\n",
    "                pass\n",
    "            all_candidate_revisions = all_candidate_revisions.union(candidate_revisions)\n",
    "\n",
    "    TP += len(introducers_for_bug.intersection(candidate_revisions)) # number of found introducers in candidate revisions\n",
    "    FP += len(introducers_for_bug.difference(candidate_revisions))\n",
    "\n",
    "print(f'{TP=}, {FP=}, {TP+FP=}')\n",
    "            "
   ]
  },
  {
   "cell_type": "code",
   "execution_count": 22,
   "metadata": {},
   "outputs": [
    {
     "name": "stderr",
     "output_type": "stream",
     "text": [
      "Get regressors and fixes: 206038it [00:53, 3860.44it/s]\n"
     ]
    },
    {
     "name": "stdout",
     "output_type": "stream",
     "text": [
      "Found\n",
      "9562 regression\n",
      "874 performance\n",
      "1214 crash\n",
      "281 security\n",
      "32 memory\n",
      "9 power\n",
      "regressor bug ids,\n",
      "\n",
      "and\n",
      "\n",
      "15334 regression\n",
      "965 performance\n",
      "1577 crash\n",
      "299 security\n",
      "31 memory\n",
      "9 power\n",
      "fix bug ids.\n"
     ]
    }
   ],
   "source": [
    "_, _, _, bugbug_fix_to_regressor = get_bugbug_regressors_and_fixes()\n"
   ]
  },
  {
   "cell_type": "code",
   "execution_count": 23,
   "metadata": {},
   "outputs": [
    {
     "data": {
      "text/plain": [
       "15334"
      ]
     },
     "execution_count": 23,
     "metadata": {},
     "output_type": "execute_result"
    }
   ],
   "source": [
    "bugbug_fixes = set(bugbug_fix_to_regressor.keys())\n",
    "len(bugbug_fixes)"
   ]
  },
  {
   "cell_type": "code",
   "execution_count": 24,
   "metadata": {},
   "outputs": [
    {
     "data": {
      "text/plain": [
       "371"
      ]
     },
     "execution_count": 24,
     "metadata": {},
     "output_type": "execute_result"
    }
   ],
   "source": [
    "bug_ids_considered = bugbug_fixes.intersection(set(fix_bug_ids_by_kind['performance']))\n",
    "N = len(bug_ids_considered)\n",
    "N"
   ]
  },
  {
   "cell_type": "code",
   "execution_count": 25,
   "metadata": {},
   "outputs": [
    {
     "data": {
      "text/plain": [
       "164"
      ]
     },
     "execution_count": 25,
     "metadata": {},
     "output_type": "execute_result"
    }
   ],
   "source": [
    "# bug ids for which we actually found an introducer\n",
    "bug_ids_found = set(fix_and_introducers_df['bug_id'])\n",
    "assert len(bug_ids_found.difference(set(fix_bug_ids_by_kind['performance']))) == 0\n",
    "\n",
    "regressed_by_bug_ids = bug_ids_considered.intersection(bug_ids_found)\n",
    "TP_plus_FP = len(regressed_by_bug_ids)\n",
    "TP_plus_FP # *bug numbers*"
   ]
  },
  {
   "cell_type": "code",
   "execution_count": 26,
   "metadata": {},
   "outputs": [
    {
     "data": {
      "text/plain": [
       "207"
      ]
     },
     "execution_count": 26,
     "metadata": {},
     "output_type": "execute_result"
    }
   ],
   "source": [
    "# number of bug ids for which we tried to find an introducer but did not\n",
    "# lower bound on false negative *commits*\n",
    "N - TP_plus_FP"
   ]
  },
  {
   "cell_type": "code",
   "execution_count": 28,
   "metadata": {},
   "outputs": [
    {
     "name": "stdout",
     "output_type": "stream",
     "text": [
      "TP=134, FP=576, TP+FP=710\n"
     ]
    }
   ],
   "source": [
    "TP = 0\n",
    "FP = 0\n",
    "TP_commits = set()\n",
    "\n",
    "for bug_id in regressed_by_bug_ids:\n",
    "    introducers_for_bug = fix_and_introducers_df.loc[fix_and_introducers_df['bug_id'] == bug_id, 'introducer']\n",
    "    introducers_for_bug = set(introducers_for_bug) # found introducers by SZZ \n",
    "    assert len(introducers_for_bug) > 0\n",
    "    \n",
    "    all_candidate_revisions = set()\n",
    "    for regressors_bug_id in bugbug_fix_to_regressor[bug_id]:\n",
    "        candidate_revisions = set(all_commits.loc[all_commits['bug_id'] == regressors_bug_id, 'revision'])\n",
    "        all_candidate_revisions = all_candidate_revisions.union(candidate_revisions)\n",
    "\n",
    "    tp_commits = introducers_for_bug.intersection(candidate_revisions)\n",
    "    TP_commits = TP_commits.union(tp_commits)\n",
    "    TP += len(tp_commits)\n",
    "    FP += len(introducers_for_bug.difference(candidate_revisions))\n",
    "\n",
    "print(f'{TP=}, {FP=}, {TP+FP=}')"
   ]
  },
  {
   "cell_type": "code",
   "execution_count": 32,
   "metadata": {},
   "outputs": [],
   "source": [
    "write_json_to_file(list(TP_commits), 'experiments/results/szz_regressed_by_tp.json')"
   ]
  },
  {
   "cell_type": "code",
   "execution_count": null,
   "metadata": {},
   "outputs": [],
   "source": []
  },
  {
   "cell_type": "code",
   "execution_count": null,
   "metadata": {},
   "outputs": [],
   "source": []
  },
  {
   "cell_type": "code",
   "execution_count": 83,
   "metadata": {},
   "outputs": [
    {
     "name": "stderr",
     "output_type": "stream",
     "text": [
      "Get defects and fixes: 206038it [00:24, 8383.67it/s] \n"
     ]
    }
   ],
   "source": [
    "resolutions = set()\n",
    "status = set()\n",
    "types = set()\n",
    "my_bug = None\n",
    "with open('data/bugbug/bugs.json', encoding=\"utf-8\") as f:\n",
    "    for line in tqdm(f, desc='Get defects and fixes'):\n",
    "        bug = json.loads(line)\n",
    "        if bug['id'] == 1717171:\n",
    "            my_bug = bug\n",
    "        resolutions.add(bug['resolution'])\n",
    "        status.add(bug['status'])\n",
    "        types.add(bug['type'])"
   ]
  },
  {
   "cell_type": "code",
   "execution_count": 84,
   "metadata": {},
   "outputs": [
    {
     "data": {
      "text/plain": [
       "{'',\n",
       " 'DUPLICATE',\n",
       " 'EXPIRED',\n",
       " 'FIXED',\n",
       " 'INACTIVE',\n",
       " 'INCOMPLETE',\n",
       " 'INVALID',\n",
       " 'MOVED',\n",
       " 'WONTFIX',\n",
       " 'WORKSFORME'}"
      ]
     },
     "execution_count": 84,
     "metadata": {},
     "output_type": "execute_result"
    }
   ],
   "source": [
    "resolutions"
   ]
  },
  {
   "cell_type": "code",
   "execution_count": 85,
   "metadata": {},
   "outputs": [
    {
     "data": {
      "text/plain": [
       "{'ASSIGNED',\n",
       " 'CLOSED',\n",
       " 'NEW',\n",
       " 'REOPENED',\n",
       " 'RESOLVED',\n",
       " 'UNCONFIRMED',\n",
       " 'VERIFIED'}"
      ]
     },
     "execution_count": 85,
     "metadata": {},
     "output_type": "execute_result"
    }
   ],
   "source": [
    "status"
   ]
  },
  {
   "cell_type": "code",
   "execution_count": 86,
   "metadata": {},
   "outputs": [
    {
     "data": {
      "text/plain": [
       "{'--', 'defect', 'enhancement', 'task'}"
      ]
     },
     "execution_count": 86,
     "metadata": {},
     "output_type": "execute_result"
    }
   ],
   "source": [
    "types"
   ]
  },
  {
   "cell_type": "code",
   "execution_count": 109,
   "metadata": {},
   "outputs": [
    {
     "name": "stderr",
     "output_type": "stream",
     "text": [
      "Get commits: 581679it [04:44, 2041.99it/s]\n"
     ]
    }
   ],
   "source": [
    "selected_commits = get_selected_commits()\n",
    "\n",
    "commit_log = get_commit_log('data/repo_miner/commit_log.csv')"
   ]
  },
  {
   "cell_type": "code",
   "execution_count": 105,
   "metadata": {},
   "outputs": [
    {
     "data": {
      "text/plain": [
       "99694"
      ]
     },
     "execution_count": 105,
     "metadata": {},
     "output_type": "execute_result"
    }
   ],
   "source": [
    "len(selected_commits)"
   ]
  },
  {
   "cell_type": "code",
   "execution_count": 108,
   "metadata": {},
   "outputs": [
    {
     "data": {
      "text/plain": [
       "index\n",
       "1582b3ffe71226af68979a58b5852afa49ff939b   2019-07-01 09:51:59\n",
       "199bcb54e5122b5e7ac2476c90288b2169db2013   2019-07-01 09:51:59\n",
       "7d964bfcda0e0aded01a4fb05a8405b9cb61bafd   2019-07-01 09:51:59\n",
       "696aa5fa31ea5c39cee412a6cecfd4af19f845fd   2019-07-01 09:51:59\n",
       "da65877c0fec3c21af44c542bada87ea8e8c6eea   2019-07-01 09:51:59\n",
       "                                                   ...        \n",
       "2e03fdd340bda8085be8e6dc6e5277f09aa8a171   2021-10-30 21:27:31\n",
       "f398c3d4e21385a4b57ff67609fecca718a21416   2021-10-31 09:54:03\n",
       "6e81bb1b5c7b19bff22b847d72d814cb1c7a63fa   2021-10-31 09:54:03\n",
       "213bd1d0fa05af57af2c06f2bb6a42dfd75be970   2021-10-31 21:39:49\n",
       "4f57142ccd08255c6e87390db6772db94a1033c4   2021-10-31 21:39:49\n",
       "Name: date, Length: 99694, dtype: datetime64[ns]"
      ]
     },
     "execution_count": 108,
     "metadata": {},
     "output_type": "execute_result"
    }
   ],
   "source": [
    "selected_commits['date']"
   ]
  }
 ],
 "metadata": {
  "interpreter": {
   "hash": "aee8b7b246df8f9039afb4144a1f6fd8d2ca17a180786b69acc140d282b71a49"
  },
  "kernelspec": {
   "display_name": "Python 3.9.7 64-bit",
   "language": "python",
   "name": "python3"
  },
  "language_info": {
   "codemirror_mode": {
    "name": "ipython",
    "version": 3
   },
   "file_extension": ".py",
   "mimetype": "text/x-python",
   "name": "python",
   "nbconvert_exporter": "python",
   "pygments_lexer": "ipython3",
   "version": "3.9.7"
  },
  "orig_nbformat": 4
 },
 "nbformat": 4,
 "nbformat_minor": 2
}
