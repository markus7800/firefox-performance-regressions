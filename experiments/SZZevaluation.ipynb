{
 "cells": [
  {
   "cell_type": "code",
   "execution_count": 76,
   "metadata": {},
   "outputs": [
    {
     "name": "stdout",
     "output_type": "stream",
     "text": [
      "460. GET https://treeherder.mozilla.org/api/performance/alertsummary/?page=460\r"
     ]
    }
   ],
   "source": [
    "import requests\n",
    "import time\n",
    "url = \"https://treeherder.mozilla.org/api/performance/alertsummary/\"\n",
    "alertsummaries = []\n",
    "i = 0\n",
    "while True:\n",
    "    i += 1\n",
    "    print(f\"{i}. GET {url}\", end=\"\\r\")\n",
    "    r = requests.get(url, headers={'User-Agent': 'basic'})\n",
    "    j = r.json()\n",
    "    alertsummaries += j['results']\n",
    "    url = j['next']\n",
    "    if url is None:\n",
    "        break\n",
    "    time.sleep(0.5)"
   ]
  },
  {
   "cell_type": "code",
   "execution_count": 2,
   "metadata": {},
   "outputs": [
    {
     "name": "stdout",
     "output_type": "stream",
     "text": [
      "/Users/markus/Documents/regression-prediction\n"
     ]
    },
    {
     "data": {
      "text/plain": [
       "'/Users/markus/Documents/regression-prediction'"
      ]
     },
     "execution_count": 2,
     "metadata": {},
     "output_type": "execute_result"
    }
   ],
   "source": [
    "%cd ..\n",
    "%pwd"
   ]
  },
  {
   "cell_type": "code",
   "execution_count": 38,
   "metadata": {},
   "outputs": [],
   "source": [
    "from src.utils import *\n",
    "from src.labeling import *"
   ]
  },
  {
   "cell_type": "code",
   "execution_count": 77,
   "metadata": {},
   "outputs": [],
   "source": [
    "import datetime\n",
    "date = datetime.datetime.now().strftime('%Y-%m-%d')\n",
    "write_json_to_file(alertsummaries, f'data/labeling/alerts_{date}.json')"
   ]
  },
  {
   "cell_type": "code",
   "execution_count": 78,
   "metadata": {},
   "outputs": [],
   "source": [
    "alertsummaries = read_data_from_json('data/labeling/alerts_2022-03-01.json')\n",
    "alertsummaries2 = read_data_from_json('data/labeling/alerts_2021-09-13.json')"
   ]
  },
  {
   "cell_type": "code",
   "execution_count": 80,
   "metadata": {},
   "outputs": [],
   "source": [
    "alert_ids = {alert['id'] for alert in alertsummaries}\n",
    "alert_ids2 = {alert['id'] for alert in alertsummaries2}"
   ]
  },
  {
   "cell_type": "code",
   "execution_count": 81,
   "metadata": {},
   "outputs": [
    {
     "data": {
      "text/plain": [
       "(4592, 4460, 2516)"
      ]
     },
     "execution_count": 81,
     "metadata": {},
     "output_type": "execute_result"
    }
   ],
   "source": [
    "len(alert_ids), len(alert_ids2), len(alert_ids.intersection(alert_ids2))"
   ]
  },
  {
   "cell_type": "code",
   "execution_count": 82,
   "metadata": {},
   "outputs": [],
   "source": [
    "for alert in alertsummaries2:\n",
    "    if alert['id'] not in alert_ids:\n",
    "        alertsummaries.append(alert)"
   ]
  },
  {
   "cell_type": "code",
   "execution_count": 40,
   "metadata": {},
   "outputs": [
    {
     "name": "stderr",
     "output_type": "stream",
     "text": [
      "Get selected commits: 583402it [02:37, 3705.89it/s] \n"
     ]
    }
   ],
   "source": [
    "selected_commits = get_selected_commits()\n",
    "#hg_to_git, git_to_hg = get_hg_git_mapping()"
   ]
  },
  {
   "cell_type": "code",
   "execution_count": 56,
   "metadata": {},
   "outputs": [
    {
     "name": "stderr",
     "output_type": "stream",
     "text": [
      "Get regressors and fixes: 205149it [00:47, 4357.69it/s]\n"
     ]
    },
    {
     "name": "stdout",
     "output_type": "stream",
     "text": [
      "Found\n",
      "9673 regression\n",
      "881 performance\n",
      "1225 crash\n",
      "281 security\n",
      "32 memory\n",
      "9 power\n",
      "regressor bug ids,\n",
      "\n",
      "and\n",
      "\n",
      "15527 regression\n",
      "976 performance\n",
      "1595 crash\n",
      "299 security\n",
      "31 memory\n",
      "9 power\n",
      "fix bug ids.\n"
     ]
    },
    {
     "name": "stderr",
     "output_type": "stream",
     "text": [
      "Get defects and fixes: 205149it [02:13, 1534.85it/s]"
     ]
    },
    {
     "name": "stdout",
     "output_type": "stream",
     "text": [
      "Found\n",
      "46122 regression\n",
      "1304 security\n",
      "963 performance\n",
      "117 memory\n",
      "3323 crash\n",
      "39 power\n",
      "fix bug ids.\n"
     ]
    },
    {
     "name": "stderr",
     "output_type": "stream",
     "text": [
      "\n"
     ]
    }
   ],
   "source": [
    "#labeling = 'fixed_defect_szz'\n",
    "\n",
    "bugbug_szz_labeling = pd.read_csv(f'data/labeling/bugbug_szz.csv')\n",
    "fixed_defect_szz_labeling = pd.read_csv(f'data/labeling/fixed_defect_szz.csv')\n",
    "# fix_and_introducers = read_data_from_json(f'data/labeling/{labeling}/results/fix_and_introducers_pairs.json')\n",
    "\n",
    "_, bugbug_fix_bug_ids_by_kind, _ = get_bugbug_regressors_and_fixes()\n",
    "\n",
    "fixed_defect_fix_bug_ids_by_kind, _ = get_defects_and_fixes()\n"
   ]
  },
  {
   "cell_type": "code",
   "execution_count": 67,
   "metadata": {},
   "outputs": [
    {
     "data": {
      "text/plain": [
       "317"
      ]
     },
     "execution_count": 67,
     "metadata": {},
     "output_type": "execute_result"
    }
   ],
   "source": [
    "bugbug_szz_labeling['performance'].sum()"
   ]
  },
  {
   "cell_type": "code",
   "execution_count": 68,
   "metadata": {},
   "outputs": [
    {
     "data": {
      "text/plain": [
       "567"
      ]
     },
     "execution_count": 68,
     "metadata": {},
     "output_type": "execute_result"
    }
   ],
   "source": [
    "fixed_defect_szz_labeling['performance'].sum()"
   ]
  },
  {
   "cell_type": "code",
   "execution_count": 69,
   "metadata": {},
   "outputs": [
    {
     "data": {
      "text/plain": [
       "573"
      ]
     },
     "execution_count": 69,
     "metadata": {},
     "output_type": "execute_result"
    }
   ],
   "source": [
    "import numpy as np\n",
    "np.maximum(fixed_defect_szz_labeling['performance'], bugbug_szz_labeling['performance']).sum()"
   ]
  },
  {
   "cell_type": "code",
   "execution_count": 53,
   "metadata": {},
   "outputs": [
    {
     "data": {
      "text/plain": [
       "963"
      ]
     },
     "execution_count": 53,
     "metadata": {},
     "output_type": "execute_result"
    }
   ],
   "source": [
    "len(fix_bug_ids_by_kind['performance'])"
   ]
  },
  {
   "cell_type": "code",
   "execution_count": 33,
   "metadata": {},
   "outputs": [],
   "source": [
    "import pandas as pd\n"
   ]
  },
  {
   "cell_type": "code",
   "execution_count": 37,
   "metadata": {},
   "outputs": [
    {
     "data": {
      "text/plain": [
       "233"
      ]
     },
     "execution_count": 37,
     "metadata": {},
     "output_type": "execute_result"
    }
   ],
   "source": [
    "fixes = set(fix for fix, introducer in fix_and_introducers)\n",
    "len(fixes)"
   ]
  },
  {
   "cell_type": "code",
   "execution_count": 74,
   "metadata": {},
   "outputs": [
    {
     "data": {
      "text/plain": [
       "375"
      ]
     },
     "execution_count": 74,
     "metadata": {},
     "output_type": "execute_result"
    }
   ],
   "source": [
    "A = set(fixed_defect_fix_bug_ids_by_kind['performance'])\n",
    "B = set(bugbug_fix_bug_ids_by_kind['performance'])\n",
    "I = A.intersection(B)\n",
    "len(I)"
   ]
  },
  {
   "cell_type": "code",
   "execution_count": 75,
   "metadata": {},
   "outputs": [
    {
     "data": {
      "text/plain": [
       "(588, 601)"
      ]
     },
     "execution_count": 75,
     "metadata": {},
     "output_type": "execute_result"
    }
   ],
   "source": [
    "len(A.difference(I)), len(B.difference(I))"
   ]
  },
  {
   "cell_type": "code",
   "execution_count": 83,
   "metadata": {},
   "outputs": [
    {
     "data": {
      "text/plain": [
       "304"
      ]
     },
     "execution_count": 83,
     "metadata": {},
     "output_type": "execute_result"
    }
   ],
   "source": [
    "alertsummaries_filtered = [a for a in alertsummaries if a['bug_number'] in fixed_defect_fix_bug_ids_by_kind['performance']]\n",
    "len(alertsummaries_filtered)"
   ]
  },
  {
   "cell_type": "code",
   "execution_count": 84,
   "metadata": {},
   "outputs": [
    {
     "data": {
      "text/plain": [
       "549"
      ]
     },
     "execution_count": 84,
     "metadata": {},
     "output_type": "execute_result"
    }
   ],
   "source": [
    "alertsummaries_filtered = [a for a in alertsummaries if a['bug_number'] in bugbug_fix_bug_ids_by_kind['performance']]\n",
    "len(alertsummaries_filtered)"
   ]
  },
  {
   "cell_type": "code",
   "execution_count": 65,
   "metadata": {},
   "outputs": [
    {
     "data": {
      "text/plain": [
       "108"
      ]
     },
     "execution_count": 65,
     "metadata": {},
     "output_type": "execute_result"
    }
   ],
   "source": [
    "alert_bug_ids = set(a['bug_number'] for a in alertsummaries)\n",
    "len(alert_bug_ids.intersection(fixed_defect_fix_bug_ids_by_kind['performance']))"
   ]
  },
  {
   "cell_type": "code",
   "execution_count": 66,
   "metadata": {},
   "outputs": [
    {
     "data": {
      "text/plain": [
       "258"
      ]
     },
     "execution_count": 66,
     "metadata": {},
     "output_type": "execute_result"
    }
   ],
   "source": [
    "alert_bug_ids = set(a['bug_number'] for a in alertsummaries)\n",
    "len(alert_bug_ids.intersection(bugbug_fix_bug_ids_by_kind['performance']))"
   ]
  },
  {
   "cell_type": "code",
   "execution_count": null,
   "metadata": {},
   "outputs": [],
   "source": []
  }
 ],
 "metadata": {
  "interpreter": {
   "hash": "aee8b7b246df8f9039afb4144a1f6fd8d2ca17a180786b69acc140d282b71a49"
  },
  "kernelspec": {
   "display_name": "Python 3.9.7 64-bit",
   "language": "python",
   "name": "python3"
  },
  "language_info": {
   "codemirror_mode": {
    "name": "ipython",
    "version": 3
   },
   "file_extension": ".py",
   "mimetype": "text/x-python",
   "name": "python",
   "nbconvert_exporter": "python",
   "pygments_lexer": "ipython3",
   "version": "3.9.7"
  },
  "orig_nbformat": 4
 },
 "nbformat": 4,
 "nbformat_minor": 2
}
