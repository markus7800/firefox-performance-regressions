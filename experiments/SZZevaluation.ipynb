{
 "cells": [
  {
   "cell_type": "code",
   "execution_count": null,
   "metadata": {},
   "outputs": [],
   "source": [
    "%cd ..\n",
    "%pwd"
   ]
  },
  {
   "cell_type": "markdown",
   "metadata": {},
   "source": [
    "## Fetch alerts from Perfherder"
   ]
  },
  {
   "cell_type": "code",
   "execution_count": null,
   "metadata": {},
   "outputs": [],
   "source": [
    "import requests\n",
    "import time\n",
    "url = \"https://treeherder.mozilla.org/api/performance/alertsummary/\"\n",
    "alertsummaries = []\n",
    "i = 0\n",
    "while True:\n",
    "    i += 1\n",
    "    print(f\"{i}. GET {url}\", end=\"\\r\")\n",
    "    r = requests.get(url, headers={'User-Agent': 'basic'})\n",
    "    j = r.json()\n",
    "    alertsummaries += j['results']\n",
    "    url = j['next']\n",
    "    if url is None:\n",
    "        break\n",
    "    time.sleep(0.5)"
   ]
  },
  {
   "cell_type": "code",
   "execution_count": null,
   "metadata": {},
   "outputs": [],
   "source": [
    "import datetime\n",
    "date = datetime.datetime.now().strftime('%Y-%m-%d')\n",
    "write_json_to_file(alertsummaries, f'data/labeling/alerts_{date}.json')"
   ]
  },
  {
   "cell_type": "markdown",
   "metadata": {},
   "source": [
    "## SZZ Evaluation"
   ]
  },
  {
   "cell_type": "code",
   "execution_count": null,
   "metadata": {},
   "outputs": [],
   "source": [
    "from src.utils import *\n",
    "from src.labeling import *\n",
    "from src.repo_miner import get_commit_log"
   ]
  },
  {
   "cell_type": "code",
   "execution_count": null,
   "metadata": {},
   "outputs": [],
   "source": [
    "alertsummaries = read_data_from_json('data/labeling/alerts_2022-03-01.json')\n",
    "alertsummaries2 = read_data_from_json('data/labeling/alerts_2021-09-13.json')"
   ]
  },
  {
   "cell_type": "code",
   "execution_count": null,
   "metadata": {},
   "outputs": [],
   "source": [
    "alert_ids = {alert['id'] for alert in alertsummaries}\n",
    "alert_ids2 = {alert['id'] for alert in alertsummaries2}"
   ]
  },
  {
   "cell_type": "code",
   "execution_count": null,
   "metadata": {},
   "outputs": [],
   "source": [
    "len(alert_ids), len(alert_ids2), len(alert_ids.intersection(alert_ids2))"
   ]
  },
  {
   "cell_type": "code",
   "execution_count": null,
   "metadata": {},
   "outputs": [],
   "source": [
    "for alert in alertsummaries2:\n",
    "    if alert['id'] not in alert_ids:\n",
    "        alertsummaries.append(alert)"
   ]
  },
  {
   "cell_type": "code",
   "execution_count": null,
   "metadata": {},
   "outputs": [],
   "source": [
    "all_commits = get_all_commits()\n",
    "hg_to_git, git_to_hg = get_hg_git_mapping()\n",
    "commit_log = get_commit_log('data/repo_miner/commit_log.csv')"
   ]
  },
  {
   "cell_type": "code",
   "execution_count": null,
   "metadata": {},
   "outputs": [],
   "source": [
    "szz_labeling = pd.read_csv(f'data/labeling/fixed_defect_szz.csv')\n",
    "fix_bug_ids_by_kind, _ = get_defects_and_fixes()\n",
    "fix_and_introducers = read_data_from_json(f'data/labeling/fixed_defect_szz/results/fix_and_introducers_pairs.json')"
   ]
  },
  {
   "cell_type": "code",
   "execution_count": null,
   "metadata": {},
   "outputs": [],
   "source": [
    "for pair in fix_and_introducers:\n",
    "    pair[0] = git_to_hg[pair[0]]\n",
    "    pair[1] = git_to_hg[pair[1]]"
   ]
  },
  {
   "cell_type": "code",
   "execution_count": null,
   "metadata": {},
   "outputs": [],
   "source": [
    "len(fix_and_introducers)"
   ]
  },
  {
   "cell_type": "code",
   "execution_count": null,
   "metadata": {},
   "outputs": [],
   "source": [
    "fix_and_introducers_df = pd.DataFrame(fix_and_introducers, columns=['fix', 'introducer'])\n",
    "fix_and_introducers_df"
   ]
  },
  {
   "cell_type": "code",
   "execution_count": null,
   "metadata": {},
   "outputs": [],
   "source": [
    "# add bug id of fix\n",
    "fix_and_introducers_df = fix_and_introducers_df.merge(all_commits[['revision', 'bug_id']], left_on='fix', right_on='revision').drop('revision', axis=1)\n",
    "fix_and_introducers_df"
   ]
  },
  {
   "cell_type": "code",
   "execution_count": null,
   "metadata": {},
   "outputs": [],
   "source": [
    "fix_and_introducers_df[fix_and_introducers_df['introducer'] == '9ac290ec5884fd52bb6c16e9794da5b42f211cbb']"
   ]
  },
  {
   "cell_type": "code",
   "execution_count": null,
   "metadata": {},
   "outputs": [],
   "source": []
  },
  {
   "cell_type": "code",
   "execution_count": null,
   "metadata": {},
   "outputs": [],
   "source": [
    "introducers = set(fix_and_introducers_df['introducer'])\n",
    "len(set(fix_and_introducers_df['fix'])), len(introducers)"
   ]
  },
  {
   "cell_type": "code",
   "execution_count": null,
   "metadata": {},
   "outputs": [],
   "source": [
    "print_labeling_stats(szz_labeling, 'performance')"
   ]
  },
  {
   "cell_type": "code",
   "execution_count": null,
   "metadata": {},
   "outputs": [],
   "source": [
    "selected_introducers = set(szz_labeling.loc[szz_labeling['performance']==1, 'revision'])\n",
    "len(selected_introducers)"
   ]
  },
  {
   "cell_type": "code",
   "execution_count": null,
   "metadata": {},
   "outputs": [],
   "source": [
    "not_selected_introducers = list(introducers.difference(selected_introducers))\n",
    "commit_log.loc[not_selected_introducers].sort_values('id').tail(25)"
   ]
  },
  {
   "cell_type": "code",
   "execution_count": null,
   "metadata": {},
   "outputs": [],
   "source": [
    "# fix_bug_ids_by_kind['performance'] are bug numbers for which we tried to find an introducer\n",
    "alertsummaries_considered = [alert for alert in alertsummaries if alert['bug_number'] in fix_bug_ids_by_kind['performance']]\n",
    "\n",
    "# total number of bug ids for which an alert exists and for which we tried to find an introducer\n",
    "N = len({alert['bug_number'] for alert in alertsummaries_considered})\n",
    "\n",
    "len(alertsummaries_considered), N"
   ]
  },
  {
   "cell_type": "code",
   "execution_count": null,
   "metadata": {},
   "outputs": [],
   "source": [
    "# bug ids of fixes for which we actually found an introducer\n",
    "bug_ids_found = set(fix_and_introducers_df['bug_id'])\n",
    "assert len(bug_ids_found.difference(set(fix_bug_ids_by_kind['performance']))) == 0\n",
    "\n",
    "# corresponding alerts\n",
    "alertsummaries_found = [alert for alert in alertsummaries_considered if alert['bug_number'] in bug_ids_found]\n",
    "\n",
    "# all bug ids for which an alert exists and for which we found an introducer\n",
    "alert_bug_ids = {alert['bug_number'] for alert in alertsummaries_found}\n",
    "\n",
    "TP_plus_FP = len(alert_bug_ids)\n",
    "\n",
    "len(alertsummaries_found), TP_plus_FP # *bug numbers*"
   ]
  },
  {
   "cell_type": "code",
   "execution_count": null,
   "metadata": {},
   "outputs": [],
   "source": [
    "# number of bug ids for which we tried to find an introducer but did not\n",
    "# lower bound on false negative *commits*\n",
    "N - TP_plus_FP"
   ]
  },
  {
   "cell_type": "code",
   "execution_count": null,
   "metadata": {},
   "outputs": [],
   "source": [
    "TP = 0\n",
    "FP = 0\n",
    "\n",
    "for bug_id in alert_bug_ids:\n",
    "    introducers_for_bug = fix_and_introducers_df.loc[fix_and_introducers_df['bug_id'] == bug_id, 'introducer']\n",
    "    introducers_for_bug = set(introducers_for_bug) # found introducers by SZZ \n",
    "    assert len(introducers_for_bug) > 0\n",
    "    \n",
    "    all_candidate_revisions = set()\n",
    "    for alert in alertsummaries_considered:\n",
    "        if alert['bug_number'] == bug_id:\n",
    "            try:\n",
    "                if alert['prev_push_revision'] == alert['revision']:\n",
    "                    # this is sometimes the case, we just take the single commit\n",
    "                    candidate_revisions = set(commit_log.loc[alert['prev_push_revision']:alert['revision'], 'revision'])\n",
    "                else:\n",
    "                    # performance change detected in interval (alert['prev_push_revision'], alert['revision']]\n",
    "                    # exclude prev_push_revision commit\n",
    "                    candidate_revisions = set(commit_log.loc[alert['prev_push_revision']:alert['revision'], 'revision'].iloc[1:])\n",
    "                    \n",
    "            except KeyError:\n",
    "                pass\n",
    "            all_candidate_revisions = all_candidate_revisions.union(candidate_revisions)\n",
    "            #alert_id = alert['id']\n",
    "            #print(len(candidate_revisions), f'https://treeherder.mozilla.org/perfherder/alerts?id={alert_id}')\n",
    "\n",
    "\n",
    "    TP += len(introducers_for_bug.intersection(candidate_revisions)) # number of found introducers in candidate revisions\n",
    "    FP += len(introducers_for_bug.difference(candidate_revisions))\n",
    "\n",
    "print(f'{TP=}, {FP=}, {TP+FP=}')"
   ]
  },
  {
   "cell_type": "code",
   "execution_count": null,
   "metadata": {},
   "outputs": [],
   "source": [
    "_, _, _, bugbug_fix_to_regressor = get_bugbug_regressors_and_fixes()\n"
   ]
  },
  {
   "cell_type": "code",
   "execution_count": null,
   "metadata": {},
   "outputs": [],
   "source": [
    "bugbug_fixes = set(bugbug_fix_to_regressor.keys())\n",
    "len(bugbug_fixes)"
   ]
  },
  {
   "cell_type": "code",
   "execution_count": null,
   "metadata": {},
   "outputs": [],
   "source": [
    "bug_ids_considered = bugbug_fixes.intersection(set(fix_bug_ids_by_kind['performance']))\n",
    "N = len(bug_ids_considered)\n",
    "N"
   ]
  },
  {
   "cell_type": "code",
   "execution_count": null,
   "metadata": {},
   "outputs": [],
   "source": [
    "# bug ids for which we actually found an introducer\n",
    "bug_ids_found = set(fix_and_introducers_df['bug_id'])\n",
    "assert len(bug_ids_found.difference(set(fix_bug_ids_by_kind['performance']))) == 0\n",
    "\n",
    "regressed_by_bug_ids = bug_ids_considered.intersection(bug_ids_found)\n",
    "TP_plus_FP = len(regressed_by_bug_ids)\n",
    "TP_plus_FP # *bug numbers*"
   ]
  },
  {
   "cell_type": "code",
   "execution_count": null,
   "metadata": {},
   "outputs": [],
   "source": [
    "# number of bug ids for which we tried to find an introducer but did not\n",
    "# lower bound on false negative *commits*\n",
    "N - TP_plus_FP"
   ]
  },
  {
   "cell_type": "code",
   "execution_count": null,
   "metadata": {},
   "outputs": [],
   "source": [
    "TP = 0\n",
    "FP = 0\n",
    "TP_commits = set()\n",
    "\n",
    "for bug_id in regressed_by_bug_ids:\n",
    "    introducers_for_bug = fix_and_introducers_df.loc[fix_and_introducers_df['bug_id'] == bug_id, 'introducer']\n",
    "    introducers_for_bug = set(introducers_for_bug) # found introducers by SZZ \n",
    "    assert len(introducers_for_bug) > 0\n",
    "    \n",
    "    all_candidate_revisions = set()\n",
    "    for regressors_bug_id in bugbug_fix_to_regressor[bug_id]:\n",
    "        candidate_revisions = set(all_commits.loc[all_commits['bug_id'] == regressors_bug_id, 'revision'])\n",
    "        all_candidate_revisions = all_candidate_revisions.union(candidate_revisions)\n",
    "\n",
    "    tp_commits = introducers_for_bug.intersection(candidate_revisions)\n",
    "    TP_commits = TP_commits.union(tp_commits)\n",
    "    TP += len(tp_commits)\n",
    "    FP += len(introducers_for_bug.difference(candidate_revisions))\n",
    "\n",
    "print(f'{TP=}, {FP=}, {TP+FP=}')"
   ]
  },
  {
   "cell_type": "code",
   "execution_count": null,
   "metadata": {},
   "outputs": [],
   "source": [
    "write_json_to_file(list(TP_commits), 'experiments/results/szz_regressed_by_tp.json')"
   ]
  },
  {
   "cell_type": "code",
   "execution_count": null,
   "metadata": {},
   "outputs": [],
   "source": []
  },
  {
   "cell_type": "markdown",
   "metadata": {},
   "source": [
    "## Get info about bugs and repo"
   ]
  },
  {
   "cell_type": "code",
   "execution_count": null,
   "metadata": {},
   "outputs": [],
   "source": [
    "resolutions = set()\n",
    "status = set()\n",
    "types = set()\n",
    "my_bug = None\n",
    "with open('data/bugbug/bugs.json', encoding=\"utf-8\") as f:\n",
    "    for line in tqdm(f, desc='Get defects and fixes'):\n",
    "        bug = json.loads(line)\n",
    "        if bug['id'] == 1717171:\n",
    "            my_bug = bug\n",
    "        resolutions.add(bug['resolution'])\n",
    "        status.add(bug['status'])\n",
    "        types.add(bug['type'])"
   ]
  },
  {
   "cell_type": "code",
   "execution_count": null,
   "metadata": {},
   "outputs": [],
   "source": [
    "resolutions"
   ]
  },
  {
   "cell_type": "code",
   "execution_count": null,
   "metadata": {},
   "outputs": [],
   "source": [
    "status"
   ]
  },
  {
   "cell_type": "code",
   "execution_count": null,
   "metadata": {},
   "outputs": [],
   "source": [
    "types"
   ]
  },
  {
   "cell_type": "code",
   "execution_count": null,
   "metadata": {},
   "outputs": [],
   "source": [
    "selected_commits = get_selected_commits()\n",
    "\n",
    "commit_log = get_commit_log('data/repo_miner/commit_log.csv')"
   ]
  },
  {
   "cell_type": "code",
   "execution_count": null,
   "metadata": {},
   "outputs": [],
   "source": [
    "len(selected_commits)"
   ]
  },
  {
   "cell_type": "code",
   "execution_count": null,
   "metadata": {},
   "outputs": [],
   "source": [
    "selected_commits['date']"
   ]
  }
 ],
 "metadata": {
  "interpreter": {
   "hash": "aee8b7b246df8f9039afb4144a1f6fd8d2ca17a180786b69acc140d282b71a49"
  },
  "kernelspec": {
   "display_name": "Python 3.9.7 64-bit",
   "language": "python",
   "name": "python3"
  },
  "language_info": {
   "codemirror_mode": {
    "name": "ipython",
    "version": 3
   },
   "file_extension": ".py",
   "mimetype": "text/x-python",
   "name": "python",
   "nbconvert_exporter": "python",
   "pygments_lexer": "ipython3",
   "version": "3.8.10"
  },
  "orig_nbformat": 4
 },
 "nbformat": 4,
 "nbformat_minor": 2
}
