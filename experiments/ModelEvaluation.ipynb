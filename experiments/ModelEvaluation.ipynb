{
 "cells": [
  {
   "cell_type": "code",
   "execution_count": 1,
   "metadata": {},
   "outputs": [],
   "source": [
    "%load_ext autoreload\n",
    "%autoreload 2"
   ]
  },
  {
   "cell_type": "code",
   "execution_count": 2,
   "metadata": {},
   "outputs": [
    {
     "name": "stdout",
     "output_type": "stream",
     "text": [
      "/home/markus/Documents/regression-prediction\n"
     ]
    },
    {
     "data": {
      "text/plain": [
       "'/home/markus/Documents/regression-prediction'"
      ]
     },
     "execution_count": 2,
     "metadata": {},
     "output_type": "execute_result"
    }
   ],
   "source": [
    "%cd ..\n",
    "%pwd"
   ]
  },
  {
   "cell_type": "code",
   "execution_count": 3,
   "metadata": {},
   "outputs": [
    {
     "name": "stderr",
     "output_type": "stream",
     "text": [
      "/home/markus/Documents/regression-prediction/venv/lib/python3.8/site-packages/xgboost/compat.py:36: FutureWarning: pandas.Int64Index is deprecated and will be removed from pandas in a future version. Use pandas.Index with the appropriate dtype instead.\n",
      "  from pandas import MultiIndex, Int64Index\n"
     ]
    }
   ],
   "source": [
    "from experiments.modeleval_utils import *\n",
    "from sklearn.model_selection import cross_validate"
   ]
  },
  {
   "cell_type": "code",
   "execution_count": 4,
   "metadata": {},
   "outputs": [],
   "source": [
    "def evaluate_pipeline(output_dir, model, target, data, feature_type, scoring, X_train, y_train, X_test, y_test):\n",
    "    evaluation = {'model': model}\n",
    "\n",
    "    pipeline, best_params, best_result = get_pipeline(output_dir, data, feature_type, target, scoring, model)\n",
    "\n",
    "    y_test_proportion = len(y_test) / (len(y_train) + len(y_test))\n",
    "    tscv = TimeSeriesSplit(n_splits=5, test_size=round(len(y_train) * y_test_proportion))\n",
    "    res = cross_validate(pipeline, X_train, y_train, scoring=['average_precision', 'roc_auc'], cv=tscv, n_jobs=5)\n",
    "    evaluation['validation'] = res\n",
    "    \n",
    "    pipeline.fit(X_train, y_train)\n",
    "    evaluation['fitted_pipeline'] = pipeline\n",
    "    evaluation['best_params'] = best_params\n",
    "    evaluation['best_result'] = best_result\n",
    "\n",
    "    threshold_train, f1_train = get_best_f1_threshold(pipeline, X_train, y_train)\n",
    "    threshold_test, f1_test = get_best_f1_threshold(pipeline, X_test, y_test)\n",
    "    print(f'{threshold_train=} {f1_train=}, {threshold_test=}, {f1_test=}')\n",
    "\n",
    "    for (split, X_, y_, threshold) in [\n",
    "        ('train', X_train, y_train, threshold_train),\n",
    "        ('test', X_test, y_test, threshold_train),\n",
    "        ('test_pareto', X_test, y_test, threshold_test)\n",
    "        ]:\n",
    "\n",
    "        y_score = get_y_score(pipeline, X_)\n",
    "        y_pred = y_score >= threshold\n",
    "\n",
    "        evaluation[split] = {\n",
    "            'average_precision': metrics.average_precision_score(y_, y_score),\n",
    "            'roc_auc': metrics.roc_auc_score(y_, y_score),\n",
    "\n",
    "            'threshold': threshold,\n",
    "            \n",
    "            'regression': {\n",
    "                'recall': metrics.recall_score(y_, y_pred, pos_label=1),\n",
    "                'precision': metrics.precision_score(y_, y_pred, pos_label=1, zero_division=0),\n",
    "                'f1': metrics.f1_score(y_, y_pred, pos_label=1)\n",
    "            },\n",
    "            'non-regression': {\n",
    "                'recall': metrics.recall_score(y_, y_pred, pos_label=0),\n",
    "                'precision': metrics.precision_score(y_, y_pred, pos_label=0, zero_division=0),\n",
    "                'f1': metrics.f1_score(y_, y_pred, pos_label=0)\n",
    "            },\n",
    "            'avg_weighted': {\n",
    "                'recall': metrics.recall_score(y_, y_pred, average='weighted'),\n",
    "                'precision': metrics.precision_score(y_, y_pred, average='weighted', zero_division=0),\n",
    "                'f1': metrics.f1_score(y_, y_pred, average='weighted')\n",
    "            },\n",
    "            'avg_macro': {\n",
    "                'recall': metrics.recall_score(y_, y_pred, average='macro'),\n",
    "                'precision': metrics.precision_score(y_, y_pred, average='macro', zero_division=0),\n",
    "                'f1': metrics.f1_score(y_, y_pred, average='macro')\n",
    "            }\n",
    "        }\n",
    "\n",
    "    \n",
    "    return evaluation\n",
    "\n",
    "def evaluate_pipelines(output_dir, target, data, feature_type, scoring, X_train, y_train, X_test, y_test):\n",
    "    evaluations = []\n",
    "    for model in models:\n",
    "        print(model)\n",
    "        try:\n",
    "            evaluation = evaluate_pipeline(output_dir, model, target, data, feature_type, scoring, X_train, y_train, X_test, y_test)\n",
    "            evaluations.append(evaluation)\n",
    "        except Exception as e:\n",
    "            print(e)\n",
    "\n",
    "    return evaluations\n"
   ]
  },
  {
   "cell_type": "code",
   "execution_count": 5,
   "metadata": {},
   "outputs": [],
   "source": [
    "def get_overfit_stat_df(evaluation):\n",
    "    columns = [\n",
    "        np.array(['train', 'train', 'validation', 'validation', 'test', 'test']),\n",
    "        np.array(['Avg. Precision', 'AUC', 'Avg. Precision', 'AUC', 'Avg. Precision', 'AUC']),\n",
    "    ]\n",
    "\n",
    "    df = pd.DataFrame([[\n",
    "        evaluation['train']['average_precision'],\n",
    "        evaluation['train']['roc_auc'],\n",
    "        evaluation['validation']['test_average_precision'].mean(),\n",
    "        evaluation['validation']['test_roc_auc'].mean(),\n",
    "        evaluation['test']['average_precision'],\n",
    "        evaluation['test']['roc_auc']\n",
    "        ]],\n",
    "        index=[model_names[evaluation['model']]],\n",
    "        columns=columns)\n",
    "    return df"
   ]
  },
  {
   "cell_type": "code",
   "execution_count": 26,
   "metadata": {},
   "outputs": [],
   "source": [
    "def get_classification_report_df(evaluation):\n",
    "    dfs = []\n",
    "    for split in ['train', 'test', 'test_pareto']:\n",
    "        df = pd.DataFrame(\n",
    "            [\n",
    "                evaluation[split]['regression'],\n",
    "                evaluation[split]['non-regression']\n",
    "                # evaluation[split]['avg_macro'],\n",
    "                # evaluation[split]['avg_weighted']\n",
    "            ],\n",
    "            index=[\n",
    "                [model_names[evaluation['model']]]*2,\n",
    "                ['regression', 'non-regression']#, 'weighted average', 'micro average']\n",
    "                ]\n",
    "        )\n",
    "        df.columns = [\n",
    "            np.array([split]*3),\n",
    "            np.array(['recall', 'precision', 'F1'])\n",
    "        ]\n",
    "        dfs.append(df)\n",
    "\n",
    "    classification_reports = pd.concat(dfs, axis=1)\n",
    "\n",
    "    return classification_reports"
   ]
  },
  {
   "cell_type": "code",
   "execution_count": 7,
   "metadata": {},
   "outputs": [],
   "source": [
    "output_dir = 'experiments/results_FS'\n",
    "drop_columns = True"
   ]
  },
  {
   "cell_type": "code",
   "execution_count": 8,
   "metadata": {},
   "outputs": [
    {
     "name": "stdout",
     "output_type": "stream",
     "text": [
      "\n",
      "\n",
      " -->  fixed_defect_szz performance traditional \n",
      "\n",
      "\n",
      "performance: 589 positive 0.59% - negative 99105 99.41%\n",
      "X.shape=(99694, 55)\n",
      "\n",
      "dummy\n",
      "threshold_train=0.006319379430252775 f1_train=0.012559391301458618, threshold_test=0.006319379430252775, f1_test=0.004403522818254604\n",
      "lr\n",
      "threshold_train=0.8136786344906396 f1_train=0.041892940263770356, threshold_test=0.8000775810628395, f1_test=0.039408866995073885\n",
      "svm\n",
      "threshold_train=0.666004133321195 f1_train=0.07427785419532325, threshold_test=0.74360260621593, f1_test=0.021052631578947368\n",
      "rf\n",
      "threshold_train=0.8913696424621756 f1_train=0.9773123909249564, threshold_test=0.6242405566576075, f1_test=0.03478260869565217\n",
      "xgb\n"
     ]
    },
    {
     "name": "stderr",
     "output_type": "stream",
     "text": [
      "/home/markus/Documents/regression-prediction/venv/lib/python3.8/site-packages/xgboost/compat.py:36: FutureWarning: pandas.Int64Index is deprecated and will be removed from pandas in a future version. Use pandas.Index with the appropriate dtype instead.\n",
      "  from pandas import MultiIndex, Int64Index\n",
      "/home/markus/Documents/regression-prediction/venv/lib/python3.8/site-packages/xgboost/compat.py:36: FutureWarning: pandas.Int64Index is deprecated and will be removed from pandas in a future version. Use pandas.Index with the appropriate dtype instead.\n",
      "  from pandas import MultiIndex, Int64Index\n",
      "/home/markus/Documents/regression-prediction/venv/lib/python3.8/site-packages/xgboost/compat.py:36: FutureWarning: pandas.Int64Index is deprecated and will be removed from pandas in a future version. Use pandas.Index with the appropriate dtype instead.\n",
      "  from pandas import MultiIndex, Int64Index\n",
      "/home/markus/Documents/regression-prediction/venv/lib/python3.8/site-packages/xgboost/compat.py:36: FutureWarning: pandas.Int64Index is deprecated and will be removed from pandas in a future version. Use pandas.Index with the appropriate dtype instead.\n",
      "  from pandas import MultiIndex, Int64Index\n",
      "/home/markus/Documents/regression-prediction/venv/lib/python3.8/site-packages/xgboost/compat.py:36: FutureWarning: pandas.Int64Index is deprecated and will be removed from pandas in a future version. Use pandas.Index with the appropriate dtype instead.\n",
      "  from pandas import MultiIndex, Int64Index\n"
     ]
    },
    {
     "name": "stdout",
     "output_type": "stream",
     "text": [
      "threshold_train=0.87849313 f1_train=0.2476340694006309, threshold_test=0.4901714, f1_test=0.01066260472201066\n",
      "mlp\n"
     ]
    },
    {
     "name": "stderr",
     "output_type": "stream",
     "text": [
      "/home/markus/Documents/regression-prediction/venv/lib/python3.8/site-packages/sklearn/neural_network/_multilayer_perceptron.py:692: ConvergenceWarning: Stochastic Optimizer: Maximum iterations (200) reached and the optimization hasn't converged yet.\n",
      "  warnings.warn(\n",
      "/home/markus/Documents/regression-prediction/venv/lib/python3.8/site-packages/sklearn/neural_network/_multilayer_perceptron.py:692: ConvergenceWarning: Stochastic Optimizer: Maximum iterations (200) reached and the optimization hasn't converged yet.\n",
      "  warnings.warn(\n",
      "/home/markus/Documents/regression-prediction/venv/lib/python3.8/site-packages/sklearn/neural_network/_multilayer_perceptron.py:692: ConvergenceWarning: Stochastic Optimizer: Maximum iterations (200) reached and the optimization hasn't converged yet.\n",
      "  warnings.warn(\n",
      "/home/markus/Documents/regression-prediction/venv/lib/python3.8/site-packages/sklearn/neural_network/_multilayer_perceptron.py:692: ConvergenceWarning: Stochastic Optimizer: Maximum iterations (200) reached and the optimization hasn't converged yet.\n",
      "  warnings.warn(\n",
      "/home/markus/Documents/regression-prediction/venv/lib/python3.8/site-packages/sklearn/neural_network/_multilayer_perceptron.py:692: ConvergenceWarning: Stochastic Optimizer: Maximum iterations (200) reached and the optimization hasn't converged yet.\n",
      "  warnings.warn(\n",
      "/home/markus/Documents/regression-prediction/venv/lib/python3.8/site-packages/sklearn/neural_network/_multilayer_perceptron.py:692: ConvergenceWarning: Stochastic Optimizer: Maximum iterations (200) reached and the optimization hasn't converged yet.\n",
      "  warnings.warn(\n"
     ]
    },
    {
     "name": "stdout",
     "output_type": "stream",
     "text": [
      "threshold_train=0.8883079902139176 f1_train=0.11463250168577208, threshold_test=0.498033880481243, f1_test=0.009074410163339382\n",
      "tpot\n"
     ]
    },
    {
     "name": "stderr",
     "output_type": "stream",
     "text": [
      "/home/markus/Documents/regression-prediction/venv/lib/python3.8/site-packages/tpot/builtins/__init__.py:36: UserWarning: Warning: optional dependency `torch` is not available. - skipping import of NN models.\n",
      "  warnings.warn(\"Warning: optional dependency `torch` is not available. - skipping import of NN models.\")\n",
      "/home/markus/Documents/regression-prediction/venv/lib/python3.8/site-packages/tpot/builtins/__init__.py:36: UserWarning: Warning: optional dependency `torch` is not available. - skipping import of NN models.\n",
      "  warnings.warn(\"Warning: optional dependency `torch` is not available. - skipping import of NN models.\")\n",
      "/home/markus/Documents/regression-prediction/venv/lib/python3.8/site-packages/tpot/builtins/__init__.py:36: UserWarning: Warning: optional dependency `torch` is not available. - skipping import of NN models.\n",
      "  warnings.warn(\"Warning: optional dependency `torch` is not available. - skipping import of NN models.\")\n",
      "/home/markus/Documents/regression-prediction/venv/lib/python3.8/site-packages/tpot/builtins/__init__.py:36: UserWarning: Warning: optional dependency `torch` is not available. - skipping import of NN models.\n",
      "  warnings.warn(\"Warning: optional dependency `torch` is not available. - skipping import of NN models.\")\n",
      "/home/markus/Documents/regression-prediction/venv/lib/python3.8/site-packages/tpot/builtins/__init__.py:36: UserWarning: Warning: optional dependency `torch` is not available. - skipping import of NN models.\n",
      "  warnings.warn(\"Warning: optional dependency `torch` is not available. - skipping import of NN models.\")\n",
      "/home/markus/Documents/regression-prediction/venv/lib/python3.8/site-packages/tpot/builtins/__init__.py:36: UserWarning: Warning: optional dependency `torch` is not available. - skipping import of NN models.\n",
      "  warnings.warn(\"Warning: optional dependency `torch` is not available. - skipping import of NN models.\")\n",
      "/home/markus/Documents/regression-prediction/venv/lib/python3.8/site-packages/xgboost/sklearn.py:1224: UserWarning: The use of label encoder in XGBClassifier is deprecated and will be removed in a future release. To remove this warning, do the following: 1) Pass option use_label_encoder=False when constructing XGBClassifier object; and 2) Encode your labels (y) as integers starting with 0, i.e. 0, 1, 2, ..., [num_class - 1].\n",
      "  warnings.warn(label_encoder_deprecation_msg, UserWarning)\n",
      "/home/markus/Documents/regression-prediction/venv/lib/python3.8/site-packages/xgboost/sklearn.py:1224: UserWarning: The use of label encoder in XGBClassifier is deprecated and will be removed in a future release. To remove this warning, do the following: 1) Pass option use_label_encoder=False when constructing XGBClassifier object; and 2) Encode your labels (y) as integers starting with 0, i.e. 0, 1, 2, ..., [num_class - 1].\n",
      "  warnings.warn(label_encoder_deprecation_msg, UserWarning)\n",
      "/home/markus/Documents/regression-prediction/venv/lib/python3.8/site-packages/xgboost/sklearn.py:1224: UserWarning: The use of label encoder in XGBClassifier is deprecated and will be removed in a future release. To remove this warning, do the following: 1) Pass option use_label_encoder=False when constructing XGBClassifier object; and 2) Encode your labels (y) as integers starting with 0, i.e. 0, 1, 2, ..., [num_class - 1].\n",
      "  warnings.warn(label_encoder_deprecation_msg, UserWarning)\n",
      "/home/markus/Documents/regression-prediction/venv/lib/python3.8/site-packages/xgboost/sklearn.py:1224: UserWarning: The use of label encoder in XGBClassifier is deprecated and will be removed in a future release. To remove this warning, do the following: 1) Pass option use_label_encoder=False when constructing XGBClassifier object; and 2) Encode your labels (y) as integers starting with 0, i.e. 0, 1, 2, ..., [num_class - 1].\n",
      "  warnings.warn(label_encoder_deprecation_msg, UserWarning)\n",
      "/home/markus/Documents/regression-prediction/venv/lib/python3.8/site-packages/xgboost/sklearn.py:1224: UserWarning: The use of label encoder in XGBClassifier is deprecated and will be removed in a future release. To remove this warning, do the following: 1) Pass option use_label_encoder=False when constructing XGBClassifier object; and 2) Encode your labels (y) as integers starting with 0, i.e. 0, 1, 2, ..., [num_class - 1].\n",
      "  warnings.warn(label_encoder_deprecation_msg, UserWarning)\n",
      "/home/markus/Documents/regression-prediction/venv/lib/python3.8/site-packages/xgboost/sklearn.py:1224: UserWarning: The use of label encoder in XGBClassifier is deprecated and will be removed in a future release. To remove this warning, do the following: 1) Pass option use_label_encoder=False when constructing XGBClassifier object; and 2) Encode your labels (y) as integers starting with 0, i.e. 0, 1, 2, ..., [num_class - 1].\n",
      "  warnings.warn(label_encoder_deprecation_msg, UserWarning)\n"
     ]
    },
    {
     "name": "stdout",
     "output_type": "stream",
     "text": [
      "threshold_train=0.081046134 f1_train=0.3752244165170556, threshold_test=0.14225098, f1_test=0.08\n",
      "\n",
      "\n",
      " -->  fixed_defect_szz performance bow \n",
      "\n",
      "\n",
      "performance: 589 positive 0.59% - negative 99105 99.41%\n",
      "X.shape=(99694, 50000)\n",
      "\n",
      "dummy\n",
      "threshold_train=0.006319379430252775 f1_train=0.012559391301458618, threshold_test=0.006319379430252775, f1_test=0.004403522818254604\n",
      "lr\n"
     ]
    },
    {
     "name": "stderr",
     "output_type": "stream",
     "text": [
      "/home/markus/Documents/regression-prediction/venv/lib/python3.8/site-packages/sklearn/linear_model/_sag.py:352: ConvergenceWarning: The max_iter was reached which means the coef_ did not converge\n",
      "  warnings.warn(\n",
      "/home/markus/Documents/regression-prediction/venv/lib/python3.8/site-packages/sklearn/linear_model/_sag.py:352: ConvergenceWarning: The max_iter was reached which means the coef_ did not converge\n",
      "  warnings.warn(\n"
     ]
    },
    {
     "name": "stdout",
     "output_type": "stream",
     "text": [
      "threshold_train=0.07815754549144409 f1_train=0.40163265306122453, threshold_test=0.219178558185332, f1_test=0.07692307692307693\n",
      "svm\n"
     ]
    },
    {
     "name": "stderr",
     "output_type": "stream",
     "text": [
      "/home/markus/Documents/regression-prediction/venv/lib/python3.8/site-packages/sklearn/svm/_base.py:1206: ConvergenceWarning: Liblinear failed to converge, increase the number of iterations.\n",
      "  warnings.warn(\n",
      "/home/markus/Documents/regression-prediction/venv/lib/python3.8/site-packages/sklearn/svm/_base.py:1206: ConvergenceWarning: Liblinear failed to converge, increase the number of iterations.\n",
      "  warnings.warn(\n",
      "/home/markus/Documents/regression-prediction/venv/lib/python3.8/site-packages/sklearn/svm/_base.py:1206: ConvergenceWarning: Liblinear failed to converge, increase the number of iterations.\n",
      "  warnings.warn(\n",
      "/home/markus/Documents/regression-prediction/venv/lib/python3.8/site-packages/sklearn/svm/_base.py:1206: ConvergenceWarning: Liblinear failed to converge, increase the number of iterations.\n",
      "  warnings.warn(\n",
      "/home/markus/Documents/regression-prediction/venv/lib/python3.8/site-packages/sklearn/svm/_base.py:1206: ConvergenceWarning: Liblinear failed to converge, increase the number of iterations.\n",
      "  warnings.warn(\n",
      "/home/markus/Documents/regression-prediction/venv/lib/python3.8/site-packages/sklearn/svm/_base.py:1206: ConvergenceWarning: Liblinear failed to converge, increase the number of iterations.\n",
      "  warnings.warn(\n"
     ]
    },
    {
     "name": "stdout",
     "output_type": "stream",
     "text": [
      "threshold_train=1.2054027952859991 f1_train=0.21732114039806347, threshold_test=1.5349569906873244, f1_test=0.07547169811320754\n",
      "rf\n",
      "threshold_train=0.024777446032660674 f1_train=0.7046379170056958, threshold_test=0.021272074888064523, f1_test=0.02666666666666667\n",
      "xgb\n"
     ]
    },
    {
     "name": "stderr",
     "output_type": "stream",
     "text": [
      "/home/markus/Documents/regression-prediction/venv/lib/python3.8/site-packages/xgboost/compat.py:36: FutureWarning: pandas.Int64Index is deprecated and will be removed from pandas in a future version. Use pandas.Index with the appropriate dtype instead.\n",
      "  from pandas import MultiIndex, Int64Index\n",
      "/home/markus/Documents/regression-prediction/venv/lib/python3.8/site-packages/xgboost/compat.py:36: FutureWarning: pandas.Int64Index is deprecated and will be removed from pandas in a future version. Use pandas.Index with the appropriate dtype instead.\n",
      "  from pandas import MultiIndex, Int64Index\n",
      "/home/markus/Documents/regression-prediction/venv/lib/python3.8/site-packages/xgboost/compat.py:36: FutureWarning: pandas.Int64Index is deprecated and will be removed from pandas in a future version. Use pandas.Index with the appropriate dtype instead.\n",
      "  from pandas import MultiIndex, Int64Index\n",
      "/home/markus/Documents/regression-prediction/venv/lib/python3.8/site-packages/xgboost/compat.py:36: FutureWarning: pandas.Int64Index is deprecated and will be removed from pandas in a future version. Use pandas.Index with the appropriate dtype instead.\n",
      "  from pandas import MultiIndex, Int64Index\n",
      "/home/markus/Documents/regression-prediction/venv/lib/python3.8/site-packages/xgboost/compat.py:36: FutureWarning: pandas.Int64Index is deprecated and will be removed from pandas in a future version. Use pandas.Index with the appropriate dtype instead.\n",
      "  from pandas import MultiIndex, Int64Index\n"
     ]
    },
    {
     "name": "stdout",
     "output_type": "stream",
     "text": [
      "threshold_train=0.10551256 f1_train=0.4064293915040183, threshold_test=0.12772685, f1_test=0.04081632653061224\n",
      "mlp\n",
      "[Errno 2] No such file or directory: 'experiments/results_FS/fixed_defect_szz_bow_performance_average_precision_mlp.csv'\n",
      "tpot\n",
      "[Errno 2] No such file or directory: 'experiments/results_FS/fixed_defect_szz_bow_performance_average_precision_tpot_exported_pipeline.py'\n",
      "\n",
      "\n",
      " -->  bugbug_buglevel performance traditional \n",
      "\n",
      "\n",
      "performance: 1880 positive 2.77% - negative 66041 97.23%\n",
      "X.shape=(67921, 56)\n",
      "\n",
      "dummy\n",
      "threshold_train=0.026812589975134145 f1_train=0.05222489524750267, threshold_test=0.026812589975134145, f1_test=0.0685243104918965\n",
      "lr\n"
     ]
    },
    {
     "name": "stderr",
     "output_type": "stream",
     "text": [
      "/home/markus/Documents/regression-prediction/venv/lib/python3.8/site-packages/sklearn/linear_model/_sag.py:352: ConvergenceWarning: The max_iter was reached which means the coef_ did not converge\n",
      "  warnings.warn(\n",
      "/home/markus/Documents/regression-prediction/venv/lib/python3.8/site-packages/sklearn/linear_model/_sag.py:352: ConvergenceWarning: The max_iter was reached which means the coef_ did not converge\n",
      "  warnings.warn(\n",
      "/home/markus/Documents/regression-prediction/venv/lib/python3.8/site-packages/sklearn/linear_model/_sag.py:352: ConvergenceWarning: The max_iter was reached which means the coef_ did not converge\n",
      "  warnings.warn(\n"
     ]
    },
    {
     "name": "stdout",
     "output_type": "stream",
     "text": [
      "threshold_train=0.7347832588716675 f1_train=0.13342932565394772, threshold_test=0.732772424800068, f1_test=0.17737003058103976\n",
      "svm\n"
     ]
    },
    {
     "name": "stderr",
     "output_type": "stream",
     "text": [
      "/home/markus/Documents/regression-prediction/venv/lib/python3.8/site-packages/sklearn/svm/_base.py:1206: ConvergenceWarning: Liblinear failed to converge, increase the number of iterations.\n",
      "  warnings.warn(\n",
      "/home/markus/Documents/regression-prediction/venv/lib/python3.8/site-packages/sklearn/svm/_base.py:1206: ConvergenceWarning: Liblinear failed to converge, increase the number of iterations.\n",
      "  warnings.warn(\n",
      "/home/markus/Documents/regression-prediction/venv/lib/python3.8/site-packages/sklearn/svm/_base.py:1206: ConvergenceWarning: Liblinear failed to converge, increase the number of iterations.\n",
      "  warnings.warn(\n",
      "/home/markus/Documents/regression-prediction/venv/lib/python3.8/site-packages/sklearn/svm/_base.py:1206: ConvergenceWarning: Liblinear failed to converge, increase the number of iterations.\n",
      "  warnings.warn(\n",
      "/home/markus/Documents/regression-prediction/venv/lib/python3.8/site-packages/sklearn/svm/_base.py:1206: ConvergenceWarning: Liblinear failed to converge, increase the number of iterations.\n",
      "  warnings.warn(\n",
      "/home/markus/Documents/regression-prediction/venv/lib/python3.8/site-packages/sklearn/svm/_base.py:1206: ConvergenceWarning: Liblinear failed to converge, increase the number of iterations.\n",
      "  warnings.warn(\n"
     ]
    },
    {
     "name": "stdout",
     "output_type": "stream",
     "text": [
      "threshold_train=0.4573122151312887 f1_train=0.19510236852669613, threshold_test=0.4512760672039633, f1_test=0.17176470588235296\n",
      "rf\n",
      "threshold_train=0.6844373397068748 f1_train=0.2208160593497709, threshold_test=0.5626787143508193, f1_test=0.15261044176706828\n",
      "xgb\n",
      "threshold_train=0.14308473 f1_train=0.542314335060449, threshold_test=0.078882076, f1_test=0.1414790996784566\n",
      "mlp\n"
     ]
    },
    {
     "name": "stderr",
     "output_type": "stream",
     "text": [
      "/home/markus/Documents/regression-prediction/venv/lib/python3.8/site-packages/sklearn/neural_network/_multilayer_perceptron.py:692: ConvergenceWarning: Stochastic Optimizer: Maximum iterations (200) reached and the optimization hasn't converged yet.\n",
      "  warnings.warn(\n",
      "/home/markus/Documents/regression-prediction/venv/lib/python3.8/site-packages/sklearn/neural_network/_multilayer_perceptron.py:692: ConvergenceWarning: Stochastic Optimizer: Maximum iterations (200) reached and the optimization hasn't converged yet.\n",
      "  warnings.warn(\n",
      "/home/markus/Documents/regression-prediction/venv/lib/python3.8/site-packages/sklearn/neural_network/_multilayer_perceptron.py:692: ConvergenceWarning: Stochastic Optimizer: Maximum iterations (200) reached and the optimization hasn't converged yet.\n",
      "  warnings.warn(\n",
      "/home/markus/Documents/regression-prediction/venv/lib/python3.8/site-packages/sklearn/neural_network/_multilayer_perceptron.py:692: ConvergenceWarning: Stochastic Optimizer: Maximum iterations (200) reached and the optimization hasn't converged yet.\n",
      "  warnings.warn(\n",
      "/home/markus/Documents/regression-prediction/venv/lib/python3.8/site-packages/sklearn/neural_network/_multilayer_perceptron.py:692: ConvergenceWarning: Stochastic Optimizer: Maximum iterations (200) reached and the optimization hasn't converged yet.\n",
      "  warnings.warn(\n",
      "/home/markus/Documents/regression-prediction/venv/lib/python3.8/site-packages/sklearn/neural_network/_multilayer_perceptron.py:692: ConvergenceWarning: Stochastic Optimizer: Maximum iterations (200) reached and the optimization hasn't converged yet.\n",
      "  warnings.warn(\n"
     ]
    },
    {
     "name": "stdout",
     "output_type": "stream",
     "text": [
      "threshold_train=0.8390152713539074 f1_train=0.2724509533020171, threshold_test=0.7105767377272653, f1_test=0.1553784860557769\n",
      "tpot\n"
     ]
    },
    {
     "name": "stderr",
     "output_type": "stream",
     "text": [
      "/home/markus/Documents/regression-prediction/venv/lib/python3.8/site-packages/tpot/builtins/__init__.py:36: UserWarning: Warning: optional dependency `torch` is not available. - skipping import of NN models.\n",
      "  warnings.warn(\"Warning: optional dependency `torch` is not available. - skipping import of NN models.\")\n",
      "/home/markus/Documents/regression-prediction/venv/lib/python3.8/site-packages/tpot/builtins/__init__.py:36: UserWarning: Warning: optional dependency `torch` is not available. - skipping import of NN models.\n",
      "  warnings.warn(\"Warning: optional dependency `torch` is not available. - skipping import of NN models.\")\n",
      "/home/markus/Documents/regression-prediction/venv/lib/python3.8/site-packages/tpot/builtins/__init__.py:36: UserWarning: Warning: optional dependency `torch` is not available. - skipping import of NN models.\n",
      "  warnings.warn(\"Warning: optional dependency `torch` is not available. - skipping import of NN models.\")\n",
      "/home/markus/Documents/regression-prediction/venv/lib/python3.8/site-packages/tpot/builtins/__init__.py:36: UserWarning: Warning: optional dependency `torch` is not available. - skipping import of NN models.\n",
      "  warnings.warn(\"Warning: optional dependency `torch` is not available. - skipping import of NN models.\")\n",
      "/home/markus/Documents/regression-prediction/venv/lib/python3.8/site-packages/tpot/builtins/__init__.py:36: UserWarning: Warning: optional dependency `torch` is not available. - skipping import of NN models.\n",
      "  warnings.warn(\"Warning: optional dependency `torch` is not available. - skipping import of NN models.\")\n"
     ]
    },
    {
     "name": "stdout",
     "output_type": "stream",
     "text": [
      "threshold_train=0.2312765567765566 f1_train=0.9447708578143361, threshold_test=0.0975, f1_test=0.1619718309859155\n",
      "\n",
      "\n",
      " -->  bugbug_buglevel performance bow \n",
      "\n",
      "\n",
      "performance: 1880 positive 2.77% - negative 66041 97.23%\n",
      "X.shape=(67921, 50000)\n",
      "\n",
      "dummy\n",
      "threshold_train=0.026812589975134145 f1_train=0.05222489524750267, threshold_test=0.026812589975134145, f1_test=0.0685243104918965\n",
      "lr\n",
      "threshold_train=0.11372902631795351 f1_train=0.4795918367346939, threshold_test=0.1097045420086026, f1_test=0.17808219178082194\n",
      "svm\n",
      "threshold_train=0.42612612214845313 f1_train=0.29361835900660166, threshold_test=0.3497753218115287, f1_test=0.17142857142857143\n",
      "rf\n",
      "threshold_train=0.7759179894179894 f1_train=0.7129833385727758, threshold_test=0.5755555555555554, f1_test=0.199252801992528\n",
      "xgb\n",
      "threshold_train=0.13846844 f1_train=0.6150583244962885, threshold_test=0.053653013, f1_test=0.16208393632416787\n",
      "mlp\n",
      "[Errno 2] No such file or directory: 'experiments/results_FS/bugbug_buglevel_bow_performance_average_precision_mlp.csv'\n",
      "tpot\n",
      "[Errno 2] No such file or directory: 'experiments/results_FS/bugbug_buglevel_bow_performance_average_precision_tpot_exported_pipeline.py'\n",
      "\n",
      "\n",
      " -->  bugbug_buglevel regression traditional \n",
      "\n",
      "\n",
      "regression: 14287 positive 21.03% - negative 53634 78.97%\n",
      "X.shape=(67921, 56)\n",
      "\n",
      "dummy\n",
      "threshold_train=0.2105254547834053 f1_train=0.34782491182074954, threshold_test=0.2105254547834053, f1_test=0.34539033004506153\n",
      "lr\n"
     ]
    },
    {
     "name": "stderr",
     "output_type": "stream",
     "text": [
      "/home/markus/Documents/regression-prediction/venv/lib/python3.8/site-packages/sklearn/linear_model/_sag.py:352: ConvergenceWarning: The max_iter was reached which means the coef_ did not converge\n",
      "  warnings.warn(\n",
      "/home/markus/Documents/regression-prediction/venv/lib/python3.8/site-packages/sklearn/linear_model/_sag.py:352: ConvergenceWarning: The max_iter was reached which means the coef_ did not converge\n",
      "  warnings.warn(\n"
     ]
    },
    {
     "name": "stdout",
     "output_type": "stream",
     "text": [
      "threshold_train=0.48684747469660383 f1_train=0.42012775096928956, threshold_test=0.5428553908018999, f1_test=0.39454939609786316\n",
      "svm\n"
     ]
    },
    {
     "name": "stderr",
     "output_type": "stream",
     "text": [
      "/home/markus/Documents/regression-prediction/venv/lib/python3.8/site-packages/sklearn/svm/_base.py:1206: ConvergenceWarning: Liblinear failed to converge, increase the number of iterations.\n",
      "  warnings.warn(\n",
      "/home/markus/Documents/regression-prediction/venv/lib/python3.8/site-packages/sklearn/svm/_base.py:1206: ConvergenceWarning: Liblinear failed to converge, increase the number of iterations.\n",
      "  warnings.warn(\n",
      "/home/markus/Documents/regression-prediction/venv/lib/python3.8/site-packages/sklearn/svm/_base.py:1206: ConvergenceWarning: Liblinear failed to converge, increase the number of iterations.\n",
      "  warnings.warn(\n",
      "/home/markus/Documents/regression-prediction/venv/lib/python3.8/site-packages/sklearn/svm/_base.py:1206: ConvergenceWarning: Liblinear failed to converge, increase the number of iterations.\n",
      "  warnings.warn(\n",
      "/home/markus/Documents/regression-prediction/venv/lib/python3.8/site-packages/sklearn/svm/_base.py:1206: ConvergenceWarning: Liblinear failed to converge, increase the number of iterations.\n",
      "  warnings.warn(\n",
      "/home/markus/Documents/regression-prediction/venv/lib/python3.8/site-packages/sklearn/svm/_base.py:1206: ConvergenceWarning: Liblinear failed to converge, increase the number of iterations.\n",
      "  warnings.warn(\n"
     ]
    },
    {
     "name": "stdout",
     "output_type": "stream",
     "text": [
      "threshold_train=0.1006652726993238 f1_train=0.44151404151404156, threshold_test=-0.05574227782312846, f1_test=0.4035621198957428\n",
      "rf\n",
      "threshold_train=0.28509794974675506 f1_train=0.8043578462183113, threshold_test=0.2560205389394595, f1_test=0.43796455117209837\n",
      "xgb\n",
      "threshold_train=0.25422105 f1_train=0.5069971454431526, threshold_test=0.18882969, f1_test=0.4281287246722288\n",
      "mlp\n",
      "threshold_train=0.2125585807393482 f1_train=0.4433658885183421, threshold_test=0.227005806422799, f1_test=0.4227687206410611\n",
      "tpot\n"
     ]
    },
    {
     "name": "stderr",
     "output_type": "stream",
     "text": [
      "/home/markus/Documents/regression-prediction/venv/lib/python3.8/site-packages/sklearn/feature_selection/_univariate_selection.py:112: UserWarning: Features [4] are constant.\n",
      "  warnings.warn(\"Features %s are constant.\" % constant_features_idx, UserWarning)\n",
      "/home/markus/Documents/regression-prediction/venv/lib/python3.8/site-packages/sklearn/feature_selection/_univariate_selection.py:113: RuntimeWarning: invalid value encountered in true_divide\n",
      "  f = msb / msw\n",
      "/home/markus/Documents/regression-prediction/venv/lib/python3.8/site-packages/sklearn/feature_selection/_univariate_selection.py:112: UserWarning: Features [4] are constant.\n",
      "  warnings.warn(\"Features %s are constant.\" % constant_features_idx, UserWarning)\n",
      "/home/markus/Documents/regression-prediction/venv/lib/python3.8/site-packages/sklearn/feature_selection/_univariate_selection.py:113: RuntimeWarning: invalid value encountered in true_divide\n",
      "  f = msb / msw\n",
      "/home/markus/Documents/regression-prediction/venv/lib/python3.8/site-packages/sklearn/feature_selection/_univariate_selection.py:112: UserWarning: Features [4] are constant.\n",
      "  warnings.warn(\"Features %s are constant.\" % constant_features_idx, UserWarning)\n",
      "/home/markus/Documents/regression-prediction/venv/lib/python3.8/site-packages/sklearn/feature_selection/_univariate_selection.py:113: RuntimeWarning: invalid value encountered in true_divide\n",
      "  f = msb / msw\n",
      "/home/markus/Documents/regression-prediction/venv/lib/python3.8/site-packages/sklearn/feature_selection/_univariate_selection.py:112: UserWarning: Features [4] are constant.\n",
      "  warnings.warn(\"Features %s are constant.\" % constant_features_idx, UserWarning)\n",
      "/home/markus/Documents/regression-prediction/venv/lib/python3.8/site-packages/sklearn/feature_selection/_univariate_selection.py:113: RuntimeWarning: invalid value encountered in true_divide\n",
      "  f = msb / msw\n",
      "/home/markus/Documents/regression-prediction/venv/lib/python3.8/site-packages/sklearn/feature_selection/_univariate_selection.py:112: UserWarning: Features [4] are constant.\n",
      "  warnings.warn(\"Features %s are constant.\" % constant_features_idx, UserWarning)\n",
      "/home/markus/Documents/regression-prediction/venv/lib/python3.8/site-packages/sklearn/feature_selection/_univariate_selection.py:113: RuntimeWarning: invalid value encountered in true_divide\n",
      "  f = msb / msw\n",
      "/home/markus/Documents/regression-prediction/venv/lib/python3.8/site-packages/xgboost/sklearn.py:1224: UserWarning: The use of label encoder in XGBClassifier is deprecated and will be removed in a future release. To remove this warning, do the following: 1) Pass option use_label_encoder=False when constructing XGBClassifier object; and 2) Encode your labels (y) as integers starting with 0, i.e. 0, 1, 2, ..., [num_class - 1].\n",
      "  warnings.warn(label_encoder_deprecation_msg, UserWarning)\n",
      "/home/markus/Documents/regression-prediction/venv/lib/python3.8/site-packages/xgboost/sklearn.py:1224: UserWarning: The use of label encoder in XGBClassifier is deprecated and will be removed in a future release. To remove this warning, do the following: 1) Pass option use_label_encoder=False when constructing XGBClassifier object; and 2) Encode your labels (y) as integers starting with 0, i.e. 0, 1, 2, ..., [num_class - 1].\n",
      "  warnings.warn(label_encoder_deprecation_msg, UserWarning)\n",
      "/home/markus/Documents/regression-prediction/venv/lib/python3.8/site-packages/xgboost/sklearn.py:1224: UserWarning: The use of label encoder in XGBClassifier is deprecated and will be removed in a future release. To remove this warning, do the following: 1) Pass option use_label_encoder=False when constructing XGBClassifier object; and 2) Encode your labels (y) as integers starting with 0, i.e. 0, 1, 2, ..., [num_class - 1].\n",
      "  warnings.warn(label_encoder_deprecation_msg, UserWarning)\n",
      "/home/markus/Documents/regression-prediction/venv/lib/python3.8/site-packages/xgboost/sklearn.py:1224: UserWarning: The use of label encoder in XGBClassifier is deprecated and will be removed in a future release. To remove this warning, do the following: 1) Pass option use_label_encoder=False when constructing XGBClassifier object; and 2) Encode your labels (y) as integers starting with 0, i.e. 0, 1, 2, ..., [num_class - 1].\n",
      "  warnings.warn(label_encoder_deprecation_msg, UserWarning)\n",
      "/home/markus/Documents/regression-prediction/venv/lib/python3.8/site-packages/xgboost/sklearn.py:1224: UserWarning: The use of label encoder in XGBClassifier is deprecated and will be removed in a future release. To remove this warning, do the following: 1) Pass option use_label_encoder=False when constructing XGBClassifier object; and 2) Encode your labels (y) as integers starting with 0, i.e. 0, 1, 2, ..., [num_class - 1].\n",
      "  warnings.warn(label_encoder_deprecation_msg, UserWarning)\n",
      "/home/markus/Documents/regression-prediction/venv/lib/python3.8/site-packages/sklearn/feature_selection/_univariate_selection.py:112: UserWarning: Features [4] are constant.\n",
      "  warnings.warn(\"Features %s are constant.\" % constant_features_idx, UserWarning)\n",
      "/home/markus/Documents/regression-prediction/venv/lib/python3.8/site-packages/sklearn/feature_selection/_univariate_selection.py:113: RuntimeWarning: invalid value encountered in true_divide\n",
      "  f = msb / msw\n",
      "/home/markus/Documents/regression-prediction/venv/lib/python3.8/site-packages/xgboost/sklearn.py:1224: UserWarning: The use of label encoder in XGBClassifier is deprecated and will be removed in a future release. To remove this warning, do the following: 1) Pass option use_label_encoder=False when constructing XGBClassifier object; and 2) Encode your labels (y) as integers starting with 0, i.e. 0, 1, 2, ..., [num_class - 1].\n",
      "  warnings.warn(label_encoder_deprecation_msg, UserWarning)\n"
     ]
    },
    {
     "name": "stdout",
     "output_type": "stream",
     "text": [
      "threshold_train=0.24967593 f1_train=0.5306709593451381, threshold_test=0.22831187, f1_test=0.4287660038136747\n",
      "\n",
      "\n",
      " -->  bugbug_buglevel regression bow \n",
      "\n",
      "\n",
      "regression: 14287 positive 21.03% - negative 53634 78.97%\n",
      "X.shape=(67921, 50000)\n",
      "\n",
      "dummy\n",
      "threshold_train=0.2105254547834053 f1_train=0.34782491182074954, threshold_test=0.2105254547834053, f1_test=0.34539033004506153\n",
      "lr\n",
      "threshold_train=0.25255901008179193 f1_train=0.5024342745861733, threshold_test=0.19903315134959357, f1_test=0.3865583132000878\n",
      "svm\n"
     ]
    },
    {
     "name": "stderr",
     "output_type": "stream",
     "text": [
      "/home/markus/Documents/regression-prediction/venv/lib/python3.8/site-packages/sklearn/svm/_base.py:1206: ConvergenceWarning: Liblinear failed to converge, increase the number of iterations.\n",
      "  warnings.warn(\n",
      "/home/markus/Documents/regression-prediction/venv/lib/python3.8/site-packages/sklearn/svm/_base.py:1206: ConvergenceWarning: Liblinear failed to converge, increase the number of iterations.\n",
      "  warnings.warn(\n",
      "/home/markus/Documents/regression-prediction/venv/lib/python3.8/site-packages/sklearn/svm/_base.py:1206: ConvergenceWarning: Liblinear failed to converge, increase the number of iterations.\n",
      "  warnings.warn(\n",
      "/home/markus/Documents/regression-prediction/venv/lib/python3.8/site-packages/sklearn/svm/_base.py:1206: ConvergenceWarning: Liblinear failed to converge, increase the number of iterations.\n",
      "  warnings.warn(\n",
      "/home/markus/Documents/regression-prediction/venv/lib/python3.8/site-packages/sklearn/svm/_base.py:1206: ConvergenceWarning: Liblinear failed to converge, increase the number of iterations.\n",
      "  warnings.warn(\n",
      "/home/markus/Documents/regression-prediction/venv/lib/python3.8/site-packages/sklearn/svm/_base.py:1206: ConvergenceWarning: Liblinear failed to converge, increase the number of iterations.\n",
      "  warnings.warn(\n"
     ]
    },
    {
     "name": "stdout",
     "output_type": "stream",
     "text": [
      "threshold_train=0.11822900228128105 f1_train=0.429771265189421, threshold_test=0.09025835323231732, f1_test=0.3850401606425703\n",
      "rf\n",
      "threshold_train=0.43416137566137564 f1_train=0.9204340721498303, threshold_test=0.18844444444444444, f1_test=0.4230875448771058\n",
      "xgb\n"
     ]
    },
    {
     "name": "stderr",
     "output_type": "stream",
     "text": [
      "/home/markus/Documents/regression-prediction/venv/lib/python3.8/site-packages/xgboost/compat.py:36: FutureWarning: pandas.Int64Index is deprecated and will be removed from pandas in a future version. Use pandas.Index with the appropriate dtype instead.\n",
      "  from pandas import MultiIndex, Int64Index\n",
      "/home/markus/Documents/regression-prediction/venv/lib/python3.8/site-packages/xgboost/compat.py:36: FutureWarning: pandas.Int64Index is deprecated and will be removed from pandas in a future version. Use pandas.Index with the appropriate dtype instead.\n",
      "  from pandas import MultiIndex, Int64Index\n",
      "/home/markus/Documents/regression-prediction/venv/lib/python3.8/site-packages/xgboost/compat.py:36: FutureWarning: pandas.Int64Index is deprecated and will be removed from pandas in a future version. Use pandas.Index with the appropriate dtype instead.\n",
      "  from pandas import MultiIndex, Int64Index\n",
      "/home/markus/Documents/regression-prediction/venv/lib/python3.8/site-packages/xgboost/compat.py:36: FutureWarning: pandas.Int64Index is deprecated and will be removed from pandas in a future version. Use pandas.Index with the appropriate dtype instead.\n",
      "  from pandas import MultiIndex, Int64Index\n",
      "/home/markus/Documents/regression-prediction/venv/lib/python3.8/site-packages/xgboost/compat.py:36: FutureWarning: pandas.Int64Index is deprecated and will be removed from pandas in a future version. Use pandas.Index with the appropriate dtype instead.\n",
      "  from pandas import MultiIndex, Int64Index\n"
     ]
    },
    {
     "name": "stdout",
     "output_type": "stream",
     "text": [
      "threshold_train=0.2735196 f1_train=0.48878941688981253, threshold_test=0.25434327, f1_test=0.4157754010695187\n",
      "mlp\n",
      "[Errno 2] No such file or directory: 'experiments/results_FS/bugbug_buglevel_bow_regression_average_precision_mlp.csv'\n",
      "tpot\n",
      "[Errno 2] No such file or directory: 'experiments/results_FS/bugbug_buglevel_bow_regression_average_precision_tpot_exported_pipeline.py'\n"
     ]
    }
   ],
   "source": [
    "evaluations_by_config = {}\n",
    "for (data, target) in [('fixed_defect_szz', 'performance'), ('bugbug_buglevel', 'performance'), ('bugbug_buglevel', 'regression')]:\n",
    "    for feature_type in ['traditional', 'bow']:\n",
    "        print('\\n\\n', '--> ', data, target, feature_type, '\\n\\n')\n",
    "        scoring = 'average_precision'\n",
    "\n",
    "        X, y, features = data_map[feature_type][data](target, drop_columns)\n",
    "        X_train, X_test, y_train, y_test = train_test_split(X, y, test_size=0.1, shuffle=False)\n",
    "\n",
    "        evaluations = evaluate_pipelines(output_dir, target, data, feature_type, scoring, X_train, y_train, X_test, y_test)\n",
    "        evaluations_by_config[f'{data}_{target}_{feature_type}'] = evaluations"
   ]
  },
  {
   "cell_type": "code",
   "execution_count": 9,
   "metadata": {},
   "outputs": [],
   "source": [
    "import pickle\n",
    "with open(os.path.join(output_dir, 'evaluations.pickle'), 'wb') as f:\n",
    "    pickle.dump(evaluations_by_config, f)"
   ]
  },
  {
   "cell_type": "code",
   "execution_count": null,
   "metadata": {},
   "outputs": [],
   "source": [
    "import pickle\n",
    "with  open(os.path.join(output_dir, 'evaluations.pickle'), 'rb') as f:\n",
    "    evaluations_by_config = pickle.load(f)"
   ]
  },
  {
   "cell_type": "code",
   "execution_count": 10,
   "metadata": {},
   "outputs": [
    {
     "data": {
      "text/plain": [
       "['fixed_defect_szz_performance_traditional',\n",
       " 'fixed_defect_szz_performance_bow',\n",
       " 'bugbug_buglevel_performance_traditional',\n",
       " 'bugbug_buglevel_performance_bow',\n",
       " 'bugbug_buglevel_regression_traditional',\n",
       " 'bugbug_buglevel_regression_bow']"
      ]
     },
     "execution_count": 10,
     "metadata": {},
     "output_type": "execute_result"
    }
   ],
   "source": [
    "list(evaluations_by_config.keys())"
   ]
  },
  {
   "cell_type": "code",
   "execution_count": 56,
   "metadata": {},
   "outputs": [],
   "source": [
    "config = 'bugbug_buglevel_regression_traditional'\n",
    "evaluations = evaluations_by_config[config]"
   ]
  },
  {
   "cell_type": "code",
   "execution_count": 57,
   "metadata": {},
   "outputs": [
    {
     "data": {
      "text/plain": [
       "('bugbug_buglevel', 'regression', 'traditional')"
      ]
     },
     "execution_count": 57,
     "metadata": {},
     "output_type": "execute_result"
    }
   ],
   "source": [
    "ws = config.split('_')\n",
    "feature_type = ws.pop()\n",
    "target = ws.pop()\n",
    "data = '_'.join(ws)\n",
    "data, target, feature_type"
   ]
  },
  {
   "cell_type": "code",
   "execution_count": 58,
   "metadata": {},
   "outputs": [],
   "source": [
    "pd.set_option('display.float_format', lambda x: '%.4f' % x)"
   ]
  },
  {
   "cell_type": "code",
   "execution_count": 59,
   "metadata": {},
   "outputs": [
    {
     "data": {
      "text/html": [
       "<div>\n",
       "<style scoped>\n",
       "    .dataframe tbody tr th:only-of-type {\n",
       "        vertical-align: middle;\n",
       "    }\n",
       "\n",
       "    .dataframe tbody tr th {\n",
       "        vertical-align: top;\n",
       "    }\n",
       "\n",
       "    .dataframe thead tr th {\n",
       "        text-align: left;\n",
       "    }\n",
       "</style>\n",
       "<table border=\"1\" class=\"dataframe\">\n",
       "  <thead>\n",
       "    <tr>\n",
       "      <th></th>\n",
       "      <th colspan=\"2\" halign=\"left\">train</th>\n",
       "      <th colspan=\"2\" halign=\"left\">validation</th>\n",
       "      <th colspan=\"2\" halign=\"left\">test</th>\n",
       "    </tr>\n",
       "    <tr>\n",
       "      <th></th>\n",
       "      <th>Avg. Precision</th>\n",
       "      <th>AUC</th>\n",
       "      <th>Avg. Precision</th>\n",
       "      <th>AUC</th>\n",
       "      <th>Avg. Precision</th>\n",
       "      <th>AUC</th>\n",
       "    </tr>\n",
       "  </thead>\n",
       "  <tbody>\n",
       "    <tr>\n",
       "      <th>Dummy Classifier</th>\n",
       "      <td>0.2105</td>\n",
       "      <td>0.5000</td>\n",
       "      <td>0.2167</td>\n",
       "      <td>0.5000</td>\n",
       "      <td>0.2087</td>\n",
       "      <td>0.5000</td>\n",
       "    </tr>\n",
       "    <tr>\n",
       "      <th>Logistic Regression</th>\n",
       "      <td>0.3585</td>\n",
       "      <td>0.6697</td>\n",
       "      <td>0.3551</td>\n",
       "      <td>0.6619</td>\n",
       "      <td>0.3565</td>\n",
       "      <td>0.6572</td>\n",
       "    </tr>\n",
       "    <tr>\n",
       "      <th>Support Vector Machine</th>\n",
       "      <td>0.4034</td>\n",
       "      <td>0.6996</td>\n",
       "      <td>0.3820</td>\n",
       "      <td>0.6806</td>\n",
       "      <td>0.3508</td>\n",
       "      <td>0.6581</td>\n",
       "    </tr>\n",
       "    <tr>\n",
       "      <th>Random Forest</th>\n",
       "      <td>0.8823</td>\n",
       "      <td>0.9367</td>\n",
       "      <td>0.4187</td>\n",
       "      <td>0.6979</td>\n",
       "      <td>0.4173</td>\n",
       "      <td>0.7004</td>\n",
       "    </tr>\n",
       "    <tr>\n",
       "      <th>XGBoost</th>\n",
       "      <td>0.5276</td>\n",
       "      <td>0.7669</td>\n",
       "      <td>0.4144</td>\n",
       "      <td>0.6996</td>\n",
       "      <td>0.4143</td>\n",
       "      <td>0.6985</td>\n",
       "    </tr>\n",
       "    <tr>\n",
       "      <th>Multi-Layer Perceptron</th>\n",
       "      <td>0.4129</td>\n",
       "      <td>0.7038</td>\n",
       "      <td>0.3923</td>\n",
       "      <td>0.6887</td>\n",
       "      <td>0.3764</td>\n",
       "      <td>0.6773</td>\n",
       "    </tr>\n",
       "    <tr>\n",
       "      <th>TPOT</th>\n",
       "      <td>0.5655</td>\n",
       "      <td>0.7891</td>\n",
       "      <td>0.4244</td>\n",
       "      <td>0.7043</td>\n",
       "      <td>0.4101</td>\n",
       "      <td>0.6943</td>\n",
       "    </tr>\n",
       "  </tbody>\n",
       "</table>\n",
       "</div>"
      ],
      "text/plain": [
       "                                train            validation         \\\n",
       "                       Avg. Precision    AUC Avg. Precision    AUC   \n",
       "Dummy Classifier               0.2105 0.5000         0.2167 0.5000   \n",
       "Logistic Regression            0.3585 0.6697         0.3551 0.6619   \n",
       "Support Vector Machine         0.4034 0.6996         0.3820 0.6806   \n",
       "Random Forest                  0.8823 0.9367         0.4187 0.6979   \n",
       "XGBoost                        0.5276 0.7669         0.4144 0.6996   \n",
       "Multi-Layer Perceptron         0.4129 0.7038         0.3923 0.6887   \n",
       "TPOT                           0.5655 0.7891         0.4244 0.7043   \n",
       "\n",
       "                                 test         \n",
       "                       Avg. Precision    AUC  \n",
       "Dummy Classifier               0.2087 0.5000  \n",
       "Logistic Regression            0.3565 0.6572  \n",
       "Support Vector Machine         0.3508 0.6581  \n",
       "Random Forest                  0.4173 0.7004  \n",
       "XGBoost                        0.4143 0.6985  \n",
       "Multi-Layer Perceptron         0.3764 0.6773  \n",
       "TPOT                           0.4101 0.6943  "
      ]
     },
     "execution_count": 59,
     "metadata": {},
     "output_type": "execute_result"
    }
   ],
   "source": [
    "overfit_stats = pd.concat(\n",
    "    [get_overfit_stat_df(evaluation) for evaluation in evaluations],\n",
    "     axis=0)\n",
    "overfit_stats"
   ]
  },
  {
   "cell_type": "code",
   "execution_count": 60,
   "metadata": {},
   "outputs": [],
   "source": [
    "for c in overfit_stats.columns: #[('test', 'Avg. Precision'), ('test', 'AUC')]:\n",
    "    amax = overfit_stats.loc[:, c].argmax()\n",
    "    overfit_stats.loc[overfit_stats.index[amax], c] = f'\\\\textbf{{{overfit_stats.iloc[amax][c]:.4f}}}'"
   ]
  },
  {
   "cell_type": "code",
   "execution_count": 61,
   "metadata": {},
   "outputs": [
    {
     "name": "stdout",
     "output_type": "stream",
     "text": [
      "\\begin{tabular}{lllllll}\n",
      "\\toprule\n",
      "{} & \\multicolumn{2}{l}{train} & \\multicolumn{2}{l}{validation} & \\multicolumn{2}{l}{test} \\\\\n",
      "{} &   Avg. Precision &              AUC &   Avg. Precision &              AUC &   Avg. Precision &              AUC \\\\\n",
      "\\midrule\n",
      "Dummy Classifier       &           0.2105 &           0.5000 &           0.2167 &           0.5000 &           0.2087 &           0.5000 \\\\\n",
      "Logistic Regression    &           0.3585 &           0.6697 &           0.3551 &           0.6619 &           0.3565 &           0.6572 \\\\\n",
      "Support Vector Machine &           0.4034 &           0.6996 &           0.3820 &           0.6806 &           0.3508 &           0.6581 \\\\\n",
      "Random Forest          &  \\textbf{0.8823} &  \\textbf{0.9367} &           0.4187 &           0.6979 &  \\textbf{0.4173} &  \\textbf{0.7004} \\\\\n",
      "XGBoost                &           0.5276 &           0.7669 &           0.4144 &           0.6996 &           0.4143 &           0.6985 \\\\\n",
      "Multi-Layer Perceptron &           0.4129 &           0.7038 &           0.3923 &           0.6887 &           0.3764 &           0.6773 \\\\\n",
      "TPOT                   &           0.5655 &           0.7891 &  \\textbf{0.4244} &  \\textbf{0.7043} &           0.4101 &           0.6943 \\\\\n",
      "\\bottomrule\n",
      "\\end{tabular}\n",
      "\n"
     ]
    },
    {
     "name": "stderr",
     "output_type": "stream",
     "text": [
      "/tmp/ipykernel_23098/1422480635.py:1: FutureWarning: In future versions `DataFrame.to_latex` is expected to utilise the base implementation of `Styler.to_latex` for formatting and rendering. The arguments signature may therefore change. It is recommended instead to use `DataFrame.style.to_latex` which also contains additional functionality.\n",
      "  print(overfit_stats.to_latex(escape=False))\n"
     ]
    }
   ],
   "source": [
    "print(overfit_stats.to_latex(escape=False))"
   ]
  },
  {
   "cell_type": "code",
   "execution_count": 62,
   "metadata": {},
   "outputs": [
    {
     "data": {
      "text/html": [
       "<div>\n",
       "<style scoped>\n",
       "    .dataframe tbody tr th:only-of-type {\n",
       "        vertical-align: middle;\n",
       "    }\n",
       "\n",
       "    .dataframe tbody tr th {\n",
       "        vertical-align: top;\n",
       "    }\n",
       "\n",
       "    .dataframe thead tr th {\n",
       "        text-align: left;\n",
       "    }\n",
       "</style>\n",
       "<table border=\"1\" class=\"dataframe\">\n",
       "  <thead>\n",
       "    <tr>\n",
       "      <th></th>\n",
       "      <th></th>\n",
       "      <th colspan=\"3\" halign=\"left\">train</th>\n",
       "      <th colspan=\"3\" halign=\"left\">test</th>\n",
       "      <th colspan=\"3\" halign=\"left\">test_pareto</th>\n",
       "    </tr>\n",
       "    <tr>\n",
       "      <th></th>\n",
       "      <th></th>\n",
       "      <th>recall</th>\n",
       "      <th>precision</th>\n",
       "      <th>F1</th>\n",
       "      <th>recall</th>\n",
       "      <th>precision</th>\n",
       "      <th>F1</th>\n",
       "      <th>recall</th>\n",
       "      <th>precision</th>\n",
       "      <th>F1</th>\n",
       "    </tr>\n",
       "  </thead>\n",
       "  <tbody>\n",
       "    <tr>\n",
       "      <th rowspan=\"2\" valign=\"top\">Dummy Classifier</th>\n",
       "      <th>regression</th>\n",
       "      <td>1.0000</td>\n",
       "      <td>0.2105</td>\n",
       "      <td>0.3478</td>\n",
       "      <td>1.0000</td>\n",
       "      <td>0.2087</td>\n",
       "      <td>0.3454</td>\n",
       "      <td>1.0000</td>\n",
       "      <td>0.2087</td>\n",
       "      <td>0.3454</td>\n",
       "    </tr>\n",
       "    <tr>\n",
       "      <th>non-regression</th>\n",
       "      <td>0.0000</td>\n",
       "      <td>0.0000</td>\n",
       "      <td>0.0000</td>\n",
       "      <td>0.0000</td>\n",
       "      <td>0.0000</td>\n",
       "      <td>0.0000</td>\n",
       "      <td>0.0000</td>\n",
       "      <td>0.0000</td>\n",
       "      <td>0.0000</td>\n",
       "    </tr>\n",
       "    <tr>\n",
       "      <th rowspan=\"2\" valign=\"top\">Logistic Regression</th>\n",
       "      <th>regression</th>\n",
       "      <td>0.5852</td>\n",
       "      <td>0.3277</td>\n",
       "      <td>0.4201</td>\n",
       "      <td>0.5515</td>\n",
       "      <td>0.3001</td>\n",
       "      <td>0.3887</td>\n",
       "      <td>0.4492</td>\n",
       "      <td>0.3517</td>\n",
       "      <td>0.3945</td>\n",
       "    </tr>\n",
       "    <tr>\n",
       "      <th>non-regression</th>\n",
       "      <td>0.6798</td>\n",
       "      <td>0.8601</td>\n",
       "      <td>0.7594</td>\n",
       "      <td>0.6607</td>\n",
       "      <td>0.8481</td>\n",
       "      <td>0.7427</td>\n",
       "      <td>0.7816</td>\n",
       "      <td>0.8432</td>\n",
       "      <td>0.8112</td>\n",
       "    </tr>\n",
       "    <tr>\n",
       "      <th rowspan=\"2\" valign=\"top\">Support Vector Machine</th>\n",
       "      <th>regression</th>\n",
       "      <td>0.5620</td>\n",
       "      <td>0.3636</td>\n",
       "      <td>0.4415</td>\n",
       "      <td>0.5071</td>\n",
       "      <td>0.3243</td>\n",
       "      <td>0.3956</td>\n",
       "      <td>0.6551</td>\n",
       "      <td>0.2916</td>\n",
       "      <td>0.4036</td>\n",
       "    </tr>\n",
       "    <tr>\n",
       "      <th>non-regression</th>\n",
       "      <td>0.7377</td>\n",
       "      <td>0.8633</td>\n",
       "      <td>0.7956</td>\n",
       "      <td>0.7213</td>\n",
       "      <td>0.8472</td>\n",
       "      <td>0.7792</td>\n",
       "      <td>0.5801</td>\n",
       "      <td>0.8644</td>\n",
       "      <td>0.6943</td>\n",
       "    </tr>\n",
       "    <tr>\n",
       "      <th rowspan=\"2\" valign=\"top\">Random Forest</th>\n",
       "      <th>regression</th>\n",
       "      <td>0.7458</td>\n",
       "      <td>0.8729</td>\n",
       "      <td>0.8044</td>\n",
       "      <td>0.4746</td>\n",
       "      <td>0.3943</td>\n",
       "      <td>0.4307</td>\n",
       "      <td>0.5402</td>\n",
       "      <td>0.3683</td>\n",
       "      <td>0.4380</td>\n",
       "    </tr>\n",
       "    <tr>\n",
       "      <th>non-regression</th>\n",
       "      <td>0.9710</td>\n",
       "      <td>0.9348</td>\n",
       "      <td>0.9525</td>\n",
       "      <td>0.8076</td>\n",
       "      <td>0.8535</td>\n",
       "      <td>0.8299</td>\n",
       "      <td>0.7555</td>\n",
       "      <td>0.8617</td>\n",
       "      <td>0.8051</td>\n",
       "    </tr>\n",
       "    <tr>\n",
       "      <th rowspan=\"2\" valign=\"top\">XGBoost</th>\n",
       "      <th>regression</th>\n",
       "      <td>0.5659</td>\n",
       "      <td>0.4592</td>\n",
       "      <td>0.5070</td>\n",
       "      <td>0.4986</td>\n",
       "      <td>0.3652</td>\n",
       "      <td>0.4216</td>\n",
       "      <td>0.6333</td>\n",
       "      <td>0.3234</td>\n",
       "      <td>0.4281</td>\n",
       "    </tr>\n",
       "    <tr>\n",
       "      <th>non-regression</th>\n",
       "      <td>0.8223</td>\n",
       "      <td>0.8766</td>\n",
       "      <td>0.8486</td>\n",
       "      <td>0.7713</td>\n",
       "      <td>0.8536</td>\n",
       "      <td>0.8104</td>\n",
       "      <td>0.6504</td>\n",
       "      <td>0.8705</td>\n",
       "      <td>0.7445</td>\n",
       "    </tr>\n",
       "    <tr>\n",
       "      <th rowspan=\"2\" valign=\"top\">Multi-Layer Perceptron</th>\n",
       "      <th>regression</th>\n",
       "      <td>0.5785</td>\n",
       "      <td>0.3594</td>\n",
       "      <td>0.4434</td>\n",
       "      <td>0.5635</td>\n",
       "      <td>0.3339</td>\n",
       "      <td>0.4193</td>\n",
       "      <td>0.5395</td>\n",
       "      <td>0.3476</td>\n",
       "      <td>0.4228</td>\n",
       "    </tr>\n",
       "    <tr>\n",
       "      <th>non-regression</th>\n",
       "      <td>0.7250</td>\n",
       "      <td>0.8658</td>\n",
       "      <td>0.7892</td>\n",
       "      <td>0.7034</td>\n",
       "      <td>0.8593</td>\n",
       "      <td>0.7736</td>\n",
       "      <td>0.7328</td>\n",
       "      <td>0.8578</td>\n",
       "      <td>0.7904</td>\n",
       "    </tr>\n",
       "    <tr>\n",
       "      <th rowspan=\"2\" valign=\"top\">TPOT</th>\n",
       "      <th>regression</th>\n",
       "      <td>0.6020</td>\n",
       "      <td>0.4745</td>\n",
       "      <td>0.5307</td>\n",
       "      <td>0.5099</td>\n",
       "      <td>0.3611</td>\n",
       "      <td>0.4228</td>\n",
       "      <td>0.5550</td>\n",
       "      <td>0.3493</td>\n",
       "      <td>0.4288</td>\n",
       "    </tr>\n",
       "    <tr>\n",
       "      <th>non-regression</th>\n",
       "      <td>0.8222</td>\n",
       "      <td>0.8857</td>\n",
       "      <td>0.8527</td>\n",
       "      <td>0.7620</td>\n",
       "      <td>0.8549</td>\n",
       "      <td>0.8058</td>\n",
       "      <td>0.7273</td>\n",
       "      <td>0.8610</td>\n",
       "      <td>0.7885</td>\n",
       "    </tr>\n",
       "  </tbody>\n",
       "</table>\n",
       "</div>"
      ],
      "text/plain": [
       "                                       train                    test  \\\n",
       "                                      recall precision     F1 recall   \n",
       "Dummy Classifier       regression     1.0000    0.2105 0.3478 1.0000   \n",
       "                       non-regression 0.0000    0.0000 0.0000 0.0000   \n",
       "Logistic Regression    regression     0.5852    0.3277 0.4201 0.5515   \n",
       "                       non-regression 0.6798    0.8601 0.7594 0.6607   \n",
       "Support Vector Machine regression     0.5620    0.3636 0.4415 0.5071   \n",
       "                       non-regression 0.7377    0.8633 0.7956 0.7213   \n",
       "Random Forest          regression     0.7458    0.8729 0.8044 0.4746   \n",
       "                       non-regression 0.9710    0.9348 0.9525 0.8076   \n",
       "XGBoost                regression     0.5659    0.4592 0.5070 0.4986   \n",
       "                       non-regression 0.8223    0.8766 0.8486 0.7713   \n",
       "Multi-Layer Perceptron regression     0.5785    0.3594 0.4434 0.5635   \n",
       "                       non-regression 0.7250    0.8658 0.7892 0.7034   \n",
       "TPOT                   regression     0.6020    0.4745 0.5307 0.5099   \n",
       "                       non-regression 0.8222    0.8857 0.8527 0.7620   \n",
       "\n",
       "                                                       test_pareto            \\\n",
       "                                      precision     F1      recall precision   \n",
       "Dummy Classifier       regression        0.2087 0.3454      1.0000    0.2087   \n",
       "                       non-regression    0.0000 0.0000      0.0000    0.0000   \n",
       "Logistic Regression    regression        0.3001 0.3887      0.4492    0.3517   \n",
       "                       non-regression    0.8481 0.7427      0.7816    0.8432   \n",
       "Support Vector Machine regression        0.3243 0.3956      0.6551    0.2916   \n",
       "                       non-regression    0.8472 0.7792      0.5801    0.8644   \n",
       "Random Forest          regression        0.3943 0.4307      0.5402    0.3683   \n",
       "                       non-regression    0.8535 0.8299      0.7555    0.8617   \n",
       "XGBoost                regression        0.3652 0.4216      0.6333    0.3234   \n",
       "                       non-regression    0.8536 0.8104      0.6504    0.8705   \n",
       "Multi-Layer Perceptron regression        0.3339 0.4193      0.5395    0.3476   \n",
       "                       non-regression    0.8593 0.7736      0.7328    0.8578   \n",
       "TPOT                   regression        0.3611 0.4228      0.5550    0.3493   \n",
       "                       non-regression    0.8549 0.8058      0.7273    0.8610   \n",
       "\n",
       "                                              \n",
       "                                          F1  \n",
       "Dummy Classifier       regression     0.3454  \n",
       "                       non-regression 0.0000  \n",
       "Logistic Regression    regression     0.3945  \n",
       "                       non-regression 0.8112  \n",
       "Support Vector Machine regression     0.4036  \n",
       "                       non-regression 0.6943  \n",
       "Random Forest          regression     0.4380  \n",
       "                       non-regression 0.8051  \n",
       "XGBoost                regression     0.4281  \n",
       "                       non-regression 0.7445  \n",
       "Multi-Layer Perceptron regression     0.4228  \n",
       "                       non-regression 0.7904  \n",
       "TPOT                   regression     0.4288  \n",
       "                       non-regression 0.7885  "
      ]
     },
     "execution_count": 62,
     "metadata": {},
     "output_type": "execute_result"
    }
   ],
   "source": [
    "classification_reports = pd.concat(\n",
    "    [get_classification_report_df(evaluation) for evaluation in evaluations],\n",
    "     axis=0)\n",
    "classification_reports"
   ]
  },
  {
   "cell_type": "code",
   "execution_count": 63,
   "metadata": {},
   "outputs": [],
   "source": [
    "for c in [('train', 'F1'), ('test', 'F1'), ('test_pareto', 'F1')]:\n",
    "    reg = classification_reports.loc[pd.IndexSlice[:,'regression', :]]\n",
    "    amax = reg[c].argmax()\n",
    "    v = classification_reports.loc[(reg.index[amax], 'regression'), c]\n",
    "    classification_reports.loc[(reg.index[amax], 'regression'), c] = f'\\\\textbf{{{v:.4f}}}'"
   ]
  },
  {
   "cell_type": "code",
   "execution_count": 64,
   "metadata": {},
   "outputs": [
    {
     "name": "stdout",
     "output_type": "stream",
     "text": [
      "\\begin{tabular}{llrrlrrlrrl}\n",
      "\\toprule\n",
      "     &                & \\multicolumn{3}{l}{train} & \\multicolumn{3}{l}{test} & \\multicolumn{3}{l}{test_pareto} \\\\\n",
      "     &                & recall & precision &               F1 & recall & precision &               F1 &      recall & precision &               F1 \\\\\n",
      "\\midrule\n",
      "\\multirow{2}{2.7cm}{Dummy\\\\Classifier} & regression & 1.0000 &    0.2105 &           0.3478 & 1.0000 &    0.2087 &           0.3454 &      1.0000 &    0.2087 &           0.3454 \\\\\n",
      "     & non-regression & 0.0000 &    0.0000 &           0.0000 & 0.0000 &    0.0000 &           0.0000 &      0.0000 &    0.0000 &           0.0000 \\\\\\hline\\hline\n",
      "\\multirow{2}{2.7cm}{Logistic\\\\Regression} & regression & 0.5852 &    0.3277 &           0.4201 & 0.5515 &    0.3001 &           0.3887 &      0.4492 &    0.3517 &           0.3945 \\\\\n",
      "     & non-regression & 0.6798 &    0.8601 &           0.7594 & 0.6607 &    0.8481 &           0.7427 &      0.7816 &    0.8432 &           0.8112 \\\\\\hline\\hline\n",
      "\\multirow{2}{2.7cm}{Support Vector\\\\Machine} & regression & 0.5620 &    0.3636 &           0.4415 & 0.5071 &    0.3243 &           0.3956 &      0.6551 &    0.2916 &           0.4036 \\\\\n",
      "     & non-regression & 0.7377 &    0.8633 &           0.7956 & 0.7213 &    0.8472 &           0.7792 &      0.5801 &    0.8644 &           0.6943 \\\\\\hline\\hline\n",
      "Random Forest & regression & 0.7458 &    0.8729 &  \\textbf{0.8044} & 0.4746 &    0.3943 &  \\textbf{0.4307} &      0.5402 &    0.3683 &  \\textbf{0.4380} \\\\\n",
      "     & non-regression & 0.9710 &    0.9348 &           0.9525 & 0.8076 &    0.8535 &           0.8299 &      0.7555 &    0.8617 &           0.8051 \\\\\\hline\\hline\n",
      "XGBoost& regression & 0.5659 &    0.4592 &           0.5070 & 0.4986 &    0.3652 &           0.4216 &      0.6333 &    0.3234 &           0.4281 \\\\\n",
      "     & non-regression & 0.8223 &    0.8766 &           0.8486 & 0.7713 &    0.8536 &           0.8104 &      0.6504 &    0.8705 &           0.7445 \\\\\\hline\\hline\n",
      "\\multirow{2}{2.7cm}{Multi-Layer\\\\Perceptron} & regression & 0.5785 &    0.3594 &           0.4434 & 0.5635 &    0.3339 &           0.4193 &      0.5395 &    0.3476 &           0.4228 \\\\\n",
      "     & non-regression & 0.7250 &    0.8658 &           0.7892 & 0.7034 &    0.8593 &           0.7736 &      0.7328 &    0.8578 &           0.7904 \\\\\\hline\\hline\n",
      "TPOT& regression & 0.6020 &    0.4745 &           0.5307 & 0.5099 &    0.3611 &           0.4228 &      0.5550 &    0.3493 &           0.4288 \\\\\n",
      "     & non-regression & 0.8222 &    0.8857 &           0.8527 & 0.7620 &    0.8549 &           0.8058 &      0.7273 &    0.8610 &           0.7885 \\\\\n",
      "\\bottomrule\n",
      "\\end{tabular}\n",
      "\n"
     ]
    },
    {
     "name": "stderr",
     "output_type": "stream",
     "text": [
      "/tmp/ipykernel_23098/4178184239.py:1: FutureWarning: In future versions `DataFrame.to_latex` is expected to utilise the base implementation of `Styler.to_latex` for formatting and rendering. The arguments signature may therefore change. It is recommended instead to use `DataFrame.style.to_latex` which also contains additional functionality.\n",
      "  s = classification_reports.to_latex(escape=False)\n"
     ]
    }
   ],
   "source": [
    "s = classification_reports.to_latex(escape=False)\n",
    "s = s.replace('Dummy Classifier', '\\\\multirow{2}{2.7cm}{Dummy\\\\\\\\Classifier}')\n",
    "s = s.replace('\\nLogistic Regression', '\\\\hline\\\\hline\\n\\\\multirow{2}{2.7cm}{Logistic\\\\\\\\Regression}')\n",
    "s = s.replace('\\nSupport Vector Machine', '\\\\hline\\\\hline\\n\\\\multirow{2}{2.7cm}{Support Vector\\\\\\\\Machine}')\n",
    "s = s.replace('\\nMulti-Layer Perceptron', '\\\\hline\\\\hline\\n\\\\multirow{2}{2.7cm}{Multi-Layer\\\\\\\\Perceptron}')\n",
    "s = s.replace('\\nRandom Forest', '\\\\hline\\\\hline\\nRandom Forest')\n",
    "s = s.replace('\\nXGBoost ', '\\\\hline\\\\hline\\nXGBoost')\n",
    "s = s.replace('\\nTPOT ', '\\\\hline\\\\hline\\nTPOT')\n",
    "print(s)"
   ]
  },
  {
   "cell_type": "code",
   "execution_count": 65,
   "metadata": {},
   "outputs": [
    {
     "name": "stdout",
     "output_type": "stream",
     "text": [
      "regression: 14287 positive 21.03% - negative 53634 78.97%\n",
      "X.shape=(67921, 56)\n",
      "\n"
     ]
    }
   ],
   "source": [
    "X, y, features = data_map[feature_type][data](target, drop_columns)\n",
    "X_train, X_test, y_train, y_test = train_test_split(X, y, test_size=0.1, shuffle=False)"
   ]
  },
  {
   "cell_type": "code",
   "execution_count": 66,
   "metadata": {},
   "outputs": [],
   "source": [
    "fitted_pipelines = [(model_names[evaluation['model']], evaluation['fitted_pipeline']) for evaluation in evaluations[1:]] # exclude dummy"
   ]
  },
  {
   "cell_type": "code",
   "execution_count": 67,
   "metadata": {},
   "outputs": [
    {
     "name": "stderr",
     "output_type": "stream",
     "text": [
      "/home/markus/Documents/regression-prediction/experiments/modeleval_utils.py:159: RuntimeWarning: invalid value encountered in true_divide\n",
      "  F1 = 2 * R * P / (R + P)\n"
     ]
    },
    {
     "data": {
      "image/png": "[encoded data removed]",
      "text/plain": [
       "<Figure size 432x288 with 1 Axes>"
      ]
     },
     "metadata": {
      "needs_background": "light"
     },
     "output_type": "display_data"
    },
    {
     "data": {
      "image/png": "[encoded data removed]",
      "text/plain": [
       "<Figure size 432x288 with 1 Axes>"
      ]
     },
     "metadata": {
      "needs_background": "light"
     },
     "output_type": "display_data"
    },
    {
     "data": {
      "text/plain": [
       "(<Figure size 432x288 with 1 Axes>,\n",
       " <AxesSubplot:title={'center':'ROC Curve'}, xlabel='False Positive Rate', ylabel='True Positive Rate'>,\n",
       " <Figure size 432x288 with 1 Axes>,\n",
       " <AxesSubplot:title={'center':'Recall-Precision Curve'}, xlabel='Recall', ylabel='Precision'>)"
      ]
     },
     "execution_count": 67,
     "metadata": {},
     "output_type": "execute_result"
    }
   ],
   "source": [
    "plot_roc_auc_rec_prec_for_all_models(target, data, feature_type, scoring,\n",
    "    fitted_pipelines, X_train, X_test, y_train, y_test, save=True, figsize=(6,4), ylim=[0, 0.3 if data == 'fixed_defect_szz' else 1.0], output_dir=output_dir)"
   ]
  },
  {
   "cell_type": "code",
   "execution_count": null,
   "metadata": {},
   "outputs": [],
   "source": []
  },
  {
   "cell_type": "markdown",
   "metadata": {},
   "source": [
    "### Hyper Parameters"
   ]
  },
  {
   "cell_type": "code",
   "execution_count": 71,
   "metadata": {},
   "outputs": [],
   "source": [
    "scoring = 'average_precision'\n",
    "best_params_per_model = {}\n",
    "\n",
    "for model in models:\n",
    "    best_params_model = []\n",
    "    for (data, target) in [('fixed_defect_szz', 'performance'), ('bugbug_buglevel', 'performance'), ('bugbug_buglevel', 'regression')]:\n",
    "        for feature_type in ['traditional', 'bow']:\n",
    "                try:\n",
    "                    results = get_results(output_dir, data, feature_type, target, scoring, model)\n",
    "                    params = get_params(results)\n",
    "                    best_params = get_best_params(model, params)\n",
    "                    del best_params['model']\n",
    "                    best_params['sampler'] = str(best_params['sampler'])\n",
    "\n",
    "                    index = {  \n",
    "                        'Model': model_names[model],\n",
    "                        'Data': data, \n",
    "                        'Feature Type': feature_type,\n",
    "                        'Target': target\n",
    "                        }\n",
    "                    best_params_model.append({**index, **best_params})\n",
    "                except FileNotFoundError:\n",
    "                    pass\n",
    "    if len(best_params_model) == 0:\n",
    "        continue\n",
    "\n",
    "    df = pd.DataFrame(best_params_model)\n",
    "    df = df.replace({\n",
    "                    'None': 'No sampling',\n",
    "                    'RandomOverSampler(random_state=0)': 'Random Over-Sampling',\n",
    "                    'RandomUnderSampler(random_state=0)': 'Random Under-Sampling',\n",
    "                    'SMOTE(random_state=0)': 'SMOTE'\n",
    "                    })\n",
    "\n",
    "    df = df.replace({\n",
    "        'fixed_defect_szz': 'SZZ',\n",
    "        'bugbug_buglevel': 'bugbug'\n",
    "    })\n",
    "    df = df.replace({\n",
    "        'performance': 'perf. regressions',\n",
    "        'regression': 'all regressions',\n",
    "        'bow': 'bag-of-words'\n",
    "    })\n",
    "    df.set_index(pd.MultiIndex.from_frame(df[['Data','Target', 'Feature Type',]]), inplace=True)\n",
    "    df = df.drop(['Model','Data','Feature Type','Target'], axis=1)\n",
    "    def rename_f(c):\n",
    "        if 'model' in c:\n",
    "            c = c[7:]\n",
    "        if 'kernel' in c:\n",
    "            c = c[8:]\n",
    "        return c.capitalize()\n",
    "\n",
    "    df = df.rename(rename_f, axis=1)\n",
    "    best_params_per_model[model] = df\n",
    "                "
   ]
  },
  {
   "cell_type": "code",
   "execution_count": 76,
   "metadata": {},
   "outputs": [
    {
     "name": "stdout",
     "output_type": "stream",
     "text": [
      "\\begin{tabular}{llllrrrl}\n",
      "\\toprule\n",
      "       &                 &             & Activation &  Alpha &  Hidden\\_layer\\_sizes &  Learning\\_rate\\_init &               Sampler \\\\\n",
      "Data & Target & Feature Type &            &        &                     &                     &                       \\\\\n",
      "\\midrule\n",
      "SZZ & perf. regressions & traditional &       tanh & 0.0003 &                  50 &              0.0001 &                 SMOTE \\\\\n",
      "bugbug & perf. regressions & traditional &       relu & 0.0001 &                 200 &              0.0001 &  Random Over-Sampling \\\\\n",
      "       & all regressions & traditional &       relu & 0.0001 &                  10 &              0.0015 &           No sampling \\\\\n",
      "\\bottomrule\n",
      "\\end{tabular}\n",
      "\n"
     ]
    },
    {
     "name": "stderr",
     "output_type": "stream",
     "text": [
      "/tmp/ipykernel_23098/2920990339.py:1: FutureWarning: In future versions `DataFrame.to_latex` is expected to utilise the base implementation of `Styler.to_latex` for formatting and rendering. The arguments signature may therefore change. It is recommended instead to use `DataFrame.style.to_latex` which also contains additional functionality.\n",
      "  print(best_params_per_model['mlp'].to_latex())\n"
     ]
    }
   ],
   "source": [
    "print(best_params_per_model['mlp'].to_latex())"
   ]
  },
  {
   "cell_type": "code",
   "execution_count": null,
   "metadata": {},
   "outputs": [],
   "source": []
  },
  {
   "cell_type": "code",
   "execution_count": null,
   "metadata": {},
   "outputs": [],
   "source": [
    "scoring = 'average_precision'\n",
    "feature_type = 'traditional'\n",
    "target = 'performance'\n",
    "data = 'fixed_defect_szz'"
   ]
  },
  {
   "cell_type": "code",
   "execution_count": null,
   "metadata": {},
   "outputs": [],
   "source": [
    "X, y, features = get_ml_data_traditional('fixed_defect_szz', target, kind='commitlevel', drop_columns=lambda columns: [c for c in columns if 'delta_' in c or 'min_' in c or 'max_' in c or 'sum_' in c])\n",
    "X_train, X_test, y_train, y_test = train_test_split(X, y, test_size=0.1, shuffle=False)"
   ]
  },
  {
   "cell_type": "code",
   "execution_count": null,
   "metadata": {},
   "outputs": [],
   "source": [
    "features.columns"
   ]
  },
  {
   "cell_type": "code",
   "execution_count": null,
   "metadata": {},
   "outputs": [],
   "source": [
    "evaluation = evaluate_pipeline('lr', target, data, feature_type, scoring, X_train, y_train, X_test, y_test)"
   ]
  },
  {
   "cell_type": "code",
   "execution_count": null,
   "metadata": {},
   "outputs": [],
   "source": [
    "get_classification_report_df(evaluation)"
   ]
  },
  {
   "cell_type": "code",
   "execution_count": null,
   "metadata": {},
   "outputs": [],
   "source": [
    "pipeline = evaluation['fitted_pipeline']"
   ]
  },
  {
   "cell_type": "code",
   "execution_count": null,
   "metadata": {},
   "outputs": [],
   "source": [
    "plot_roc_auc_rec_prec_for_all_models(target, data, feature_type, scoring,\n",
    "    [('lr', pipeline)], X_train, X_test, y_train, y_test, save=True, figsize=(6,4), ylim=[0, 0.3 if data == 'fixed_defect_szz' else 1.0])"
   ]
  },
  {
   "cell_type": "code",
   "execution_count": null,
   "metadata": {},
   "outputs": [],
   "source": [
    "import shap\n",
    "from feature_name_map import feature_name_map\n",
    "f = features\n",
    "\n",
    "kind = 'traditional'\n",
    "clf = pipeline['model']\n",
    "if 'traditional' in kind:\n",
    "    X_ = pipeline['scaler'].transform(X_test)\n",
    "    f = f.drop('target', axis=1)\n",
    "    feature_names = [feature_name_map[c] for c in f.columns]\n",
    "else:\n",
    "    X_ = X_test.toarray()\n",
    "    feature_names = f\n",
    "\n",
    "explainer = shap.Explainer(clf, X_, feature_names=feature_names)\n",
    "print(explainer)\n",
    "shap_values = explainer.shap_values(X_)\n",
    "\n",
    "shap.summary_plot(shap_values, X_, max_display=15, feature_names=feature_names, show=False)\n",
    "plt.tight_layout()\n",
    "plt.show()"
   ]
  },
  {
   "cell_type": "code",
   "execution_count": null,
   "metadata": {},
   "outputs": [],
   "source": []
  }
 ],
 "metadata": {
  "interpreter": {
   "hash": "4696bc64be58b0e5e207e22dca014ef47cd404c337c3ddfbdfdc381921ec8122"
  },
  "kernelspec": {
   "display_name": "Python 3.8.10 ('venv': venv)",
   "language": "python",
   "name": "python3"
  },
  "language_info": {
   "codemirror_mode": {
    "name": "ipython",
    "version": 3
   },
   "file_extension": ".py",
   "mimetype": "text/x-python",
   "name": "python",
   "nbconvert_exporter": "python",
   "pygments_lexer": "ipython3",
   "version": "3.8.10"
  },
  "orig_nbformat": 4
 },
 "nbformat": 4,
 "nbformat_minor": 2
}
