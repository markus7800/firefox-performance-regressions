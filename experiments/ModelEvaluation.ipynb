{
 "cells": [
  {
   "cell_type": "code",
   "execution_count": 1,
   "metadata": {},
   "outputs": [],
   "source": [
    "%load_ext autoreload\n",
    "%autoreload 2"
   ]
  },
  {
   "cell_type": "code",
   "execution_count": 2,
   "metadata": {},
   "outputs": [
    {
     "name": "stdout",
     "output_type": "stream",
     "text": [
      "/home/markus/Documents/regression-prediction\n"
     ]
    },
    {
     "data": {
      "text/plain": [
       "'/home/markus/Documents/regression-prediction'"
      ]
     },
     "execution_count": 2,
     "metadata": {},
     "output_type": "execute_result"
    }
   ],
   "source": [
    "%cd ..\n",
    "%pwd"
   ]
  },
  {
   "cell_type": "code",
   "execution_count": 3,
   "metadata": {},
   "outputs": [
    {
     "name": "stderr",
     "output_type": "stream",
     "text": [
      "/home/markus/Documents/regression-prediction/venv/lib/python3.8/site-packages/xgboost/compat.py:36: FutureWarning: pandas.Int64Index is deprecated and will be removed from pandas in a future version. Use pandas.Index with the appropriate dtype instead.\n",
      "  from pandas import MultiIndex, Int64Index\n"
     ]
    }
   ],
   "source": [
    "from experiments.modeleval_utils import *\n",
    "from sklearn.model_selection import cross_validate"
   ]
  },
  {
   "cell_type": "code",
   "execution_count": 4,
   "metadata": {},
   "outputs": [],
   "source": [
    "def evaluate_pipeline(model, target, data, feature_type, scoring, X_train, y_train, X_test, y_test):\n",
    "    evaluation = {'model': model}\n",
    "\n",
    "    pipeline, best_params, best_result = get_pipeline(data, feature_type, target, scoring, model)\n",
    "\n",
    "    y_test_proportion = len(y_test) / (len(y_train) + len(y_test))\n",
    "    tscv = TimeSeriesSplit(n_splits=5, test_size=round(len(y_train) * y_test_proportion))\n",
    "    res = cross_validate(pipeline, X_train, y_train, scoring=['average_precision', 'roc_auc'], cv=tscv, n_jobs=5)\n",
    "    evaluation['validation'] = res\n",
    "    \n",
    "    pipeline.fit(X_train, y_train)\n",
    "    evaluation['fitted_pipeline'] = pipeline\n",
    "    evaluation['best_params'] = best_params\n",
    "    evaluation['best_result'] = best_result\n",
    "\n",
    "    threshold_train, f1_train = get_best_f1_threshold(pipeline, X_train, y_train)\n",
    "    threshold_test, f1_test = get_best_f1_threshold(pipeline, X_test, y_test)\n",
    "    print(f'{threshold_train=} {f1_train=}, {threshold_test=}, {f1_test=}')\n",
    "\n",
    "    for (split, X_, y_, threshold) in [\n",
    "        ('train', X_train, y_train, threshold_train),\n",
    "        ('test', X_test, y_test, threshold_train),\n",
    "        ('test_pareto', X_test, y_test, threshold_test)\n",
    "        ]:\n",
    "\n",
    "        y_score = get_y_score(pipeline, X_)\n",
    "        y_pred = y_score >= threshold\n",
    "\n",
    "        evaluation[split] = {\n",
    "            'average_precision': metrics.average_precision_score(y_, y_score),\n",
    "            'roc_auc': metrics.roc_auc_score(y_, y_score),\n",
    "\n",
    "            'threshold': threshold,\n",
    "            \n",
    "            'regression': {\n",
    "                'recall': metrics.recall_score(y_, y_pred, pos_label=1),\n",
    "                'precision': metrics.precision_score(y_, y_pred, pos_label=1, zero_division=0),\n",
    "                'f1': metrics.f1_score(y_, y_pred, pos_label=1)\n",
    "            },\n",
    "            'non-regression': {\n",
    "                'recall': metrics.recall_score(y_, y_pred, pos_label=0),\n",
    "                'precision': metrics.precision_score(y_, y_pred, pos_label=0, zero_division=0),\n",
    "                'f1': metrics.f1_score(y_, y_pred, pos_label=0)\n",
    "            },\n",
    "            'avg_weighted': {\n",
    "                'recall': metrics.recall_score(y_, y_pred, average='weighted'),\n",
    "                'precision': metrics.precision_score(y_, y_pred, average='weighted', zero_division=0),\n",
    "                'f1': metrics.f1_score(y_, y_pred, average='weighted')\n",
    "            },\n",
    "            'avg_macro': {\n",
    "                'recall': metrics.recall_score(y_, y_pred, average='macro'),\n",
    "                'precision': metrics.precision_score(y_, y_pred, average='macro', zero_division=0),\n",
    "                'f1': metrics.f1_score(y_, y_pred, average='macro')\n",
    "            }\n",
    "        }\n",
    "\n",
    "    \n",
    "    return evaluation\n",
    "\n",
    "def evaluate_pipelines(target, data, feature_type, scoring, X_train, y_train, X_test, y_test):\n",
    "    evaluations = []\n",
    "    for model in models:\n",
    "        print(model)\n",
    "        try:\n",
    "            evaluation = evaluate_pipeline(model, target, data, feature_type, scoring, X_train, y_train, X_test, y_test)\n",
    "            evaluations.append(evaluation)\n",
    "        except Exception as e:\n",
    "            print(e)\n",
    "\n",
    "    return evaluations\n"
   ]
  },
  {
   "cell_type": "code",
   "execution_count": 5,
   "metadata": {},
   "outputs": [],
   "source": [
    "def get_overfit_stat_df(evaluation):\n",
    "    columns = [\n",
    "        np.array(['train', 'train', 'validation', 'validation', 'test', 'test']),\n",
    "        np.array(['Avg. Precision', 'AUC', 'Avg. Precision', 'AUC', 'Avg. Precision', 'AUC']),\n",
    "    ]\n",
    "\n",
    "    df = pd.DataFrame([[\n",
    "        evaluation['train']['average_precision'],\n",
    "        evaluation['train']['roc_auc'],\n",
    "        evaluation['validation']['test_average_precision'].mean(),\n",
    "        evaluation['validation']['test_roc_auc'].mean(),\n",
    "        evaluation['test']['average_precision'],\n",
    "        evaluation['test']['roc_auc']\n",
    "        ]],\n",
    "        index=[model_names[evaluation['model']]],\n",
    "        columns=columns)\n",
    "    return df"
   ]
  },
  {
   "cell_type": "code",
   "execution_count": 6,
   "metadata": {},
   "outputs": [],
   "source": [
    "def get_classification_report_df(evaluation):\n",
    "    dfs = []\n",
    "    for split in ['train', 'test', 'test_pareto']:\n",
    "        df = pd.DataFrame(\n",
    "            [\n",
    "                evaluation[split]['regression'],\n",
    "                evaluation[split]['non-regression'],\n",
    "                evaluation[split]['avg_macro'],\n",
    "                evaluation[split]['avg_weighted']\n",
    "            ],\n",
    "            index=[\n",
    "                [model_names[evaluation['model']]]*4,\n",
    "                ['regression', 'non-regression', 'weighted average', 'micro average']\n",
    "                ]\n",
    "        )\n",
    "        df.columns = [\n",
    "            np.array([split]*3),\n",
    "            np.array(['recall', 'precision', 'F1'])\n",
    "        ]\n",
    "        dfs.append(df)\n",
    "\n",
    "    classification_reports = pd.concat(dfs, axis=1)\n",
    "\n",
    "    return classification_reports"
   ]
  },
  {
   "cell_type": "code",
   "execution_count": null,
   "metadata": {},
   "outputs": [],
   "source": [
    "evaluations_by_config = {}\n",
    "for (data, target) in [('fixed_defect_szz', 'performance'), ('bugbug_buglevel', 'performance'), ('bugbug_buglevel', 'regression')]:\n",
    "    for feature_type in ['traditional', 'bow']:\n",
    "        print('\\n\\n', '--> ', data, target, feature_type, '\\n\\n')\n",
    "        scoring = 'average_precision'\n",
    "\n",
    "        X, y, features = data_map[feature_type][data](target)\n",
    "        X_train, X_test, y_train, y_test = train_test_split(X, y, test_size=0.1, shuffle=False)\n",
    "\n",
    "        evaluations = evaluate_pipelines(target, data, feature_type, scoring, X_train, y_train, X_test, y_test)\n",
    "        evaluations_by_config[f'{data}_{target}_{feature_type}'] = evaluations"
   ]
  },
  {
   "cell_type": "code",
   "execution_count": null,
   "metadata": {},
   "outputs": [],
   "source": [
    "import pickle\n",
    "with open('experiments/results/evaluations.pickle', 'wb') as f:\n",
    "    pickle.dump(evaluations_by_config, f)"
   ]
  },
  {
   "cell_type": "code",
   "execution_count": 8,
   "metadata": {},
   "outputs": [
    {
     "name": "stderr",
     "output_type": "stream",
     "text": [
      "/home/markus/Documents/regression-prediction/venv/lib/python3.8/site-packages/tpot/builtins/__init__.py:36: UserWarning: Warning: optional dependency `torch` is not available. - skipping import of NN models.\n",
      "  warnings.warn(\"Warning: optional dependency `torch` is not available. - skipping import of NN models.\")\n"
     ]
    }
   ],
   "source": [
    "import pickle\n",
    "with  open('experiments/results/evaluations.pickle', 'rb') as f:\n",
    "    evaluations_by_config = pickle.load(f)"
   ]
  },
  {
   "cell_type": "code",
   "execution_count": 9,
   "metadata": {},
   "outputs": [
    {
     "data": {
      "text/plain": [
       "['fixed_defect_szz_performance_traditional',\n",
       " 'fixed_defect_szz_performance_bow',\n",
       " 'bugbug_buglevel_performance_traditional',\n",
       " 'bugbug_buglevel_performance_bow',\n",
       " 'bugbug_buglevel_regression_traditional',\n",
       " 'bugbug_buglevel_regression_bow']"
      ]
     },
     "execution_count": 9,
     "metadata": {},
     "output_type": "execute_result"
    }
   ],
   "source": [
    "list(evaluations_by_config.keys())"
   ]
  },
  {
   "cell_type": "code",
   "execution_count": 45,
   "metadata": {},
   "outputs": [],
   "source": [
    "config = 'bugbug_buglevel_performance_traditional'\n",
    "evaluations = evaluations_by_config[config]"
   ]
  },
  {
   "cell_type": "code",
   "execution_count": 46,
   "metadata": {},
   "outputs": [
    {
     "data": {
      "text/plain": [
       "('bugbug_buglevel', 'performance', 'traditional')"
      ]
     },
     "execution_count": 46,
     "metadata": {},
     "output_type": "execute_result"
    }
   ],
   "source": [
    "ws = config.split('_')\n",
    "feature_type = ws.pop()\n",
    "target = ws.pop()\n",
    "data = '_'.join(ws)\n",
    "data, target, feature_type"
   ]
  },
  {
   "cell_type": "code",
   "execution_count": 47,
   "metadata": {},
   "outputs": [],
   "source": [
    "pd.set_option('display.float_format', lambda x: '%.4f' % x)"
   ]
  },
  {
   "cell_type": "code",
   "execution_count": 48,
   "metadata": {},
   "outputs": [
    {
     "data": {
      "text/html": [
       "<div>\n",
       "<style scoped>\n",
       "    .dataframe tbody tr th:only-of-type {\n",
       "        vertical-align: middle;\n",
       "    }\n",
       "\n",
       "    .dataframe tbody tr th {\n",
       "        vertical-align: top;\n",
       "    }\n",
       "\n",
       "    .dataframe thead tr th {\n",
       "        text-align: left;\n",
       "    }\n",
       "</style>\n",
       "<table border=\"1\" class=\"dataframe\">\n",
       "  <thead>\n",
       "    <tr>\n",
       "      <th></th>\n",
       "      <th colspan=\"2\" halign=\"left\">train</th>\n",
       "      <th colspan=\"2\" halign=\"left\">validation</th>\n",
       "      <th colspan=\"2\" halign=\"left\">test</th>\n",
       "    </tr>\n",
       "    <tr>\n",
       "      <th></th>\n",
       "      <th>Avg. Precision</th>\n",
       "      <th>AUC</th>\n",
       "      <th>Avg. Precision</th>\n",
       "      <th>AUC</th>\n",
       "      <th>Avg. Precision</th>\n",
       "      <th>AUC</th>\n",
       "    </tr>\n",
       "  </thead>\n",
       "  <tbody>\n",
       "    <tr>\n",
       "      <th>Dummy Classifier</th>\n",
       "      <td>0.0268</td>\n",
       "      <td>0.5000</td>\n",
       "      <td>0.0297</td>\n",
       "      <td>0.5000</td>\n",
       "      <td>0.0355</td>\n",
       "      <td>0.5000</td>\n",
       "    </tr>\n",
       "    <tr>\n",
       "      <th>Logistic Regression</th>\n",
       "      <td>0.0751</td>\n",
       "      <td>0.6966</td>\n",
       "      <td>0.0767</td>\n",
       "      <td>0.6375</td>\n",
       "      <td>0.0929</td>\n",
       "      <td>0.7015</td>\n",
       "    </tr>\n",
       "    <tr>\n",
       "      <th>Support Vector Machine</th>\n",
       "      <td>0.0853</td>\n",
       "      <td>0.7116</td>\n",
       "      <td>0.0804</td>\n",
       "      <td>0.6419</td>\n",
       "      <td>0.0929</td>\n",
       "      <td>0.6992</td>\n",
       "    </tr>\n",
       "    <tr>\n",
       "      <th>Random Forest</th>\n",
       "      <td>0.1844</td>\n",
       "      <td>0.7981</td>\n",
       "      <td>0.1055</td>\n",
       "      <td>0.6804</td>\n",
       "      <td>0.0972</td>\n",
       "      <td>0.6814</td>\n",
       "    </tr>\n",
       "    <tr>\n",
       "      <th>XGBoost</th>\n",
       "      <td>0.6059</td>\n",
       "      <td>0.9208</td>\n",
       "      <td>0.1088</td>\n",
       "      <td>0.6842</td>\n",
       "      <td>0.0860</td>\n",
       "      <td>0.6481</td>\n",
       "    </tr>\n",
       "    <tr>\n",
       "      <th>Multi-Layer Perceptron</th>\n",
       "      <td>0.1224</td>\n",
       "      <td>0.7568</td>\n",
       "      <td>0.0870</td>\n",
       "      <td>0.6404</td>\n",
       "      <td>0.0830</td>\n",
       "      <td>0.6934</td>\n",
       "    </tr>\n",
       "    <tr>\n",
       "      <th>TPOT</th>\n",
       "      <td>0.9640</td>\n",
       "      <td>0.9985</td>\n",
       "      <td>0.1163</td>\n",
       "      <td>0.6881</td>\n",
       "      <td>0.1131</td>\n",
       "      <td>0.6875</td>\n",
       "    </tr>\n",
       "  </tbody>\n",
       "</table>\n",
       "</div>"
      ],
      "text/plain": [
       "                                train            validation         \\\n",
       "                       Avg. Precision    AUC Avg. Precision    AUC   \n",
       "Dummy Classifier               0.0268 0.5000         0.0297 0.5000   \n",
       "Logistic Regression            0.0751 0.6966         0.0767 0.6375   \n",
       "Support Vector Machine         0.0853 0.7116         0.0804 0.6419   \n",
       "Random Forest                  0.1844 0.7981         0.1055 0.6804   \n",
       "XGBoost                        0.6059 0.9208         0.1088 0.6842   \n",
       "Multi-Layer Perceptron         0.1224 0.7568         0.0870 0.6404   \n",
       "TPOT                           0.9640 0.9985         0.1163 0.6881   \n",
       "\n",
       "                                 test         \n",
       "                       Avg. Precision    AUC  \n",
       "Dummy Classifier               0.0355 0.5000  \n",
       "Logistic Regression            0.0929 0.7015  \n",
       "Support Vector Machine         0.0929 0.6992  \n",
       "Random Forest                  0.0972 0.6814  \n",
       "XGBoost                        0.0860 0.6481  \n",
       "Multi-Layer Perceptron         0.0830 0.6934  \n",
       "TPOT                           0.1131 0.6875  "
      ]
     },
     "execution_count": 48,
     "metadata": {},
     "output_type": "execute_result"
    }
   ],
   "source": [
    "overfit_stats = pd.concat(\n",
    "    [get_overfit_stat_df(evaluation) for evaluation in evaluations],\n",
    "     axis=0)\n",
    "overfit_stats"
   ]
  },
  {
   "cell_type": "code",
   "execution_count": 49,
   "metadata": {},
   "outputs": [],
   "source": [
    "for c in overfit_stats.columns: #[('test', 'Avg. Precision'), ('test', 'AUC')]:\n",
    "    amax = overfit_stats.loc[:, c].argmax()\n",
    "    overfit_stats.loc[overfit_stats.index[amax], c] = f'\\\\textbf{{{overfit_stats.iloc[amax][c]:.4f}}}'"
   ]
  },
  {
   "cell_type": "code",
   "execution_count": 50,
   "metadata": {},
   "outputs": [
    {
     "name": "stdout",
     "output_type": "stream",
     "text": [
      "\\begin{tabular}{lllllll}\n",
      "\\toprule\n",
      "{} & \\multicolumn{2}{l}{train} & \\multicolumn{2}{l}{validation} & \\multicolumn{2}{l}{test} \\\\\n",
      "{} &   Avg. Precision &              AUC &   Avg. Precision &              AUC &   Avg. Precision &              AUC \\\\\n",
      "\\midrule\n",
      "Dummy Classifier       &           0.0268 &           0.5000 &           0.0297 &           0.5000 &           0.0355 &           0.5000 \\\\\n",
      "Logistic Regression    &           0.0751 &           0.6966 &           0.0767 &           0.6375 &           0.0929 &  \\textbf{0.7015} \\\\\n",
      "Support Vector Machine &           0.0853 &           0.7116 &           0.0804 &           0.6419 &           0.0929 &           0.6992 \\\\\n",
      "Random Forest          &           0.1844 &           0.7981 &           0.1055 &           0.6804 &           0.0972 &           0.6814 \\\\\n",
      "XGBoost                &           0.6059 &           0.9208 &           0.1088 &           0.6842 &           0.0860 &           0.6481 \\\\\n",
      "Multi-Layer Perceptron &           0.1224 &           0.7568 &           0.0870 &           0.6404 &           0.0830 &           0.6934 \\\\\n",
      "TPOT                   &  \\textbf{0.9640} &  \\textbf{0.9985} &  \\textbf{0.1163} &  \\textbf{0.6881} &  \\textbf{0.1131} &           0.6875 \\\\\n",
      "\\bottomrule\n",
      "\\end{tabular}\n",
      "\n"
     ]
    },
    {
     "name": "stderr",
     "output_type": "stream",
     "text": [
      "/tmp/ipykernel_4257/1422480635.py:1: FutureWarning: In future versions `DataFrame.to_latex` is expected to utilise the base implementation of `Styler.to_latex` for formatting and rendering. The arguments signature may therefore change. It is recommended instead to use `DataFrame.style.to_latex` which also contains additional functionality.\n",
      "  print(overfit_stats.to_latex(escape=False))\n"
     ]
    }
   ],
   "source": [
    "print(overfit_stats.to_latex(escape=False))"
   ]
  },
  {
   "cell_type": "code",
   "execution_count": 51,
   "metadata": {},
   "outputs": [
    {
     "data": {
      "text/html": [
       "<div>\n",
       "<style scoped>\n",
       "    .dataframe tbody tr th:only-of-type {\n",
       "        vertical-align: middle;\n",
       "    }\n",
       "\n",
       "    .dataframe tbody tr th {\n",
       "        vertical-align: top;\n",
       "    }\n",
       "\n",
       "    .dataframe thead tr th {\n",
       "        text-align: left;\n",
       "    }\n",
       "</style>\n",
       "<table border=\"1\" class=\"dataframe\">\n",
       "  <thead>\n",
       "    <tr>\n",
       "      <th></th>\n",
       "      <th></th>\n",
       "      <th colspan=\"3\" halign=\"left\">train</th>\n",
       "      <th colspan=\"3\" halign=\"left\">test</th>\n",
       "      <th colspan=\"3\" halign=\"left\">test_pareto</th>\n",
       "    </tr>\n",
       "    <tr>\n",
       "      <th></th>\n",
       "      <th></th>\n",
       "      <th>recall</th>\n",
       "      <th>precision</th>\n",
       "      <th>F1</th>\n",
       "      <th>recall</th>\n",
       "      <th>precision</th>\n",
       "      <th>F1</th>\n",
       "      <th>recall</th>\n",
       "      <th>precision</th>\n",
       "      <th>F1</th>\n",
       "    </tr>\n",
       "  </thead>\n",
       "  <tbody>\n",
       "    <tr>\n",
       "      <th rowspan=\"4\" valign=\"top\">Dummy Classifier</th>\n",
       "      <th>regression</th>\n",
       "      <td>1.0000</td>\n",
       "      <td>0.0268</td>\n",
       "      <td>0.0522</td>\n",
       "      <td>1.0000</td>\n",
       "      <td>0.0355</td>\n",
       "      <td>0.0685</td>\n",
       "      <td>1.0000</td>\n",
       "      <td>0.0355</td>\n",
       "      <td>0.0685</td>\n",
       "    </tr>\n",
       "    <tr>\n",
       "      <th>non-regression</th>\n",
       "      <td>0.0000</td>\n",
       "      <td>0.0000</td>\n",
       "      <td>0.0000</td>\n",
       "      <td>0.0000</td>\n",
       "      <td>0.0000</td>\n",
       "      <td>0.0000</td>\n",
       "      <td>0.0000</td>\n",
       "      <td>0.0000</td>\n",
       "      <td>0.0000</td>\n",
       "    </tr>\n",
       "    <tr>\n",
       "      <th>weighted average</th>\n",
       "      <td>0.5000</td>\n",
       "      <td>0.0134</td>\n",
       "      <td>0.0261</td>\n",
       "      <td>0.5000</td>\n",
       "      <td>0.0177</td>\n",
       "      <td>0.0343</td>\n",
       "      <td>0.5000</td>\n",
       "      <td>0.0177</td>\n",
       "      <td>0.0343</td>\n",
       "    </tr>\n",
       "    <tr>\n",
       "      <th>micro average</th>\n",
       "      <td>0.0268</td>\n",
       "      <td>0.0007</td>\n",
       "      <td>0.0014</td>\n",
       "      <td>0.0355</td>\n",
       "      <td>0.0013</td>\n",
       "      <td>0.0024</td>\n",
       "      <td>0.0355</td>\n",
       "      <td>0.0013</td>\n",
       "      <td>0.0024</td>\n",
       "    </tr>\n",
       "    <tr>\n",
       "      <th rowspan=\"4\" valign=\"top\">Logistic Regression</th>\n",
       "      <th>regression</th>\n",
       "      <td>0.2465</td>\n",
       "      <td>0.0916</td>\n",
       "      <td>0.1336</td>\n",
       "      <td>0.2946</td>\n",
       "      <td>0.1084</td>\n",
       "      <td>0.1585</td>\n",
       "      <td>0.3402</td>\n",
       "      <td>0.1107</td>\n",
       "      <td>0.1670</td>\n",
       "    </tr>\n",
       "    <tr>\n",
       "      <th>non-regression</th>\n",
       "      <td>0.9326</td>\n",
       "      <td>0.9782</td>\n",
       "      <td>0.9549</td>\n",
       "      <td>0.9109</td>\n",
       "      <td>0.9723</td>\n",
       "      <td>0.9406</td>\n",
       "      <td>0.8994</td>\n",
       "      <td>0.9737</td>\n",
       "      <td>0.9351</td>\n",
       "    </tr>\n",
       "    <tr>\n",
       "      <th>weighted average</th>\n",
       "      <td>0.5896</td>\n",
       "      <td>0.5349</td>\n",
       "      <td>0.5442</td>\n",
       "      <td>0.6027</td>\n",
       "      <td>0.5404</td>\n",
       "      <td>0.5495</td>\n",
       "      <td>0.6198</td>\n",
       "      <td>0.5422</td>\n",
       "      <td>0.5511</td>\n",
       "    </tr>\n",
       "    <tr>\n",
       "      <th>micro average</th>\n",
       "      <td>0.9142</td>\n",
       "      <td>0.9545</td>\n",
       "      <td>0.9329</td>\n",
       "      <td>0.8890</td>\n",
       "      <td>0.9417</td>\n",
       "      <td>0.9128</td>\n",
       "      <td>0.8796</td>\n",
       "      <td>0.9431</td>\n",
       "      <td>0.9078</td>\n",
       "    </tr>\n",
       "    <tr>\n",
       "      <th rowspan=\"4\" valign=\"top\">Support Vector Machine</th>\n",
       "      <th>regression</th>\n",
       "      <td>0.1916</td>\n",
       "      <td>0.1188</td>\n",
       "      <td>0.1467</td>\n",
       "      <td>0.2199</td>\n",
       "      <td>0.1183</td>\n",
       "      <td>0.1538</td>\n",
       "      <td>0.2075</td>\n",
       "      <td>0.1401</td>\n",
       "      <td>0.1672</td>\n",
       "    </tr>\n",
       "    <tr>\n",
       "      <th>non-regression</th>\n",
       "      <td>0.9608</td>\n",
       "      <td>0.9773</td>\n",
       "      <td>0.9690</td>\n",
       "      <td>0.9397</td>\n",
       "      <td>0.9704</td>\n",
       "      <td>0.9548</td>\n",
       "      <td>0.9531</td>\n",
       "      <td>0.9703</td>\n",
       "      <td>0.9617</td>\n",
       "    </tr>\n",
       "    <tr>\n",
       "      <th>weighted average</th>\n",
       "      <td>0.5762</td>\n",
       "      <td>0.5481</td>\n",
       "      <td>0.5578</td>\n",
       "      <td>0.5798</td>\n",
       "      <td>0.5443</td>\n",
       "      <td>0.5543</td>\n",
       "      <td>0.5803</td>\n",
       "      <td>0.5552</td>\n",
       "      <td>0.5644</td>\n",
       "    </tr>\n",
       "    <tr>\n",
       "      <th>micro average</th>\n",
       "      <td>0.9402</td>\n",
       "      <td>0.9543</td>\n",
       "      <td>0.9470</td>\n",
       "      <td>0.9142</td>\n",
       "      <td>0.9401</td>\n",
       "      <td>0.9264</td>\n",
       "      <td>0.9267</td>\n",
       "      <td>0.9409</td>\n",
       "      <td>0.9335</td>\n",
       "    </tr>\n",
       "    <tr>\n",
       "      <th rowspan=\"4\" valign=\"top\">Random Forest</th>\n",
       "      <th>regression</th>\n",
       "      <td>0.1891</td>\n",
       "      <td>0.2967</td>\n",
       "      <td>0.2310</td>\n",
       "      <td>0.0539</td>\n",
       "      <td>0.1354</td>\n",
       "      <td>0.0772</td>\n",
       "      <td>0.4274</td>\n",
       "      <td>0.0891</td>\n",
       "      <td>0.1475</td>\n",
       "    </tr>\n",
       "    <tr>\n",
       "      <th>non-regression</th>\n",
       "      <td>0.9876</td>\n",
       "      <td>0.9779</td>\n",
       "      <td>0.9827</td>\n",
       "      <td>0.9873</td>\n",
       "      <td>0.9660</td>\n",
       "      <td>0.9765</td>\n",
       "      <td>0.8393</td>\n",
       "      <td>0.9755</td>\n",
       "      <td>0.9023</td>\n",
       "    </tr>\n",
       "    <tr>\n",
       "      <th>weighted average</th>\n",
       "      <td>0.5884</td>\n",
       "      <td>0.6373</td>\n",
       "      <td>0.6069</td>\n",
       "      <td>0.5206</td>\n",
       "      <td>0.5507</td>\n",
       "      <td>0.5268</td>\n",
       "      <td>0.6333</td>\n",
       "      <td>0.5323</td>\n",
       "      <td>0.5249</td>\n",
       "    </tr>\n",
       "    <tr>\n",
       "      <th>micro average</th>\n",
       "      <td>0.9662</td>\n",
       "      <td>0.9596</td>\n",
       "      <td>0.9626</td>\n",
       "      <td>0.9542</td>\n",
       "      <td>0.9365</td>\n",
       "      <td>0.9446</td>\n",
       "      <td>0.8247</td>\n",
       "      <td>0.9441</td>\n",
       "      <td>0.8755</td>\n",
       "    </tr>\n",
       "    <tr>\n",
       "      <th rowspan=\"4\" valign=\"top\">XGBoost</th>\n",
       "      <th>regression</th>\n",
       "      <td>0.4802</td>\n",
       "      <td>0.7560</td>\n",
       "      <td>0.5873</td>\n",
       "      <td>0.0788</td>\n",
       "      <td>0.1959</td>\n",
       "      <td>0.1124</td>\n",
       "      <td>0.2158</td>\n",
       "      <td>0.1313</td>\n",
       "      <td>0.1633</td>\n",
       "    </tr>\n",
       "    <tr>\n",
       "      <th>non-regression</th>\n",
       "      <td>0.9957</td>\n",
       "      <td>0.9858</td>\n",
       "      <td>0.9908</td>\n",
       "      <td>0.9881</td>\n",
       "      <td>0.9668</td>\n",
       "      <td>0.9774</td>\n",
       "      <td>0.9475</td>\n",
       "      <td>0.9705</td>\n",
       "      <td>0.9588</td>\n",
       "    </tr>\n",
       "    <tr>\n",
       "      <th>weighted average</th>\n",
       "      <td>0.7380</td>\n",
       "      <td>0.8709</td>\n",
       "      <td>0.7890</td>\n",
       "      <td>0.5335</td>\n",
       "      <td>0.5814</td>\n",
       "      <td>0.5449</td>\n",
       "      <td>0.5816</td>\n",
       "      <td>0.5509</td>\n",
       "      <td>0.5611</td>\n",
       "    </tr>\n",
       "    <tr>\n",
       "      <th>micro average</th>\n",
       "      <td>0.9819</td>\n",
       "      <td>0.9797</td>\n",
       "      <td>0.9799</td>\n",
       "      <td>0.9558</td>\n",
       "      <td>0.9395</td>\n",
       "      <td>0.9467</td>\n",
       "      <td>0.9215</td>\n",
       "      <td>0.9407</td>\n",
       "      <td>0.9306</td>\n",
       "    </tr>\n",
       "    <tr>\n",
       "      <th rowspan=\"4\" valign=\"top\">Multi-Layer Perceptron</th>\n",
       "      <th>regression</th>\n",
       "      <td>0.2245</td>\n",
       "      <td>0.1518</td>\n",
       "      <td>0.1811</td>\n",
       "      <td>0.1618</td>\n",
       "      <td>0.1071</td>\n",
       "      <td>0.1289</td>\n",
       "      <td>0.2448</td>\n",
       "      <td>0.1180</td>\n",
       "      <td>0.1592</td>\n",
       "    </tr>\n",
       "    <tr>\n",
       "      <th>non-regression</th>\n",
       "      <td>0.9654</td>\n",
       "      <td>0.9783</td>\n",
       "      <td>0.9719</td>\n",
       "      <td>0.9504</td>\n",
       "      <td>0.9686</td>\n",
       "      <td>0.9594</td>\n",
       "      <td>0.9327</td>\n",
       "      <td>0.9711</td>\n",
       "      <td>0.9515</td>\n",
       "    </tr>\n",
       "    <tr>\n",
       "      <th>weighted average</th>\n",
       "      <td>0.5950</td>\n",
       "      <td>0.5651</td>\n",
       "      <td>0.5765</td>\n",
       "      <td>0.5561</td>\n",
       "      <td>0.5379</td>\n",
       "      <td>0.5442</td>\n",
       "      <td>0.5888</td>\n",
       "      <td>0.5445</td>\n",
       "      <td>0.5554</td>\n",
       "    </tr>\n",
       "    <tr>\n",
       "      <th>micro average</th>\n",
       "      <td>0.9456</td>\n",
       "      <td>0.9562</td>\n",
       "      <td>0.9507</td>\n",
       "      <td>0.9224</td>\n",
       "      <td>0.9380</td>\n",
       "      <td>0.9299</td>\n",
       "      <td>0.9083</td>\n",
       "      <td>0.9408</td>\n",
       "      <td>0.9234</td>\n",
       "    </tr>\n",
       "    <tr>\n",
       "      <th rowspan=\"4\" valign=\"top\">TPOT</th>\n",
       "      <th>regression</th>\n",
       "      <td>0.8566</td>\n",
       "      <td>0.9784</td>\n",
       "      <td>0.9135</td>\n",
       "      <td>0.0581</td>\n",
       "      <td>0.5000</td>\n",
       "      <td>0.1041</td>\n",
       "      <td>0.1950</td>\n",
       "      <td>0.1483</td>\n",
       "      <td>0.1685</td>\n",
       "    </tr>\n",
       "    <tr>\n",
       "      <th>non-regression</th>\n",
       "      <td>0.9995</td>\n",
       "      <td>0.9961</td>\n",
       "      <td>0.9978</td>\n",
       "      <td>0.9979</td>\n",
       "      <td>0.9664</td>\n",
       "      <td>0.9819</td>\n",
       "      <td>0.9588</td>\n",
       "      <td>0.9700</td>\n",
       "      <td>0.9644</td>\n",
       "    </tr>\n",
       "    <tr>\n",
       "      <th>weighted average</th>\n",
       "      <td>0.9280</td>\n",
       "      <td>0.9872</td>\n",
       "      <td>0.9556</td>\n",
       "      <td>0.5280</td>\n",
       "      <td>0.7332</td>\n",
       "      <td>0.5430</td>\n",
       "      <td>0.5769</td>\n",
       "      <td>0.5592</td>\n",
       "      <td>0.5664</td>\n",
       "    </tr>\n",
       "    <tr>\n",
       "      <th>micro average</th>\n",
       "      <td>0.9956</td>\n",
       "      <td>0.9956</td>\n",
       "      <td>0.9955</td>\n",
       "      <td>0.9645</td>\n",
       "      <td>0.9499</td>\n",
       "      <td>0.9508</td>\n",
       "      <td>0.9317</td>\n",
       "      <td>0.9409</td>\n",
       "      <td>0.9361</td>\n",
       "    </tr>\n",
       "  </tbody>\n",
       "</table>\n",
       "</div>"
      ],
      "text/plain": [
       "                                         train                    test  \\\n",
       "                                        recall precision     F1 recall   \n",
       "Dummy Classifier       regression       1.0000    0.0268 0.0522 1.0000   \n",
       "                       non-regression   0.0000    0.0000 0.0000 0.0000   \n",
       "                       weighted average 0.5000    0.0134 0.0261 0.5000   \n",
       "                       micro average    0.0268    0.0007 0.0014 0.0355   \n",
       "Logistic Regression    regression       0.2465    0.0916 0.1336 0.2946   \n",
       "                       non-regression   0.9326    0.9782 0.9549 0.9109   \n",
       "                       weighted average 0.5896    0.5349 0.5442 0.6027   \n",
       "                       micro average    0.9142    0.9545 0.9329 0.8890   \n",
       "Support Vector Machine regression       0.1916    0.1188 0.1467 0.2199   \n",
       "                       non-regression   0.9608    0.9773 0.9690 0.9397   \n",
       "                       weighted average 0.5762    0.5481 0.5578 0.5798   \n",
       "                       micro average    0.9402    0.9543 0.9470 0.9142   \n",
       "Random Forest          regression       0.1891    0.2967 0.2310 0.0539   \n",
       "                       non-regression   0.9876    0.9779 0.9827 0.9873   \n",
       "                       weighted average 0.5884    0.6373 0.6069 0.5206   \n",
       "                       micro average    0.9662    0.9596 0.9626 0.9542   \n",
       "XGBoost                regression       0.4802    0.7560 0.5873 0.0788   \n",
       "                       non-regression   0.9957    0.9858 0.9908 0.9881   \n",
       "                       weighted average 0.7380    0.8709 0.7890 0.5335   \n",
       "                       micro average    0.9819    0.9797 0.9799 0.9558   \n",
       "Multi-Layer Perceptron regression       0.2245    0.1518 0.1811 0.1618   \n",
       "                       non-regression   0.9654    0.9783 0.9719 0.9504   \n",
       "                       weighted average 0.5950    0.5651 0.5765 0.5561   \n",
       "                       micro average    0.9456    0.9562 0.9507 0.9224   \n",
       "TPOT                   regression       0.8566    0.9784 0.9135 0.0581   \n",
       "                       non-regression   0.9995    0.9961 0.9978 0.9979   \n",
       "                       weighted average 0.9280    0.9872 0.9556 0.5280   \n",
       "                       micro average    0.9956    0.9956 0.9955 0.9645   \n",
       "\n",
       "                                                         test_pareto  \\\n",
       "                                        precision     F1      recall   \n",
       "Dummy Classifier       regression          0.0355 0.0685      1.0000   \n",
       "                       non-regression      0.0000 0.0000      0.0000   \n",
       "                       weighted average    0.0177 0.0343      0.5000   \n",
       "                       micro average       0.0013 0.0024      0.0355   \n",
       "Logistic Regression    regression          0.1084 0.1585      0.3402   \n",
       "                       non-regression      0.9723 0.9406      0.8994   \n",
       "                       weighted average    0.5404 0.5495      0.6198   \n",
       "                       micro average       0.9417 0.9128      0.8796   \n",
       "Support Vector Machine regression          0.1183 0.1538      0.2075   \n",
       "                       non-regression      0.9704 0.9548      0.9531   \n",
       "                       weighted average    0.5443 0.5543      0.5803   \n",
       "                       micro average       0.9401 0.9264      0.9267   \n",
       "Random Forest          regression          0.1354 0.0772      0.4274   \n",
       "                       non-regression      0.9660 0.9765      0.8393   \n",
       "                       weighted average    0.5507 0.5268      0.6333   \n",
       "                       micro average       0.9365 0.9446      0.8247   \n",
       "XGBoost                regression          0.1959 0.1124      0.2158   \n",
       "                       non-regression      0.9668 0.9774      0.9475   \n",
       "                       weighted average    0.5814 0.5449      0.5816   \n",
       "                       micro average       0.9395 0.9467      0.9215   \n",
       "Multi-Layer Perceptron regression          0.1071 0.1289      0.2448   \n",
       "                       non-regression      0.9686 0.9594      0.9327   \n",
       "                       weighted average    0.5379 0.5442      0.5888   \n",
       "                       micro average       0.9380 0.9299      0.9083   \n",
       "TPOT                   regression          0.5000 0.1041      0.1950   \n",
       "                       non-regression      0.9664 0.9819      0.9588   \n",
       "                       weighted average    0.7332 0.5430      0.5769   \n",
       "                       micro average       0.9499 0.9508      0.9317   \n",
       "\n",
       "                                                          \n",
       "                                        precision     F1  \n",
       "Dummy Classifier       regression          0.0355 0.0685  \n",
       "                       non-regression      0.0000 0.0000  \n",
       "                       weighted average    0.0177 0.0343  \n",
       "                       micro average       0.0013 0.0024  \n",
       "Logistic Regression    regression          0.1107 0.1670  \n",
       "                       non-regression      0.9737 0.9351  \n",
       "                       weighted average    0.5422 0.5511  \n",
       "                       micro average       0.9431 0.9078  \n",
       "Support Vector Machine regression          0.1401 0.1672  \n",
       "                       non-regression      0.9703 0.9617  \n",
       "                       weighted average    0.5552 0.5644  \n",
       "                       micro average       0.9409 0.9335  \n",
       "Random Forest          regression          0.0891 0.1475  \n",
       "                       non-regression      0.9755 0.9023  \n",
       "                       weighted average    0.5323 0.5249  \n",
       "                       micro average       0.9441 0.8755  \n",
       "XGBoost                regression          0.1313 0.1633  \n",
       "                       non-regression      0.9705 0.9588  \n",
       "                       weighted average    0.5509 0.5611  \n",
       "                       micro average       0.9407 0.9306  \n",
       "Multi-Layer Perceptron regression          0.1180 0.1592  \n",
       "                       non-regression      0.9711 0.9515  \n",
       "                       weighted average    0.5445 0.5554  \n",
       "                       micro average       0.9408 0.9234  \n",
       "TPOT                   regression          0.1483 0.1685  \n",
       "                       non-regression      0.9700 0.9644  \n",
       "                       weighted average    0.5592 0.5664  \n",
       "                       micro average       0.9409 0.9361  "
      ]
     },
     "execution_count": 51,
     "metadata": {},
     "output_type": "execute_result"
    }
   ],
   "source": [
    "classification_reports = pd.concat(\n",
    "    [get_classification_report_df(evaluation) for evaluation in evaluations],\n",
    "     axis=0)\n",
    "classification_reports"
   ]
  },
  {
   "cell_type": "code",
   "execution_count": 52,
   "metadata": {},
   "outputs": [],
   "source": [
    "for c in [('train', 'F1'), ('test', 'F1'), ('test_pareto', 'F1')]:\n",
    "    reg = classification_reports.loc[pd.IndexSlice[:,'regression', :]]\n",
    "    amax = reg[c].argmax()\n",
    "    v = classification_reports.loc[(reg.index[amax], 'regression'), c]\n",
    "    classification_reports.loc[(reg.index[amax], 'regression'), c] = f'\\\\textbf{{{v:.4f}}}'"
   ]
  },
  {
   "cell_type": "code",
   "execution_count": 53,
   "metadata": {},
   "outputs": [
    {
     "name": "stdout",
     "output_type": "stream",
     "text": [
      "\\begin{tabular}{llrrlrrlrrl}\n",
      "\\toprule\n",
      "     &               & \\multicolumn{3}{l}{train} & \\multicolumn{3}{l}{test} & \\multicolumn{3}{l}{test_pareto} \\\\\n",
      "     &               & recall & precision &               F1 & recall & precision &               F1 &      recall & precision &               F1 \\\\\n",
      "\\midrule\n",
      "\\multirow{2}{2.7cm}{Dummy\\\\Classifier} & regression & 1.0000 &    0.0268 &           0.0522 & 1.0000 &    0.0355 &           0.0685 &      1.0000 &    0.0355 &           0.0685 \\\\\n",
      "     & non-regression & 0.0000 &    0.0000 &           0.0000 & 0.0000 &    0.0000 &           0.0000 &      0.0000 &    0.0000 &           0.0000 \\\\\n",
      "     & weighted average & 0.5000 &    0.0134 &           0.0261 & 0.5000 &    0.0177 &           0.0343 &      0.5000 &    0.0177 &           0.0343 \\\\\n",
      "     & micro average & 0.0268 &    0.0007 &           0.0014 & 0.0355 &    0.0013 &           0.0024 &      0.0355 &    0.0013 &           0.0024 \\\\\\hline\\hline\n",
      "\\multirow{2}{2.7cm}{Logistic\\\\Regression} & regression & 0.2465 &    0.0916 &           0.1336 & 0.2946 &    0.1084 &  \\textbf{0.1585} &      0.3402 &    0.1107 &           0.1670 \\\\\n",
      "     & non-regression & 0.9326 &    0.9782 &           0.9549 & 0.9109 &    0.9723 &           0.9406 &      0.8994 &    0.9737 &           0.9351 \\\\\n",
      "     & weighted average & 0.5896 &    0.5349 &           0.5442 & 0.6027 &    0.5404 &           0.5495 &      0.6198 &    0.5422 &           0.5511 \\\\\n",
      "     & micro average & 0.9142 &    0.9545 &           0.9329 & 0.8890 &    0.9417 &           0.9128 &      0.8796 &    0.9431 &           0.9078 \\\\\\hline\\hline\n",
      "\\multirow{2}{2.7cm}{Support Vector\\\\Machine} & regression & 0.1916 &    0.1188 &           0.1467 & 0.2199 &    0.1183 &           0.1538 &      0.2075 &    0.1401 &           0.1672 \\\\\n",
      "     & non-regression & 0.9608 &    0.9773 &           0.9690 & 0.9397 &    0.9704 &           0.9548 &      0.9531 &    0.9703 &           0.9617 \\\\\n",
      "     & weighted average & 0.5762 &    0.5481 &           0.5578 & 0.5798 &    0.5443 &           0.5543 &      0.5803 &    0.5552 &           0.5644 \\\\\n",
      "     & micro average & 0.9402 &    0.9543 &           0.9470 & 0.9142 &    0.9401 &           0.9264 &      0.9267 &    0.9409 &           0.9335 \\\\\\hline\\hline\n",
      "Random Forest & regression & 0.1891 &    0.2967 &           0.2310 & 0.0539 &    0.1354 &           0.0772 &      0.4274 &    0.0891 &           0.1475 \\\\\n",
      "     & non-regression & 0.9876 &    0.9779 &           0.9827 & 0.9873 &    0.9660 &           0.9765 &      0.8393 &    0.9755 &           0.9023 \\\\\n",
      "     & weighted average & 0.5884 &    0.6373 &           0.6069 & 0.5206 &    0.5507 &           0.5268 &      0.6333 &    0.5323 &           0.5249 \\\\\n",
      "     & micro average & 0.9662 &    0.9596 &           0.9626 & 0.9542 &    0.9365 &           0.9446 &      0.8247 &    0.9441 &           0.8755 \\\\\\hline\\hline\n",
      "XGBoost& regression & 0.4802 &    0.7560 &           0.5873 & 0.0788 &    0.1959 &           0.1124 &      0.2158 &    0.1313 &           0.1633 \\\\\n",
      "     & non-regression & 0.9957 &    0.9858 &           0.9908 & 0.9881 &    0.9668 &           0.9774 &      0.9475 &    0.9705 &           0.9588 \\\\\n",
      "     & weighted average & 0.7380 &    0.8709 &           0.7890 & 0.5335 &    0.5814 &           0.5449 &      0.5816 &    0.5509 &           0.5611 \\\\\n",
      "     & micro average & 0.9819 &    0.9797 &           0.9799 & 0.9558 &    0.9395 &           0.9467 &      0.9215 &    0.9407 &           0.9306 \\\\\\hline\\hline\n",
      "\\multirow{2}{2.7cm}{Multi-Layer\\\\Perceptron} & regression & 0.2245 &    0.1518 &           0.1811 & 0.1618 &    0.1071 &           0.1289 &      0.2448 &    0.1180 &           0.1592 \\\\\n",
      "     & non-regression & 0.9654 &    0.9783 &           0.9719 & 0.9504 &    0.9686 &           0.9594 &      0.9327 &    0.9711 &           0.9515 \\\\\n",
      "     & weighted average & 0.5950 &    0.5651 &           0.5765 & 0.5561 &    0.5379 &           0.5442 &      0.5888 &    0.5445 &           0.5554 \\\\\n",
      "     & micro average & 0.9456 &    0.9562 &           0.9507 & 0.9224 &    0.9380 &           0.9299 &      0.9083 &    0.9408 &           0.9234 \\\\\\hline\\hline\n",
      "TPOT& regression & 0.8566 &    0.9784 &  \\textbf{0.9135} & 0.0581 &    0.5000 &           0.1041 &      0.1950 &    0.1483 &  \\textbf{0.1685} \\\\\n",
      "     & non-regression & 0.9995 &    0.9961 &           0.9978 & 0.9979 &    0.9664 &           0.9819 &      0.9588 &    0.9700 &           0.9644 \\\\\n",
      "     & weighted average & 0.9280 &    0.9872 &           0.9556 & 0.5280 &    0.7332 &           0.5430 &      0.5769 &    0.5592 &           0.5664 \\\\\n",
      "     & micro average & 0.9956 &    0.9956 &           0.9955 & 0.9645 &    0.9499 &           0.9508 &      0.9317 &    0.9409 &           0.9361 \\\\\n",
      "\\bottomrule\n",
      "\\end{tabular}\n",
      "\n"
     ]
    },
    {
     "name": "stderr",
     "output_type": "stream",
     "text": [
      "/tmp/ipykernel_4257/4178184239.py:1: FutureWarning: In future versions `DataFrame.to_latex` is expected to utilise the base implementation of `Styler.to_latex` for formatting and rendering. The arguments signature may therefore change. It is recommended instead to use `DataFrame.style.to_latex` which also contains additional functionality.\n",
      "  s = classification_reports.to_latex(escape=False)\n"
     ]
    }
   ],
   "source": [
    "s = classification_reports.to_latex(escape=False)\n",
    "s = s.replace('Dummy Classifier', '\\\\multirow{2}{2.7cm}{Dummy\\\\\\\\Classifier}')\n",
    "s = s.replace('\\nLogistic Regression', '\\\\hline\\\\hline\\n\\\\multirow{2}{2.7cm}{Logistic\\\\\\\\Regression}')\n",
    "s = s.replace('\\nSupport Vector Machine', '\\\\hline\\\\hline\\n\\\\multirow{2}{2.7cm}{Support Vector\\\\\\\\Machine}')\n",
    "s = s.replace('\\nMulti-Layer Perceptron', '\\\\hline\\\\hline\\n\\\\multirow{2}{2.7cm}{Multi-Layer\\\\\\\\Perceptron}')\n",
    "s = s.replace('\\nRandom Forest', '\\\\hline\\\\hline\\nRandom Forest')\n",
    "s = s.replace('\\nXGBoost ', '\\\\hline\\\\hline\\nXGBoost')\n",
    "s = s.replace('\\nTPOT ', '\\\\hline\\\\hline\\nTPOT')\n",
    "print(s)"
   ]
  },
  {
   "cell_type": "code",
   "execution_count": 54,
   "metadata": {},
   "outputs": [
    {
     "name": "stdout",
     "output_type": "stream",
     "text": [
      "performance: 1880 positive 2.77% - negative 66041 97.23%\n",
      "X.shape=(67921, 302)\n",
      "\n"
     ]
    }
   ],
   "source": [
    "X, y, features = data_map[feature_type][data](target)\n",
    "X_train, X_test, y_train, y_test = train_test_split(X, y, test_size=0.1, shuffle=False)"
   ]
  },
  {
   "cell_type": "code",
   "execution_count": 55,
   "metadata": {},
   "outputs": [],
   "source": [
    "fitted_pipelines = [(model_names[evaluation['model']], evaluation['fitted_pipeline']) for evaluation in evaluations[1:]] # exclude dummy"
   ]
  },
  {
   "cell_type": "code",
   "execution_count": 56,
   "metadata": {},
   "outputs": [
    {
     "name": "stderr",
     "output_type": "stream",
     "text": [
      "/home/markus/Documents/regression-prediction/experiments/modeleval_utils.py:160: RuntimeWarning: invalid value encountered in true_divide\n",
      "  F1 = 2 * R * P / (R + P)\n"
     ]
    },
    {
     "data": {
      "image/png": "[encoded data removed]",
      "text/plain": [
       "<Figure size 432x288 with 1 Axes>"
      ]
     },
     "metadata": {
      "needs_background": "light"
     },
     "output_type": "display_data"
    },
    {
     "data": {
      "image/png": "[encoded data removed]",
      "text/plain": [
       "<Figure size 432x288 with 1 Axes>"
      ]
     },
     "metadata": {
      "needs_background": "light"
     },
     "output_type": "display_data"
    },
    {
     "data": {
      "text/plain": [
       "(<Figure size 432x288 with 1 Axes>,\n",
       " <AxesSubplot:title={'center':'ROC Curve'}, xlabel='False Positive Rate', ylabel='True Positive Rate'>,\n",
       " <Figure size 432x288 with 1 Axes>,\n",
       " <AxesSubplot:title={'center':'Recall-Precision Curve'}, xlabel='Recall', ylabel='Precision'>)"
      ]
     },
     "execution_count": 56,
     "metadata": {},
     "output_type": "execute_result"
    }
   ],
   "source": [
    "plot_roc_auc_rec_prec_for_all_models(target, data, feature_type, scoring,\n",
    "    fitted_pipelines, X_train, X_test, y_train, y_test, save=True, figsize=(6,4), ylim=[0, 0.3 if data == 'fixed_defect_szz' else 1.0])"
   ]
  },
  {
   "cell_type": "code",
   "execution_count": null,
   "metadata": {},
   "outputs": [],
   "source": []
  },
  {
   "cell_type": "code",
   "execution_count": 27,
   "metadata": {},
   "outputs": [],
   "source": [
    "scoring = 'average_precision'\n",
    "feature_type = 'traditional'\n",
    "target = 'performance'\n",
    "data = 'fixed_defect_szz'"
   ]
  },
  {
   "cell_type": "code",
   "execution_count": 26,
   "metadata": {},
   "outputs": [
    {
     "name": "stdout",
     "output_type": "stream",
     "text": [
      "performance: 589 positive 0.59% - negative 99105 99.41%\n",
      "X.shape=(99694, 55)\n",
      "\n"
     ]
    }
   ],
   "source": [
    "X, y, features = get_ml_data_traditional('fixed_defect_szz', target, kind='commitlevel', drop_columns=lambda columns: [c for c in columns if 'delta_' in c or 'min_' in c or 'max_' in c or 'sum_' in c])\n",
    "X_train, X_test, y_train, y_test = train_test_split(X, y, test_size=0.1, shuffle=False)"
   ]
  },
  {
   "cell_type": "code",
   "execution_count": 15,
   "metadata": {},
   "outputs": [
    {
     "data": {
      "text/plain": [
       "Index(['number_of_commits', 'lines_added', 'lines_deleted', 'lines_modified',\n",
       "       'number_of_modified_files', 'number_of_subsystems',\n",
       "       'number_of_directories', 'entropy_lines_modified', 'comment_length',\n",
       "       'developer_age', 'developer_experience', 'recent_developer_experience',\n",
       "       'backouts_developer', 'recent_backouts_developer',\n",
       "       'mean_developer_experience_subsystem',\n",
       "       'mean_recent_developer_experience_subsystem', 'mean_backouts_subsystem',\n",
       "       'mean_recent_backouts_subsystem', 'mean_developer_experience_directory',\n",
       "       'mean_recent_developer_experience_directory', 'mean_backouts_directory',\n",
       "       'mean_recent_backouts_directory', 'mean_file_changes', 'mean_file_ages',\n",
       "       'mean_file_commits_since_last_change', 'mean_file_number_of_developers',\n",
       "       'mean_nargs_sum', 'mean_nexits_sum', 'mean_cognitive_sum',\n",
       "       'mean_cyclomatic_sum', 'mean_cyclomatic_average', 'mean_halstead_n1',\n",
       "       'mean_halstead_N1', 'mean_halstead_n2', 'mean_halstead_N2',\n",
       "       'mean_halstead_length', 'mean_halstead_estimated_program_length',\n",
       "       'mean_halstead_purity_ratio', 'mean_halstead_vocabulary',\n",
       "       'mean_halstead_volume', 'mean_halstead_difficulty',\n",
       "       'mean_halstead_level', 'mean_halstead_effort', 'mean_halstead_time',\n",
       "       'mean_halstead_bugs', 'mean_loc_sloc', 'mean_loc_ploc', 'mean_loc_lloc',\n",
       "       'mean_loc_cloc', 'mean_loc_blank', 'mean_nom_functions',\n",
       "       'mean_nom_closures', 'mean_nom_total', 'mean_mi_mi_original',\n",
       "       'mean_mi_mi_sei', 'mean_mi_mi_visual_studio', 'target'],\n",
       "      dtype='object')"
      ]
     },
     "execution_count": 15,
     "metadata": {},
     "output_type": "execute_result"
    }
   ],
   "source": [
    "features.columns"
   ]
  },
  {
   "cell_type": "code",
   "execution_count": 28,
   "metadata": {},
   "outputs": [
    {
     "name": "stdout",
     "output_type": "stream",
     "text": [
      "threshold_train=0.008018290199115747 f1_train=0.023065833733781838, threshold_test=0.011296138899245274, f1_test=0.05333333333333334\n"
     ]
    }
   ],
   "source": [
    "evaluation = evaluate_pipeline('lr', target, data, feature_type, scoring, X_train, y_train, X_test, y_test)"
   ]
  },
  {
   "cell_type": "code",
   "execution_count": 29,
   "metadata": {},
   "outputs": [
    {
     "data": {
      "text/html": [
       "<div>\n",
       "<style scoped>\n",
       "    .dataframe tbody tr th:only-of-type {\n",
       "        vertical-align: middle;\n",
       "    }\n",
       "\n",
       "    .dataframe tbody tr th {\n",
       "        vertical-align: top;\n",
       "    }\n",
       "\n",
       "    .dataframe thead tr th {\n",
       "        text-align: left;\n",
       "    }\n",
       "</style>\n",
       "<table border=\"1\" class=\"dataframe\">\n",
       "  <thead>\n",
       "    <tr>\n",
       "      <th></th>\n",
       "      <th></th>\n",
       "      <th colspan=\"3\" halign=\"left\">train</th>\n",
       "      <th colspan=\"3\" halign=\"left\">test</th>\n",
       "      <th colspan=\"3\" halign=\"left\">test_pareto</th>\n",
       "    </tr>\n",
       "    <tr>\n",
       "      <th></th>\n",
       "      <th></th>\n",
       "      <th>recall</th>\n",
       "      <th>precision</th>\n",
       "      <th>F1</th>\n",
       "      <th>recall</th>\n",
       "      <th>precision</th>\n",
       "      <th>F1</th>\n",
       "      <th>recall</th>\n",
       "      <th>precision</th>\n",
       "      <th>F1</th>\n",
       "    </tr>\n",
       "  </thead>\n",
       "  <tbody>\n",
       "    <tr>\n",
       "      <th rowspan=\"4\" valign=\"top\">Logistic Regression</th>\n",
       "      <th>regression</th>\n",
       "      <td>0.253968</td>\n",
       "      <td>0.012082</td>\n",
       "      <td>0.023066</td>\n",
       "      <td>0.318182</td>\n",
       "      <td>0.003644</td>\n",
       "      <td>0.007205</td>\n",
       "      <td>0.090909</td>\n",
       "      <td>0.037736</td>\n",
       "      <td>0.053333</td>\n",
       "    </tr>\n",
       "    <tr>\n",
       "      <th>non-regression</th>\n",
       "      <td>0.867930</td>\n",
       "      <td>0.994563</td>\n",
       "      <td>0.926941</td>\n",
       "      <td>0.807600</td>\n",
       "      <td>0.998136</td>\n",
       "      <td>0.892815</td>\n",
       "      <td>0.994873</td>\n",
       "      <td>0.997983</td>\n",
       "      <td>0.996426</td>\n",
       "    </tr>\n",
       "    <tr>\n",
       "      <th>weighted average</th>\n",
       "      <td>0.560949</td>\n",
       "      <td>0.503322</td>\n",
       "      <td>0.475004</td>\n",
       "      <td>0.562891</td>\n",
       "      <td>0.500890</td>\n",
       "      <td>0.450010</td>\n",
       "      <td>0.542891</td>\n",
       "      <td>0.517860</td>\n",
       "      <td>0.524880</td>\n",
       "    </tr>\n",
       "    <tr>\n",
       "      <th>micro average</th>\n",
       "      <td>0.864050</td>\n",
       "      <td>0.988355</td>\n",
       "      <td>0.921230</td>\n",
       "      <td>0.806520</td>\n",
       "      <td>0.995942</td>\n",
       "      <td>0.890861</td>\n",
       "      <td>0.992879</td>\n",
       "      <td>0.995864</td>\n",
       "      <td>0.994345</td>\n",
       "    </tr>\n",
       "  </tbody>\n",
       "</table>\n",
       "</div>"
      ],
      "text/plain": [
       "                                         train                          test  \\\n",
       "                                        recall precision        F1    recall   \n",
       "Logistic Regression regression        0.253968  0.012082  0.023066  0.318182   \n",
       "                    non-regression    0.867930  0.994563  0.926941  0.807600   \n",
       "                    weighted average  0.560949  0.503322  0.475004  0.562891   \n",
       "                    micro average     0.864050  0.988355  0.921230  0.806520   \n",
       "\n",
       "                                                         test_pareto  \\\n",
       "                                     precision        F1      recall   \n",
       "Logistic Regression regression        0.003644  0.007205    0.090909   \n",
       "                    non-regression    0.998136  0.892815    0.994873   \n",
       "                    weighted average  0.500890  0.450010    0.542891   \n",
       "                    micro average     0.995942  0.890861    0.992879   \n",
       "\n",
       "                                                          \n",
       "                                     precision        F1  \n",
       "Logistic Regression regression        0.037736  0.053333  \n",
       "                    non-regression    0.997983  0.996426  \n",
       "                    weighted average  0.517860  0.524880  \n",
       "                    micro average     0.995864  0.994345  "
      ]
     },
     "execution_count": 29,
     "metadata": {},
     "output_type": "execute_result"
    }
   ],
   "source": [
    "get_classification_report_df(evaluation)"
   ]
  },
  {
   "cell_type": "code",
   "execution_count": 30,
   "metadata": {},
   "outputs": [],
   "source": [
    "pipeline = evaluation['fitted_pipeline']"
   ]
  },
  {
   "cell_type": "code",
   "execution_count": 31,
   "metadata": {},
   "outputs": [
    {
     "name": "stderr",
     "output_type": "stream",
     "text": [
      "invalid value encountered in true_divide\n"
     ]
    },
    {
     "data": {
      "image/png": "[encoded data removed]",
      "text/plain": [
       "<Figure size 432x288 with 1 Axes>"
      ]
     },
     "metadata": {
      "needs_background": "light"
     },
     "output_type": "display_data"
    },
    {
     "data": {
      "image/png": "[encoded data removed]",
      "text/plain": [
       "<Figure size 432x288 with 1 Axes>"
      ]
     },
     "metadata": {
      "needs_background": "light"
     },
     "output_type": "display_data"
    },
    {
     "data": {
      "text/plain": [
       "(<Figure size 432x288 with 1 Axes>,\n",
       " <AxesSubplot:title={'center':'ROC Curve'}, xlabel='False Positive Rate', ylabel='True Positive Rate'>,\n",
       " <Figure size 432x288 with 1 Axes>,\n",
       " <AxesSubplot:title={'center':'Recall-Precision Curve'}, xlabel='Recall', ylabel='Precision'>)"
      ]
     },
     "execution_count": 31,
     "metadata": {},
     "output_type": "execute_result"
    }
   ],
   "source": [
    "plot_roc_auc_rec_prec_for_all_models(target, data, feature_type, scoring,\n",
    "    [('lr', pipeline)], X_train, X_test, y_train, y_test, save=True, figsize=(6,4), ylim=[0, 0.3 if data == 'fixed_defect_szz' else 1.0])"
   ]
  },
  {
   "cell_type": "code",
   "execution_count": 32,
   "metadata": {},
   "outputs": [
    {
     "name": "stdout",
     "output_type": "stream",
     "text": [
      "<shap.explainers._linear.Linear object at 0x7f74d5ffdbe0>\n"
     ]
    },
    {
     "data": {
      "image/png": "[encoded data removed]",
      "text/plain": [
       "<Figure size 576x540 with 2 Axes>"
      ]
     },
     "metadata": {
      "needs_background": "light"
     },
     "output_type": "display_data"
    }
   ],
   "source": [
    "import shap\n",
    "from feature_name_map import feature_name_map\n",
    "f = features\n",
    "\n",
    "kind = 'traditional'\n",
    "clf = pipeline['model']\n",
    "if 'traditional' in kind:\n",
    "    X_ = pipeline['scaler'].transform(X_test)\n",
    "    f = f.drop('target', axis=1)\n",
    "    feature_names = [feature_name_map[c] for c in f.columns]\n",
    "else:\n",
    "    X_ = X_test.toarray()\n",
    "    feature_names = f\n",
    "\n",
    "explainer = shap.Explainer(clf, X_, feature_names=feature_names)\n",
    "print(explainer)\n",
    "shap_values = explainer.shap_values(X_)\n",
    "\n",
    "shap.summary_plot(shap_values, X_, max_display=15, feature_names=feature_names, show=False)\n",
    "plt.tight_layout()\n",
    "plt.show()"
   ]
  },
  {
   "cell_type": "code",
   "execution_count": null,
   "metadata": {},
   "outputs": [],
   "source": []
  }
 ],
 "metadata": {
  "interpreter": {
   "hash": "4696bc64be58b0e5e207e22dca014ef47cd404c337c3ddfbdfdc381921ec8122"
  },
  "kernelspec": {
   "display_name": "Python 3.8.10 ('venv': venv)",
   "language": "python",
   "name": "python3"
  },
  "language_info": {
   "codemirror_mode": {
    "name": "ipython",
    "version": 3
   },
   "file_extension": ".py",
   "mimetype": "text/x-python",
   "name": "python",
   "nbconvert_exporter": "python",
   "pygments_lexer": "ipython3",
   "version": "3.8.10"
  },
  "orig_nbformat": 4
 },
 "nbformat": 4,
 "nbformat_minor": 2
}
