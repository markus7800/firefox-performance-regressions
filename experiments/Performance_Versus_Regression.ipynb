{
 "cells": [
  {
   "cell_type": "code",
   "execution_count": null,
   "metadata": {},
   "outputs": [],
   "source": [
    "%cd ..\n",
    "%pwd"
   ]
  },
  {
   "cell_type": "code",
   "execution_count": null,
   "metadata": {},
   "outputs": [],
   "source": [
    "from experiments.modeleval_utils import *"
   ]
  },
  {
   "cell_type": "code",
   "execution_count": null,
   "metadata": {},
   "outputs": [],
   "source": [
    "def print_classification_report_at_threshold(clf, X, y, threshold):\n",
    "    y_score = get_y_score(clf, X)\n",
    "    y_pred = y_score >= threshold\n",
    "    print(f'{threshold=}')\n",
    "    report = metrics.classification_report(y, y_pred, digits=4)\n",
    "    print(report)\n",
    "    roc_auc = metrics.roc_auc_score(y, y_score)\n",
    "    average_precision = metrics.average_precision_score(y, y_score)\n",
    "    print(f'{roc_auc=} {average_precision=}')"
   ]
  },
  {
   "cell_type": "code",
   "execution_count": null,
   "metadata": {},
   "outputs": [],
   "source": [
    "def fit_best_model(output_dir, model, data, feature_type, target, scoring, X_train, y_train):\n",
    "    pipeline, best_params, best_result = get_pipeline(output_dir, data, feature_type, target, scoring, model)\n",
    "    pipeline.fit(X_train, y_train)\n",
    "    return pipeline"
   ]
  },
  {
   "cell_type": "markdown",
   "metadata": {},
   "source": [
    "### Predict Performance on Regression Model"
   ]
  },
  {
   "cell_type": "code",
   "execution_count": null,
   "metadata": {},
   "outputs": [],
   "source": [
    "output_dir = 'experiments/results_FS'\n",
    "drop_columns = True"
   ]
  },
  {
   "cell_type": "code",
   "execution_count": null,
   "metadata": {},
   "outputs": [],
   "source": [
    "data = 'bugbug_buglevel'\n",
    "scoring = 'average_precision'"
   ]
  },
  {
   "cell_type": "code",
   "execution_count": null,
   "metadata": {},
   "outputs": [],
   "source": [
    "kind = 'perf_on_reg' #reg_on_perf, perf_on_reg\n",
    "\n",
    "feature_type = 'traditional'\n",
    "print(feature_type)\n",
    "\n",
    "X, y, features = data_map[feature_type][data]('regression', drop_columns)\n",
    "\n",
    "X_train, X_test, y_train, y_test = train_test_split(X, y, test_size=0.1, shuffle=False)\n",
    "\n",
    "reg_model = 'rf'\n",
    "reg_pipeline = fit_best_model(output_dir, reg_model, data, feature_type, 'regression', scoring, X_train, y_train)\n",
    "\n",
    "X_perf, y_perf, features = data_map[feature_type][data]('performance', drop_columns)\n",
    "X_perf_train, X_perf_test, y_perf_train, y_perf_test = train_test_split(X_perf, y_perf, test_size=0.1, shuffle=False)\n",
    "\n",
    "perf_model = 'lr' # best performance model\n",
    "perf_pipeline = fit_best_model(output_dir, perf_model, data, feature_type, 'performance', scoring, X_perf_train, y_perf_train)\n",
    "\n",
    "if kind == 'reg_on_perf':\n",
    "    y_ = y_perf_test\n",
    "else: # perf_on_reg\n",
    "    y_ = y_test\n",
    "\n",
    "roc_fig, roc_ax, pr_fig, pr_ax = plot_roc_auc_rec_prec_for_all_models('', data, feature_type, scoring,\n",
    "    [('Trained on perf. regs - traditional', perf_pipeline), ('Trained on all regs - traditional', reg_pipeline)],\n",
    "    X_train, X_test, y_train, y_, save=False, show=False, figsize=(6,4), ylim=[0,1.],\n",
    "    colors=['tab:blue','tab:green'], linestyles=['solid', 'solid'])\n",
    "\n",
    "\n",
    "print('Regression Model')\n",
    "reg_t, _ = get_best_f1_threshold(reg_pipeline, X_train, y_train)\n",
    "print_classification_report_at_threshold(reg_pipeline, X_test, y_, reg_t)\n",
    "\n",
    "print('Performance Model')\n",
    "perf_t, _ = get_best_f1_threshold(perf_pipeline, X_perf_train, y_perf_train)\n",
    "print_classification_report_at_threshold(perf_pipeline, X_test, y_, perf_t)\n",
    "\n",
    "\n",
    "\n",
    "\n",
    "feature_type = 'bow'\n",
    "print(feature_type)\n",
    "\n",
    "X, y, features = data_map[feature_type][data]('regression')\n",
    "\n",
    "X_train, X_test, y_train, y_test = train_test_split(X, y, test_size=0.1, shuffle=False)\n",
    "\n",
    "reg_model = 'xgb'\n",
    "reg_pipeline = fit_best_model(output_dir, reg_model, data, feature_type, 'regression', scoring, X_train, y_train)\n",
    "\n",
    "X_perf, y_perf, features = data_map[feature_type][data]('performance')\n",
    "X_perf_train, X_perf_test, y_perf_train, y_perf_test = train_test_split(X_perf, y_perf, test_size=0.1, shuffle=False)\n",
    "\n",
    "perf_model = 'lr' # best performance model\n",
    "perf_pipeline = fit_best_model(output_dir, perf_model, data, feature_type, 'performance', scoring, X_perf_train, y_perf_train)\n",
    "\n",
    "_ = plot_roc_auc_rec_prec_for_all_models('', data, feature_type, scoring,\n",
    "    [('Trained on perf. regs - bow', perf_pipeline), ('Trained on all regs - bow', reg_pipeline)],\n",
    "    X_train, X_test, y_train, y_, figsize=(6,4), ylim=[0,1.],\n",
    "    colors=['tab:orange','tab:red'], linestyles=['solid', 'solid'],\n",
    "    roc_fig=roc_fig, roc_ax=roc_ax, pr_fig=pr_fig, pr_ax=pr_ax,\n",
    "    save=True, path=os.path.join(output_dir, f'plots_perf_vs_reg/{kind}'))\n",
    "\n",
    "plt.show()\n",
    "\n",
    "\n",
    "print('Regression Model')\n",
    "reg_t, _ = get_best_f1_threshold(reg_pipeline, X_train, y_train)\n",
    "print_classification_report_at_threshold(reg_pipeline, X_test, y_, reg_t)\n",
    "\n",
    "print('Performance Model')\n",
    "perf_t, _ = get_best_f1_threshold(perf_pipeline, X_perf_train, y_perf_train)\n",
    "print_classification_report_at_threshold(perf_pipeline, X_test, y_, perf_t)\n"
   ]
  },
  {
   "cell_type": "code",
   "execution_count": null,
   "metadata": {},
   "outputs": [],
   "source": []
  }
 ],
 "metadata": {
  "interpreter": {
   "hash": "4696bc64be58b0e5e207e22dca014ef47cd404c337c3ddfbdfdc381921ec8122"
  },
  "kernelspec": {
   "display_name": "Python 3.8.10 ('venv': venv)",
   "language": "python",
   "name": "python3"
  },
  "language_info": {
   "codemirror_mode": {
    "name": "ipython",
    "version": 3
   },
   "file_extension": ".py",
   "mimetype": "text/x-python",
   "name": "python",
   "nbconvert_exporter": "python",
   "pygments_lexer": "ipython3",
   "version": "3.8.10"
  },
  "orig_nbformat": 4
 },
 "nbformat": 4,
 "nbformat_minor": 2
}
