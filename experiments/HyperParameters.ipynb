{
 "cells": [
  {
   "cell_type": "code",
   "execution_count": null,
   "metadata": {},
   "outputs": [],
   "source": [
    "%cd ..\n",
    "%pwd"
   ]
  },
  {
   "cell_type": "code",
   "execution_count": null,
   "metadata": {},
   "outputs": [],
   "source": [
    "from experiments.modeleval_utils import *"
   ]
  },
  {
   "cell_type": "code",
   "execution_count": null,
   "metadata": {},
   "outputs": [],
   "source": [
    "# no feature selection\n",
    "#output_dir = 'experiments/results'\n",
    "#drop_columns = False # feature selection\n",
    "\n",
    "# feature selection\n",
    "output_dir = 'experiments/results_FS'\n",
    "drop_columns = True "
   ]
  },
  {
   "cell_type": "code",
   "execution_count": null,
   "metadata": {},
   "outputs": [],
   "source": [
    "scoring = 'average_precision'\n",
    "best_params_per_model = {}\n",
    "\n",
    "for model in models:\n",
    "    best_params_model = []\n",
    "    for (data, target) in [('fixed_defect_szz', 'performance'), ('bugbug_buglevel', 'performance'), ('bugbug_buglevel', 'regression')]:\n",
    "        for feature_type in ['traditional', 'bow']:\n",
    "                try:\n",
    "                    results = get_results(output_dir, data, feature_type, target, scoring, model)\n",
    "                    params = get_params(results)\n",
    "                    best_params = get_best_params(model, params)\n",
    "                    del best_params['model']\n",
    "                    best_params['sampler'] = str(best_params['sampler'])\n",
    "\n",
    "                    index = {  \n",
    "                        'Model': model_names[model],\n",
    "                        'Data': data, \n",
    "                        'Feature Type': feature_type,\n",
    "                        'Target': target\n",
    "                        }\n",
    "                    best_params_model.append({**index, **best_params})\n",
    "                except FileNotFoundError:\n",
    "                    pass\n",
    "    if len(best_params_model) == 0:\n",
    "        continue\n",
    "\n",
    "    df = pd.DataFrame(best_params_model)\n",
    "    df = df.replace({\n",
    "                    'None': 'No sampling',\n",
    "                    'RandomOverSampler(random_state=0)': 'Random Over-Sampling',\n",
    "                    'RandomUnderSampler(random_state=0)': 'Random Under-Sampling',\n",
    "                    'SMOTE(random_state=0)': 'SMOTE'\n",
    "                    })\n",
    "\n",
    "    df = df.replace({\n",
    "        'fixed_defect_szz': 'SZZ',\n",
    "        'bugbug_buglevel': 'bugbug'\n",
    "    })\n",
    "    df = df.replace({\n",
    "        'performance': 'perf. regressions',\n",
    "        'regression': 'all regressions',\n",
    "        'bow': 'bag-of-words'\n",
    "    })\n",
    "    df.set_index(pd.MultiIndex.from_frame(df[['Data','Target', 'Feature Type',]]), inplace=True)\n",
    "    df = df.drop(['Model','Data','Feature Type','Target'], axis=1)\n",
    "    def rename_f(c):\n",
    "        if 'model' in c:\n",
    "            c = c[7:]\n",
    "        if 'kernel' in c:\n",
    "            c = c[8:]\n",
    "        return c.capitalize()\n",
    "\n",
    "    df = df.rename(rename_f, axis=1)\n",
    "    best_params_per_model[model] = df\n",
    "                "
   ]
  },
  {
   "cell_type": "code",
   "execution_count": null,
   "metadata": {},
   "outputs": [],
   "source": [
    "best_params_per_model['lr']"
   ]
  },
  {
   "cell_type": "code",
   "execution_count": null,
   "metadata": {},
   "outputs": [],
   "source": [
    "print(best_params_per_model['lr'].to_latex())"
   ]
  },
  {
   "cell_type": "code",
   "execution_count": null,
   "metadata": {},
   "outputs": [],
   "source": []
  }
 ],
 "metadata": {
  "interpreter": {
   "hash": "4696bc64be58b0e5e207e22dca014ef47cd404c337c3ddfbdfdc381921ec8122"
  },
  "kernelspec": {
   "display_name": "Python 3.8.10 ('venv': venv)",
   "language": "python",
   "name": "python3"
  },
  "language_info": {
   "codemirror_mode": {
    "name": "ipython",
    "version": 3
   },
   "file_extension": ".py",
   "mimetype": "text/x-python",
   "name": "python",
   "nbconvert_exporter": "python",
   "pygments_lexer": "ipython3",
   "version": "3.8.10"
  },
  "orig_nbformat": 4
 },
 "nbformat": 4,
 "nbformat_minor": 2
}
