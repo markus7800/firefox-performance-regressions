{
 "cells": [
  {
   "cell_type": "code",
   "execution_count": 1,
   "metadata": {},
   "outputs": [],
   "source": [
    "%load_ext autoreload\n",
    "%autoreload 2"
   ]
  },
  {
   "cell_type": "code",
   "execution_count": 2,
   "metadata": {},
   "outputs": [
    {
     "name": "stdout",
     "output_type": "stream",
     "text": [
      "/home/markus/Documents/regression-prediction\n"
     ]
    },
    {
     "data": {
      "text/plain": [
       "'/home/markus/Documents/regression-prediction'"
      ]
     },
     "execution_count": 2,
     "metadata": {},
     "output_type": "execute_result"
    }
   ],
   "source": [
    "%cd ..\n",
    "%pwd"
   ]
  },
  {
   "cell_type": "code",
   "execution_count": 3,
   "metadata": {},
   "outputs": [
    {
     "name": "stderr",
     "output_type": "stream",
     "text": [
      "/home/markus/Documents/regression-prediction/venv/lib/python3.8/site-packages/xgboost/compat.py:36: FutureWarning: pandas.Int64Index is deprecated and will be removed from pandas in a future version. Use pandas.Index with the appropriate dtype instead.\n",
      "  from pandas import MultiIndex, Int64Index\n"
     ]
    }
   ],
   "source": [
    "from experiments.modeleval_utils import *"
   ]
  },
  {
   "cell_type": "code",
   "execution_count": 32,
   "metadata": {},
   "outputs": [],
   "source": [
    "output_dir = 'experiments/results_FS'\n",
    "drop_columns = True"
   ]
  },
  {
   "cell_type": "code",
   "execution_count": 33,
   "metadata": {},
   "outputs": [],
   "source": [
    "def fit_best_model(model, data, feature_type, target, scoring):\n",
    "    X, y, features = data_map[feature_type][data](target, drop_columns)\n",
    "    X_train, X_test, y_train, y_test = train_test_split(X, y, test_size=0.1, shuffle=False)\n",
    "    pipeline, best_params, best_result = get_pipeline(output_dir, data, feature_type, target, scoring, model)\n",
    "    pipeline.fit(X_train, y_train)\n",
    "    t, f1 = get_best_f1_threshold(pipeline, X_train, y_train)\n",
    "    return pipeline, t"
   ]
  },
  {
   "cell_type": "code",
   "execution_count": 34,
   "metadata": {},
   "outputs": [],
   "source": [
    "def predict_at_threshold(clf, X, t):\n",
    "    y_score = get_y_score(clf, X)\n",
    "    return (y_score >= t).astype(int)"
   ]
  },
  {
   "cell_type": "code",
   "execution_count": 35,
   "metadata": {},
   "outputs": [
    {
     "name": "stdout",
     "output_type": "stream",
     "text": [
      "performance: 589 positive 0.59% - negative 99105 99.41%\n",
      "X.shape=(99694, 301)\n",
      "\n",
      "performance: 589 positive 0.59% - negative 99105 99.41%\n",
      "X.shape=(99694, 50000)\n",
      "\n",
      "performance: 1880 positive 2.77% - negative 66041 97.23%\n",
      "X.shape=(67921, 302)\n",
      "\n",
      "performance: 1880 positive 2.77% - negative 66041 97.23%\n",
      "X.shape=(67921, 50000)\n",
      "\n",
      "regression: 14287 positive 21.03% - negative 53634 78.97%\n",
      "X.shape=(67921, 302)\n",
      "\n",
      "regression: 14287 positive 21.03% - negative 53634 78.97%\n",
      "X.shape=(67921, 50000)\n",
      "\n"
     ]
    }
   ],
   "source": [
    "datas = {\n",
    "    'szz_traditional': data_map['traditional']['fixed_defect_szz']('performance', drop_columns),\n",
    "    'szz_bow': data_map['bow']['fixed_defect_szz']('performance'),\n",
    "    'bugbug_traditional': data_map['traditional']['bugbug_buglevel']('performance', drop_columns),\n",
    "    'bugbug_bow': data_map['bow']['bugbug_buglevel']('performance'),\n",
    "    'bugbug_reg_traditional': data_map['traditional']['bugbug_buglevel']('regression', drop_columns),\n",
    "    'bugbug_reg_bow': data_map['bow']['bugbug_buglevel']('regression')\n",
    "}"
   ]
  },
  {
   "cell_type": "code",
   "execution_count": 36,
   "metadata": {},
   "outputs": [
    {
     "name": "stdout",
     "output_type": "stream",
     "text": [
      "performance: 589 positive 0.59% - negative 99105 99.41%\n",
      "X.shape=(99694, 301)\n",
      "\n"
     ]
    },
    {
     "name": "stderr",
     "output_type": "stream",
     "text": [
      "The max_iter was reached which means the coef_ did not converge\n"
     ]
    },
    {
     "name": "stdout",
     "output_type": "stream",
     "text": [
      "performance: 589 positive 0.59% - negative 99105 99.41%\n",
      "X.shape=(99694, 50000)\n",
      "\n",
      "performance: 1880 positive 2.77% - negative 66041 97.23%\n",
      "X.shape=(67921, 302)\n",
      "\n",
      "performance: 1880 positive 2.77% - negative 66041 97.23%\n",
      "X.shape=(67921, 50000)\n",
      "\n",
      "regression: 14287 positive 21.03% - negative 53634 78.97%\n",
      "X.shape=(67921, 302)\n",
      "\n"
     ]
    },
    {
     "name": "stderr",
     "output_type": "stream",
     "text": [
      "The max_iter was reached which means the coef_ did not converge\n"
     ]
    },
    {
     "name": "stdout",
     "output_type": "stream",
     "text": [
      "regression: 14287 positive 21.03% - negative 53634 78.97%\n",
      "X.shape=(67921, 50000)\n",
      "\n"
     ]
    }
   ],
   "source": [
    "pipelines = {\n",
    "    'szz_traditional': fit_best_model('lr', 'fixed_defect_szz', 'traditional', 'performance', 'average_precision'),\n",
    "    'szz_bow': fit_best_model('lr', 'fixed_defect_szz', 'bow', 'performance', 'average_precision'),\n",
    "    'bugbug_traditional': fit_best_model('lr', 'bugbug_buglevel', 'traditional', 'performance', 'average_precision'),\n",
    "    'bugbug_bow': fit_best_model('lr', 'bugbug_buglevel', 'bow', 'performance', 'average_precision'),\n",
    "    'bugbug_reg_traditional': fit_best_model('lr', 'bugbug_buglevel', 'traditional', 'regression', 'average_precision'),\n",
    "    'bugbug_reg_bow': fit_best_model('lr', 'bugbug_buglevel', 'bow', 'regression', 'average_precision')\n",
    "}"
   ]
  },
  {
   "cell_type": "code",
   "execution_count": 9,
   "metadata": {},
   "outputs": [],
   "source": [
    "from feature_name_map import feature_name_map"
   ]
  },
  {
   "cell_type": "code",
   "execution_count": 39,
   "metadata": {},
   "outputs": [
    {
     "data": {
      "text/plain": [
       "{'developer_age': 'Developer Seniority',\n",
       " 'developer_experience': 'Developer Experience',\n",
       " 'recent_developer_experience': 'Recent Developer Experience',\n",
       " 'backouts_developer': '# Backouts from Developer',\n",
       " 'recent_backouts_developer': '# Recent Backouts from Developer',\n",
       " 'sum_developer_experience_directory': 'Developer Experience in Directory (sum)',\n",
       " 'sum_developer_experience_subsystem': 'Developer Experience in Subsystem (sum)',\n",
       " 'sum_recent_developer_experience_subsystem': 'Recent Developer Experience in Subsystem (sum)',\n",
       " 'sum_recent_developer_experience_directory': 'Recent Developer Experience in Directory (sum)',\n",
       " 'mean_developer_experience_directory': 'Developer Experience in Directory (mean)',\n",
       " 'mean_developer_experience_subsystem': 'Developer Experience in Subsystem (mean)',\n",
       " 'mean_recent_developer_experience_subsystem': 'Recent Developer Experience in Subsystem (mean)',\n",
       " 'mean_recent_developer_experience_directory': 'Recent Developer Experience in Directory (mean)',\n",
       " 'max_developer_experience_directory': 'Developer Experience in Directory (max)',\n",
       " 'max_developer_experience_subsystem': 'Developer Experience in Subsystem (max)',\n",
       " 'max_recent_developer_experience_subsystem': 'Recent Developer Experience in Subsystem (max)',\n",
       " 'max_recent_developer_experience_directory': 'Recent Developer Experience in Directory (max)',\n",
       " 'min_developer_experience_directory': 'Developer Experience in Directory (min)',\n",
       " 'min_developer_experience_subsystem': 'Developer Experience in Subsystem (min)',\n",
       " 'min_recent_developer_experience_subsystem': 'Recent Developer Experience in Subsystem (min)',\n",
       " 'min_recent_developer_experience_directory': 'Recent Developer Experience in Directory (min)',\n",
       " 'lines_added': '# Lines Added',\n",
       " 'lines_deleted': '# Lines Deleted',\n",
       " 'lines_modified': '# Lines Modified',\n",
       " 'number_of_modified_files': '# Files Modified',\n",
       " 'number_of_subsystems': '# Subsytems',\n",
       " 'number_of_directories': '# Directories',\n",
       " 'entropy_lines_modified': 'Code Entropy',\n",
       " 'comment_length': 'Comment Length',\n",
       " 'number_of_commits': '# Commits',\n",
       " 'sum_backouts_subsystem': '# Backouts Subsystem (sum)',\n",
       " 'sum_backouts_directory': '# Backouts Directory (sum)',\n",
       " 'sum_recent_backouts_subsystem': '# Recent Backouts Subsystem (sum)',\n",
       " 'sum_recent_backouts_directory': '# Recent Backouts Directory (sum)',\n",
       " 'sum_file_changes': '# Historic File Changes (sum)',\n",
       " 'sum_file_ages': 'File Age (sum)',\n",
       " 'sum_file_commits_since_last_change': '# Commits Since Last Modified (sum)',\n",
       " 'sum_file_number_of_developers': '# Developers (sum)',\n",
       " 'mean_backouts_subsystem': '# Backouts Subsystem (mean)',\n",
       " 'mean_backouts_directory': '# Backouts Directory (mean)',\n",
       " 'mean_recent_backouts_subsystem': '# Recent Backouts Subsystem (mean)',\n",
       " 'mean_recent_backouts_directory': '# Recent Backouts Directory (mean)',\n",
       " 'mean_file_changes': '# Historic File Changes (mean)',\n",
       " 'mean_file_ages': 'File Age (mean)',\n",
       " 'mean_file_commits_since_last_change': '# Commits Since Last Modified (mean)',\n",
       " 'mean_file_number_of_developers': '# Developers (mean)',\n",
       " 'max_backouts_subsystem': '# Backouts Subsystem (max)',\n",
       " 'max_backouts_directory': '# Backouts Directory (max)',\n",
       " 'max_recent_backouts_subsystem': '# Recent Backouts Subsystem (max)',\n",
       " 'max_recent_backouts_directory': '# Recent Backouts Directory (max)',\n",
       " 'max_file_changes': '# Historic File Changes (max)',\n",
       " 'max_file_ages': 'File Age (max)',\n",
       " 'max_file_commits_since_last_change': '# Commits Since Last Modified (max)',\n",
       " 'max_file_number_of_developers': '# Developers (max)',\n",
       " 'min_backouts_subsystem': '# Backouts Subsystem (min)',\n",
       " 'min_backouts_directory': '# Backouts Directory (min)',\n",
       " 'min_recent_backouts_subsystem': '# Recent Backouts Subsystem (min)',\n",
       " 'min_recent_backouts_directory': '# Recent Backouts Directory (min)',\n",
       " 'min_file_changes': '# Historic File Changes (min)',\n",
       " 'min_file_ages': 'File Age (min)',\n",
       " 'min_file_commits_since_last_change': '# Commits Since Last Modified (min)',\n",
       " 'min_file_number_of_developers': '# Developers (min)',\n",
       " 'sum_nargs_sum': '# Arguments (sum)',\n",
       " 'sum_nexits_sum': '# Exits (sum)',\n",
       " 'sum_cognitive_sum': 'Cognitive Complexity (sum)',\n",
       " 'sum_cyclomatic_sum': 'Cyclomatic Complexity (sum)',\n",
       " 'sum_cyclomatic_average': 'Cyclomatic Complexity (sum)',\n",
       " 'sum_halstead_n1': 'Halstead n1 (sum)',\n",
       " 'sum_halstead_N1': 'Halstead N1 (sum)',\n",
       " 'sum_halstead_n2': 'Halstead n2 (sum)',\n",
       " 'sum_halstead_N2': 'Halstead N2 (sum)',\n",
       " 'sum_halstead_length': 'Halstead Length (sum)',\n",
       " 'sum_halstead_estimated_program_length': 'Halstead Program Length (sum)',\n",
       " 'sum_halstead_purity_ratio': 'Halstead Purity Ratio (sum)',\n",
       " 'sum_halstead_vocabulary': 'Halstead Vocabulary (sum)',\n",
       " 'sum_halstead_volume': 'Halstead Volume (sum)',\n",
       " 'sum_halstead_difficulty': 'Halstead Difficulty (sum)',\n",
       " 'sum_halstead_level': 'Halstead Level (sum)',\n",
       " 'sum_halstead_effort': 'Halstead Effort (sum)',\n",
       " 'sum_halstead_time': 'Halstead Time (sum)',\n",
       " 'sum_halstead_bugs': 'Halstead Bugs (sum)',\n",
       " 'sum_loc_sloc': '# Source Lines (sum)',\n",
       " 'sum_loc_ploc': '# Physical Lines (sum)',\n",
       " 'sum_loc_lloc': '# Logical Lines (sum)',\n",
       " 'sum_loc_cloc': '# Comment Lines (sum)',\n",
       " 'sum_loc_blank': '# Blank Lines (sum)',\n",
       " 'sum_nom_functions': '# Functions (sum)',\n",
       " 'sum_nom_closures': '# Closures (sum)',\n",
       " 'sum_nom_total': '# Methods (sum)',\n",
       " 'sum_mi_mi_original': 'Maintainability Index (sum)',\n",
       " 'sum_mi_mi_sei': 'Maintainability Index SEI (sum)',\n",
       " 'sum_mi_mi_visual_studio': 'Maintainability Index VSC (sum)',\n",
       " 'mean_nargs_sum': '# Arguments (mean)',\n",
       " 'mean_nexits_sum': '# Exits (mean)',\n",
       " 'mean_cognitive_sum': 'Cognitive Complexity (mean)',\n",
       " 'mean_cyclomatic_sum': 'Cyclomatic Complexity (mean)',\n",
       " 'mean_cyclomatic_average': 'Cyclomatic Complexity (mean)',\n",
       " 'mean_halstead_n1': 'Halstead n1 (mean)',\n",
       " 'mean_halstead_N1': 'Halstead N1 (mean)',\n",
       " 'mean_halstead_n2': 'Halstead n2 (mean)',\n",
       " 'mean_halstead_N2': 'Halstead N2 (mean)',\n",
       " 'mean_halstead_length': 'Halstead Length (mean)',\n",
       " 'mean_halstead_estimated_program_length': 'Halstead Program Length (mean)',\n",
       " 'mean_halstead_purity_ratio': 'Halstead Purity Ratio (mean)',\n",
       " 'mean_halstead_vocabulary': 'Halstead Vocabulary (mean)',\n",
       " 'mean_halstead_volume': 'Halstead Volume (mean)',\n",
       " 'mean_halstead_difficulty': 'Halstead Difficulty (mean)',\n",
       " 'mean_halstead_level': 'Halstead Level (mean)',\n",
       " 'mean_halstead_effort': 'Halstead Effort (mean)',\n",
       " 'mean_halstead_time': 'Halstead Time (mean)',\n",
       " 'mean_halstead_bugs': 'Halstead Bugs (mean)',\n",
       " 'mean_loc_sloc': '# Source Lines (mean)',\n",
       " 'mean_loc_ploc': '# Physical Lines (mean)',\n",
       " 'mean_loc_lloc': '# Logical Lines (mean)',\n",
       " 'mean_loc_cloc': '# Comment Lines (mean)',\n",
       " 'mean_loc_blank': '# Blank Lines (mean)',\n",
       " 'mean_nom_functions': '# Functions (mean)',\n",
       " 'mean_nom_closures': '# Closures (mean)',\n",
       " 'mean_nom_total': '# Methods (mean)',\n",
       " 'mean_mi_mi_original': 'Maintainability Index (mean)',\n",
       " 'mean_mi_mi_sei': 'Maintainability Index SEI (mean)',\n",
       " 'mean_mi_mi_visual_studio': 'Maintainability Index VSC (mean)',\n",
       " 'max_nargs_sum': '# Arguments (max)',\n",
       " 'max_nexits_sum': '# Exits (max)',\n",
       " 'max_cognitive_sum': 'Cognitive Complexity (max)',\n",
       " 'max_cyclomatic_sum': 'Cyclomatic Complexity (max)',\n",
       " 'max_cyclomatic_average': 'Cyclomatic Complexity (max)',\n",
       " 'max_halstead_n1': 'Halstead n1 (max)',\n",
       " 'max_halstead_N1': 'Halstead N1 (max)',\n",
       " 'max_halstead_n2': 'Halstead n2 (max)',\n",
       " 'max_halstead_N2': 'Halstead N2 (max)',\n",
       " 'max_halstead_length': 'Halstead Length (max)',\n",
       " 'max_halstead_estimated_program_length': 'Halstead Program Length (max)',\n",
       " 'max_halstead_purity_ratio': 'Halstead Purity Ratio (max)',\n",
       " 'max_halstead_vocabulary': 'Halstead Vocabulary (max)',\n",
       " 'max_halstead_volume': 'Halstead Volume (max)',\n",
       " 'max_halstead_difficulty': 'Halstead Difficulty (max)',\n",
       " 'max_halstead_level': 'Halstead Level (max)',\n",
       " 'max_halstead_effort': 'Halstead Effort (max)',\n",
       " 'max_halstead_time': 'Halstead Time (max)',\n",
       " 'max_halstead_bugs': 'Halstead Bugs (max)',\n",
       " 'max_loc_sloc': '# Source Lines (max)',\n",
       " 'max_loc_ploc': '# Physical Lines (max)',\n",
       " 'max_loc_lloc': '# Logical Lines (max)',\n",
       " 'max_loc_cloc': '# Comment Lines (max)',\n",
       " 'max_loc_blank': '# Blank Lines (max)',\n",
       " 'max_nom_functions': '# Functions (max)',\n",
       " 'max_nom_closures': '# Closures (max)',\n",
       " 'max_nom_total': '# Methods (max)',\n",
       " 'max_mi_mi_original': 'Maintainability Index (max)',\n",
       " 'max_mi_mi_sei': 'Maintainability Index SEI (max)',\n",
       " 'max_mi_mi_visual_studio': 'Maintainability Index VSC (max)',\n",
       " 'min_nargs_sum': '# Arguments (min)',\n",
       " 'min_nexits_sum': '# Exits (min)',\n",
       " 'min_cognitive_sum': 'Cognitive Complexity (min)',\n",
       " 'min_cyclomatic_sum': 'Cyclomatic Complexity (min)',\n",
       " 'min_cyclomatic_average': 'Cyclomatic Complexity (min)',\n",
       " 'min_halstead_n1': 'Halstead n1 (min)',\n",
       " 'min_halstead_N1': 'Halstead N1 (min)',\n",
       " 'min_halstead_n2': 'Halstead n2 (min)',\n",
       " 'min_halstead_N2': 'Halstead N2 (min)',\n",
       " 'min_halstead_length': 'Halstead Length (min)',\n",
       " 'min_halstead_estimated_program_length': 'Halstead Program Length (min)',\n",
       " 'min_halstead_purity_ratio': 'Halstead Purity Ratio (min)',\n",
       " 'min_halstead_vocabulary': 'Halstead Vocabulary (min)',\n",
       " 'min_halstead_volume': 'Halstead Volume (min)',\n",
       " 'min_halstead_difficulty': 'Halstead Difficulty (min)',\n",
       " 'min_halstead_level': 'Halstead Level (min)',\n",
       " 'min_halstead_effort': 'Halstead Effort (min)',\n",
       " 'min_halstead_time': 'Halstead Time (min)',\n",
       " 'min_halstead_bugs': 'Halstead Bugs (min)',\n",
       " 'min_loc_sloc': '# Source Lines (min)',\n",
       " 'min_loc_ploc': '# Physical Lines (min)',\n",
       " 'min_loc_lloc': '# Logical Lines (min)',\n",
       " 'min_loc_cloc': '# Comment Lines (min)',\n",
       " 'min_loc_blank': '# Blank Lines (min)',\n",
       " 'min_nom_functions': '# Functions (min)',\n",
       " 'min_nom_closures': '# Closures (min)',\n",
       " 'min_nom_total': '# Methods (min)',\n",
       " 'min_mi_mi_original': 'Maintainability Index (min)',\n",
       " 'min_mi_mi_sei': 'Maintainability Index SEI (min)',\n",
       " 'min_mi_mi_visual_studio': 'Maintainability Index VSC (min)',\n",
       " 'sum_delta_nargs_sum': 'Delta # Arguments (sum)',\n",
       " 'sum_delta_nexits_sum': 'Delta # Exits (sum)',\n",
       " 'sum_delta_cognitive_sum': 'Delta Cognitive Complexity (sum)',\n",
       " 'sum_delta_cyclomatic_sum': 'Delta Cyclomatic Complexity (sum)',\n",
       " 'sum_delta_cyclomatic_average': 'Delta Cyclomatic Complexity (sum)',\n",
       " 'sum_delta_halstead_n1': 'Delta Halstead n1 (sum)',\n",
       " 'sum_delta_halstead_N1': 'Delta Halstead N1 (sum)',\n",
       " 'sum_delta_halstead_n2': 'Delta Halstead n2 (sum)',\n",
       " 'sum_delta_halstead_N2': 'Delta Halstead N2 (sum)',\n",
       " 'sum_delta_halstead_length': 'Delta Halstead Length (sum)',\n",
       " 'sum_delta_halstead_estimated_program_length': 'Delta Halstead Program Length (sum)',\n",
       " 'sum_delta_halstead_purity_ratio': 'Delta Halstead Purity Ratio (sum)',\n",
       " 'sum_delta_halstead_vocabulary': 'Delta Halstead Vocabulary (sum)',\n",
       " 'sum_delta_halstead_volume': 'Delta Halstead Volume (sum)',\n",
       " 'sum_delta_halstead_difficulty': 'Delta Halstead Difficulty (sum)',\n",
       " 'sum_delta_halstead_level': 'Delta Halstead Level (sum)',\n",
       " 'sum_delta_halstead_effort': 'Delta Halstead Effort (sum)',\n",
       " 'sum_delta_halstead_time': 'Delta Halstead Time (sum)',\n",
       " 'sum_delta_halstead_bugs': 'Delta Halstead Bugs (sum)',\n",
       " 'sum_delta_loc_sloc': 'Delta # Source Lines (sum)',\n",
       " 'sum_delta_loc_ploc': 'Delta # Physical Lines (sum)',\n",
       " 'sum_delta_loc_lloc': 'Delta # Logical Lines (sum)',\n",
       " 'sum_delta_loc_cloc': 'Delta # Comment Lines (sum)',\n",
       " 'sum_delta_loc_blank': 'Delta # Blank Lines (sum)',\n",
       " 'sum_delta_nom_functions': 'Delta # Functions (sum)',\n",
       " 'sum_delta_nom_closures': 'Delta # Closures (sum)',\n",
       " 'sum_delta_nom_total': 'Delta # Methods (sum)',\n",
       " 'sum_delta_mi_mi_original': 'Delta Maintainability Index (sum)',\n",
       " 'sum_delta_mi_mi_sei': 'Delta Maintainability Index SEI (sum)',\n",
       " 'sum_delta_mi_mi_visual_studio': 'Delta Maintainability Index VSC (sum)',\n",
       " 'mean_delta_nargs_sum': 'Delta # Arguments (mean)',\n",
       " 'mean_delta_nexits_sum': 'Delta # Exits (mean)',\n",
       " 'mean_delta_cognitive_sum': 'Delta Cognitive Complexity (mean)',\n",
       " 'mean_delta_cyclomatic_sum': 'Delta Cyclomatic Complexity (mean)',\n",
       " 'mean_delta_cyclomatic_average': 'Delta Cyclomatic Complexity (mean)',\n",
       " 'mean_delta_halstead_n1': 'Delta Halstead n1 (mean)',\n",
       " 'mean_delta_halstead_N1': 'Delta Halstead N1 (mean)',\n",
       " 'mean_delta_halstead_n2': 'Delta Halstead n2 (mean)',\n",
       " 'mean_delta_halstead_N2': 'Delta Halstead N2 (mean)',\n",
       " 'mean_delta_halstead_length': 'Delta Halstead Length (mean)',\n",
       " 'mean_delta_halstead_estimated_program_length': 'Delta Halstead Program Length (mean)',\n",
       " 'mean_delta_halstead_purity_ratio': 'Delta Halstead Purity Ratio (mean)',\n",
       " 'mean_delta_halstead_vocabulary': 'Delta Halstead Vocabulary (mean)',\n",
       " 'mean_delta_halstead_volume': 'Delta Halstead Volume (mean)',\n",
       " 'mean_delta_halstead_difficulty': 'Delta Halstead Difficulty (mean)',\n",
       " 'mean_delta_halstead_level': 'Delta Halstead Level (mean)',\n",
       " 'mean_delta_halstead_effort': 'Delta Halstead Effort (mean)',\n",
       " 'mean_delta_halstead_time': 'Delta Halstead Time (mean)',\n",
       " 'mean_delta_halstead_bugs': 'Delta Halstead Bugs (mean)',\n",
       " 'mean_delta_loc_sloc': 'Delta # Source Lines (mean)',\n",
       " 'mean_delta_loc_ploc': 'Delta # Physical Lines (mean)',\n",
       " 'mean_delta_loc_lloc': 'Delta # Logical Lines (mean)',\n",
       " 'mean_delta_loc_cloc': 'Delta # Comment Lines (mean)',\n",
       " 'mean_delta_loc_blank': 'Delta # Blank Lines (mean)',\n",
       " 'mean_delta_nom_functions': 'Delta # Functions (mean)',\n",
       " 'mean_delta_nom_closures': 'Delta # Closures (mean)',\n",
       " 'mean_delta_nom_total': 'Delta # Methods (mean)',\n",
       " 'mean_delta_mi_mi_original': 'Delta Maintainability Index (mean)',\n",
       " 'mean_delta_mi_mi_sei': 'Delta Maintainability Index SEI (mean)',\n",
       " 'mean_delta_mi_mi_visual_studio': 'Delta Maintainability Index VSC (mean)',\n",
       " 'max_delta_nargs_sum': 'Delta # Arguments (max)',\n",
       " 'max_delta_nexits_sum': 'Delta # Exits (max)',\n",
       " 'max_delta_cognitive_sum': 'Delta Cognitive Complexity (max)',\n",
       " 'max_delta_cyclomatic_sum': 'Delta Cyclomatic Complexity (max)',\n",
       " 'max_delta_cyclomatic_average': 'Delta Cyclomatic Complexity (max)',\n",
       " 'max_delta_halstead_n1': 'Delta Halstead n1 (max)',\n",
       " 'max_delta_halstead_N1': 'Delta Halstead N1 (max)',\n",
       " 'max_delta_halstead_n2': 'Delta Halstead n2 (max)',\n",
       " 'max_delta_halstead_N2': 'Delta Halstead N2 (max)',\n",
       " 'max_delta_halstead_length': 'Delta Halstead Length (max)',\n",
       " 'max_delta_halstead_estimated_program_length': 'Delta Halstead Program Length (max)',\n",
       " 'max_delta_halstead_purity_ratio': 'Delta Halstead Purity Ratio (max)',\n",
       " 'max_delta_halstead_vocabulary': 'Delta Halstead Vocabulary (max)',\n",
       " 'max_delta_halstead_volume': 'Delta Halstead Volume (max)',\n",
       " 'max_delta_halstead_difficulty': 'Delta Halstead Difficulty (max)',\n",
       " 'max_delta_halstead_level': 'Delta Halstead Level (max)',\n",
       " 'max_delta_halstead_effort': 'Delta Halstead Effort (max)',\n",
       " 'max_delta_halstead_time': 'Delta Halstead Time (max)',\n",
       " 'max_delta_halstead_bugs': 'Delta Halstead Bugs (max)',\n",
       " 'max_delta_loc_sloc': 'Delta # Source Lines (max)',\n",
       " 'max_delta_loc_ploc': 'Delta # Physical Lines (max)',\n",
       " 'max_delta_loc_lloc': 'Delta # Logical Lines (max)',\n",
       " 'max_delta_loc_cloc': 'Delta # Comment Lines (max)',\n",
       " 'max_delta_loc_blank': 'Delta # Blank Lines (max)',\n",
       " 'max_delta_nom_functions': 'Delta # Functions (max)',\n",
       " 'max_delta_nom_closures': 'Delta # Closures (max)',\n",
       " 'max_delta_nom_total': 'Delta # Methods (max)',\n",
       " 'max_delta_mi_mi_original': 'Delta Maintainability Index (max)',\n",
       " 'max_delta_mi_mi_sei': 'Delta Maintainability Index SEI (max)',\n",
       " 'max_delta_mi_mi_visual_studio': 'Delta Maintainability Index VSC (max)',\n",
       " 'min_delta_nargs_sum': 'Delta # Arguments (min)',\n",
       " 'min_delta_nexits_sum': 'Delta # Exits (min)',\n",
       " 'min_delta_cognitive_sum': 'Delta Cognitive Complexity (min)',\n",
       " 'min_delta_cyclomatic_sum': 'Delta Cyclomatic Complexity (min)',\n",
       " 'min_delta_cyclomatic_average': 'Delta Cyclomatic Complexity (min)',\n",
       " 'min_delta_halstead_n1': 'Delta Halstead n1 (min)',\n",
       " 'min_delta_halstead_N1': 'Delta Halstead N1 (min)',\n",
       " 'min_delta_halstead_n2': 'Delta Halstead n2 (min)',\n",
       " 'min_delta_halstead_N2': 'Delta Halstead N2 (min)',\n",
       " 'min_delta_halstead_length': 'Delta Halstead Length (min)',\n",
       " 'min_delta_halstead_estimated_program_length': 'Delta Halstead Program Length (min)',\n",
       " 'min_delta_halstead_purity_ratio': 'Delta Halstead Purity Ratio (min)',\n",
       " 'min_delta_halstead_vocabulary': 'Delta Halstead Vocabulary (min)',\n",
       " 'min_delta_halstead_volume': 'Delta Halstead Volume (min)',\n",
       " 'min_delta_halstead_difficulty': 'Delta Halstead Difficulty (min)',\n",
       " 'min_delta_halstead_level': 'Delta Halstead Level (min)',\n",
       " 'min_delta_halstead_effort': 'Delta Halstead Effort (min)',\n",
       " 'min_delta_halstead_time': 'Delta Halstead Time (min)',\n",
       " 'min_delta_halstead_bugs': 'Delta Halstead Bugs (min)',\n",
       " 'min_delta_loc_sloc': 'Delta # Source Lines (min)',\n",
       " 'min_delta_loc_ploc': 'Delta # Physical Lines (min)',\n",
       " 'min_delta_loc_lloc': 'Delta # Logical Lines (min)',\n",
       " 'min_delta_loc_cloc': 'Delta # Comment Lines (min)',\n",
       " 'min_delta_loc_blank': 'Delta # Blank Lines (min)',\n",
       " 'min_delta_nom_functions': 'Delta # Functions (min)',\n",
       " 'min_delta_nom_closures': 'Delta # Closures (min)',\n",
       " 'min_delta_nom_total': 'Delta # Methods (min)',\n",
       " 'min_delta_mi_mi_original': 'Delta Maintainability Index (min)',\n",
       " 'min_delta_mi_mi_sei': 'Delta Maintainability Index SEI (min)',\n",
       " 'min_delta_mi_mi_visual_studio': 'Delta Maintainability Index VSC (min)'}"
      ]
     },
     "execution_count": 39,
     "metadata": {},
     "output_type": "execute_result"
    }
   ],
   "source": [
    "feature_name_map"
   ]
  },
  {
   "cell_type": "code",
   "execution_count": 38,
   "metadata": {},
   "outputs": [
    {
     "name": "stdout",
     "output_type": "stream",
     "text": [
      "<shap.explainers._linear.Linear object at 0x7f36f519c3d0>\n"
     ]
    },
    {
     "data": {
      "image/png": "[encoded data removed]",
      "text/plain": [
       "<Figure size 576x540 with 2 Axes>"
      ]
     },
     "metadata": {
      "needs_background": "light"
     },
     "output_type": "display_data"
    }
   ],
   "source": [
    "import shap\n",
    "kind = 'bugbug_traditional'\n",
    "\n",
    "X, y, f = datas[kind]\n",
    "pipeline, t = pipelines[kind]\n",
    "X_train, X_test, y_train, y_test = train_test_split(X, y, test_size=0.1, shuffle=False)\n",
    "\n",
    "clf = pipeline['model']\n",
    "if 'traditional' in kind:\n",
    "    X_ = pipeline['scaler'].transform(X_test)\n",
    "    f = f.drop('target', axis=1)\n",
    "    feature_names = [feature_name_map[c] for c in f.columns]\n",
    "else:\n",
    "    X_ = X_test.toarray()\n",
    "    feature_names = f\n",
    "\n",
    "explainer = shap.Explainer(clf, X_, feature_names=feature_names)\n",
    "print(explainer)\n",
    "shap_values = explainer.shap_values(X_)\n",
    "\n",
    "shap.summary_plot(shap_values, X_, max_display=15, feature_names=feature_names, show=False)\n",
    "plt.tight_layout()\n",
    "plt.savefig(os.path.join(output_dir, f'plots_interpretability/summary_{kind}.pdf'))"
   ]
  },
  {
   "cell_type": "code",
   "execution_count": 31,
   "metadata": {},
   "outputs": [
    {
     "data": {
      "image/png": "[encoded data removed]",
      "text/plain": [
       "<Figure size 576x468 with 3 Axes>"
      ]
     },
     "metadata": {},
     "output_type": "display_data"
    }
   ],
   "source": [
    "commitlevel_ix = 90291\n",
    "buglevel_ix = 61674\n",
    "ix = buglevel_ix if 'bugbug' in kind else commitlevel_ix\n",
    "\n",
    "x = X_[[ix - X_train.shape[0]],:]\n",
    "\n",
    "explainer = shap.Explainer(clf, X_, feature_names=feature_names)\n",
    "shap_values = explainer(x)\n",
    "plt.ioff()\n",
    "shap.waterfall_plot(shap_values[0], show=False)\n",
    "#plt.gcf()\n",
    "plt.tight_layout()\n",
    "plt.savefig(os.path.join(output_dir, f'plots_interpretability/waterfall_{kind}.pdf'))"
   ]
  },
  {
   "cell_type": "code",
   "execution_count": null,
   "metadata": {},
   "outputs": [],
   "source": [
    "shap.initjs()\n",
    "\n",
    "X_rus = RandomUnderSampler(random_state=0).fit_resample(X_, y_test)[0]\n",
    "explainer = shap.KernelExplainer(clf.decision_function, X_rus, feature_names=feature_names, link='logit')\n",
    "shap.plots._waterfall.waterfall_legacy(explainer.expected_value[0], shap_values[0][0,:], x, feature_names=feature_names)"
   ]
  },
  {
   "cell_type": "code",
   "execution_count": null,
   "metadata": {},
   "outputs": [],
   "source": []
  },
  {
   "cell_type": "code",
   "execution_count": null,
   "metadata": {},
   "outputs": [],
   "source": []
  },
  {
   "cell_type": "markdown",
   "metadata": {},
   "source": [
    "#### Finding candidate commit for investigation"
   ]
  },
  {
   "cell_type": "code",
   "execution_count": 16,
   "metadata": {},
   "outputs": [],
   "source": [
    "F_buglevel = pd.read_csv('data/feature_extractor/features_buglevel.csv')\n",
    "F_commitlevel = pd.read_csv('data/feature_extractor/features_commitlevel.csv')\n",
    "\n",
    "rev_to_commitlevel_ix = {rev: i for i, rev in enumerate(F_commitlevel['revision'])}\n",
    "commitlevel_ix_to_rev = list(F_commitlevel['revision'])\n",
    "\n",
    "rev_to_buglevel_ix = {}\n",
    "buglevel_ix_to_rev = list(F_buglevel['revisions'])\n",
    "for i, row in F_buglevel[['first_revision', 'revisions']].iterrows():\n",
    "    first_rev = row['first_revision']\n",
    "    revs = row['revisions']\n",
    "    #print(i, first_rev, revs)\n",
    "    for rev in revs.split(','):\n",
    "        rev_to_buglevel_ix[rev] = i\n",
    "\n",
    "del F_buglevel; del F_commitlevel"
   ]
  },
  {
   "cell_type": "code",
   "execution_count": 17,
   "metadata": {},
   "outputs": [
    {
     "data": {
      "text/plain": [
       "(99694, 99694, 99694, 67921)"
      ]
     },
     "execution_count": 17,
     "metadata": {},
     "output_type": "execute_result"
    }
   ],
   "source": [
    "len(rev_to_commitlevel_ix), len(commitlevel_ix_to_rev), len(rev_to_buglevel_ix), len(buglevel_ix_to_rev)"
   ]
  },
  {
   "cell_type": "code",
   "execution_count": 18,
   "metadata": {},
   "outputs": [],
   "source": [
    "szz_tps = read_data_from_json('experiments/results/szz_regressed_by_tp.json')"
   ]
  },
  {
   "cell_type": "code",
   "execution_count": 19,
   "metadata": {},
   "outputs": [
    {
     "data": {
      "text/plain": [
       "(103, 125)"
      ]
     },
     "execution_count": 19,
     "metadata": {},
     "output_type": "execute_result"
    }
   ],
   "source": [
    "szz_tps_buglevel_ix = []\n",
    "szz_tps_commitlevel_ix = []\n",
    "\n",
    "for rev in szz_tps:\n",
    "    try:\n",
    "        szz_tps_buglevel_ix.append(rev_to_buglevel_ix[rev])\n",
    "    except KeyError:\n",
    "        pass\n",
    "    try:\n",
    "        szz_tps_commitlevel_ix.append(rev_to_commitlevel_ix[rev])\n",
    "    except KeyError:\n",
    "        pass\n",
    "    \n",
    "szz_tps_buglevel_ix = sorted(list(set(szz_tps_buglevel_ix)))\n",
    "szz_tps_commitlevel_ix = sorted(list(set(szz_tps_commitlevel_ix)))\n",
    "len(szz_tps_buglevel_ix), len(szz_tps_commitlevel_ix)"
   ]
  },
  {
   "cell_type": "code",
   "execution_count": 20,
   "metadata": {},
   "outputs": [
    {
     "name": "stdout",
     "output_type": "stream",
     "text": [
      "125 125\n"
     ]
    },
    {
     "data": {
      "text/plain": [
       "(3, 48)"
      ]
     },
     "execution_count": 20,
     "metadata": {},
     "output_type": "execute_result"
    }
   ],
   "source": [
    "kind = 'szz'\n",
    "szz_tps_ixs = szz_tps_commitlevel_ix if kind == 'szz' else szz_tps_buglevel_ix\n",
    "szz_tps_ixs = np.array(szz_tps_ixs)\n",
    "\n",
    "X, y, _ = datas[kind + '_traditional']\n",
    "clf, t = pipelines[kind + '_traditional']\n",
    "y_pred_traditional = predict_at_threshold(clf, X[szz_tps_ixs, :], t)\n",
    "\n",
    "print(y[szz_tps_ixs].sum(), len(szz_tps_ixs))\n",
    "\n",
    "X, y, _ = datas[kind + '_bow']\n",
    "clf, t = pipelines[kind + '_bow']\n",
    "y_pred_bow = predict_at_threshold(clf, X[szz_tps_ixs, :], t)\n",
    "\n",
    "y_pred_traditional.sum(), y_pred_bow.sum()"
   ]
  },
  {
   "cell_type": "code",
   "execution_count": 21,
   "metadata": {},
   "outputs": [
    {
     "data": {
      "text/plain": [
       "array([90291])"
      ]
     },
     "execution_count": 21,
     "metadata": {},
     "output_type": "execute_result"
    }
   ],
   "source": [
    "test_threshold = X.shape[0] * 0.9\n",
    "disagreements = szz_tps_ixs[(y_pred_traditional < y_pred_bow)]\n",
    "disagreements[disagreements > test_threshold]"
   ]
  },
  {
   "cell_type": "code",
   "execution_count": 22,
   "metadata": {},
   "outputs": [
    {
     "data": {
      "text/plain": [
       "('9ac290ec5884fd52bb6c16e9794da5b42f211cbb',\n",
       " 61674,\n",
       " '9d579691527b18c375569ac395b49e7ed3e21e0a,92e9abe2b2ad6eb513e806acd411470f4a767040,12f2689105713966aa58ac36ba4975ae93636f79,9ac290ec5884fd52bb6c16e9794da5b42f211cbb')"
      ]
     },
     "execution_count": 22,
     "metadata": {},
     "output_type": "execute_result"
    }
   ],
   "source": [
    "commit_ix = 90291\n",
    "rev = commitlevel_ix_to_rev[commit_ix]\n",
    "bug_ix = rev_to_buglevel_ix[rev]\n",
    "rev, bug_ix, buglevel_ix_to_rev[bug_ix]"
   ]
  },
  {
   "cell_type": "code",
   "execution_count": 25,
   "metadata": {},
   "outputs": [
    {
     "data": {
      "text/plain": [
       "(1, 1)"
      ]
     },
     "execution_count": 25,
     "metadata": {},
     "output_type": "execute_result"
    }
   ],
   "source": [
    "kind = 'bugbug_reg'\n",
    "ix = bug_ix if 'bugbug' in kind else commit_ix\n",
    "\n",
    "X, y, _ = datas[kind + '_traditional']\n",
    "clf, t = pipelines[kind + '_traditional']\n",
    "y_pred_traditional = predict_at_threshold(clf, X[[ix], :], t)\n",
    "\n",
    "X, y, _ = datas[kind + '_bow']\n",
    "clf, t = pipelines[kind + '_bow']\n",
    "y_pred_bow = predict_at_threshold(clf, X[[ix], :], t)\n",
    "\n",
    "y_pred_traditional[0], y_pred_bow[0]"
   ]
  },
  {
   "cell_type": "code",
   "execution_count": null,
   "metadata": {},
   "outputs": [],
   "source": []
  }
 ],
 "metadata": {
  "interpreter": {
   "hash": "4696bc64be58b0e5e207e22dca014ef47cd404c337c3ddfbdfdc381921ec8122"
  },
  "kernelspec": {
   "display_name": "Python 3.8.10 ('venv': venv)",
   "language": "python",
   "name": "python3"
  },
  "language_info": {
   "codemirror_mode": {
    "name": "ipython",
    "version": 3
   },
   "file_extension": ".py",
   "mimetype": "text/x-python",
   "name": "python",
   "nbconvert_exporter": "python",
   "pygments_lexer": "ipython3",
   "version": "3.8.10"
  },
  "orig_nbformat": 4
 },
 "nbformat": 4,
 "nbformat_minor": 2
}
